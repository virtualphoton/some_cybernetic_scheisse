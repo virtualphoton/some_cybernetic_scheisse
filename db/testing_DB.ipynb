{
 "cells": [
  {
   "cell_type": "code",
   "execution_count": null,
   "id": "b6f0de49-b420-4b97-8b05-e44a06ad617b",
   "metadata": {},
   "outputs": [],
   "source": [
    "import requests"
   ]
  },
  {
   "cell_type": "code",
   "execution_count": null,
   "id": "cdeacd0b-a33a-4d06-bed0-7660d8383852",
   "metadata": {},
   "outputs": [],
   "source": [
    "t = requests.post('http://127.0.0.1:5000/api/add_user', json={\n",
    "    'secret_key': 'abcdef',\n",
    "    'username': 'admin',\n",
    "    'role': 'admin'\n",
    "})\n",
    "print(t.text)"
   ]
  },
  {
   "cell_type": "code",
   "execution_count": null,
   "id": "2ae0be9b-6033-40b1-889b-83e227162d32",
   "metadata": {
    "tags": []
   },
   "outputs": [],
   "source": [
    "t = requests.post('http://127.0.0.1:5000/api/add_resource', json={\n",
    "    'user_id': 1,\n",
    "    'resource_type': 'camera',\n",
    "    'name': 'cam',\n",
    "    'connection': 'url',\n",
    "    'address': 'sth/url'\n",
    "})\n",
    "print(t.text)\n",
    "if t.status_code == 400:\n",
    "    print(t.text)\n",
    "t = requests.post('http://127.0.0.1:5000/api/list_resources',\n",
    "                  json={'user_id': 1, 'resource_type': 'machine'})\n",
    "print(t.text)\n",
    "if t.status_code == 400:\n",
    "    print(t.text)\n",
    "t = requests.post('http://127.0.0.1:5000/api/list_resources',\n",
    "                  json={'user_id': 1, 'resource_type': 'camera'})\n",
    "print(t.text)"
   ]
  },
  {
   "cell_type": "code",
   "execution_count": null,
   "id": "1aa45e2c-7fb0-4b9b-8a69-eb56915c856c",
   "metadata": {},
   "outputs": [],
   "source": [
    "t = requests.post('http://127.0.0.1:5000/api/delete_resource', json={\n",
    "    'user_id': 1,\n",
    "    'resource_type': 'machine',\n",
    "    'delete_id': 2\n",
    "})\n",
    "print(t.text)"
   ]
  },
  {
   "cell_type": "code",
   "execution_count": null,
   "id": "12926cbe-333d-4ae7-81ef-466d69be7a84",
   "metadata": {},
   "outputs": [],
   "source": [
    "t = requests.post('http://127.0.0.1:5000/api/add_user', json={\n",
    "    'secret_key': 'abcdef',\n",
    "    'username': 'another_user',\n",
    "    'role': 'user'\n",
    "})\n",
    "print(t.text)\n",
    "t = requests.post('http://127.0.0.1:5000/api/add_user', json={\n",
    "    'secret_key': 'abcdef',\n",
    "    'username': 'some_user',\n",
    "    'role': 'user'\n",
    "})\n",
    "print(t.text)"
   ]
  },
  {
   "cell_type": "code",
   "execution_count": null,
   "id": "2ce5748c-d4c9-4c9b-80a0-b7efa2f500b2",
   "metadata": {},
   "outputs": [],
   "source": [
    "t = requests.post('http://127.0.0.1:5000/api/list_usernames', json={\n",
    "    'user_id': 1,\n",
    "})\n",
    "usernames = t.json()\n",
    "print(usernames)\n",
    "t = requests.post('http://127.0.0.1:5000/api/user_id_from_username', json={\n",
    "    'user_id': 1,\n",
    "    'username': usernames[-1]\n",
    "})\n",
    "print(t.json())"
   ]
  },
  {
   "cell_type": "code",
   "execution_count": null,
   "id": "5a460ed5-08ea-448f-aa4b-7787b48e1eba",
   "metadata": {},
   "outputs": [],
   "source": [
    "t = requests.post('http://127.0.0.1:5000/api/get_my_username', json={\n",
    "    'user_id': 1,\n",
    "})\n",
    "print(t.text)"
   ]
  },
  {
   "cell_type": "code",
   "execution_count": null,
   "id": "69d5a517-a92d-4916-931e-1ed4d6bb8d0c",
   "metadata": {},
   "outputs": [],
   "source": [
    "t = requests.post('http://127.0.0.1:5000/api/give_resource', json={\n",
    "    'user_id': 1,\n",
    "    'target_user_id': 2,\n",
    "    'resource_type': 'camera',\n",
    "    'resource_id': 1\n",
    "})\n",
    "print(t.text)\n",
    "\n",
    "t = requests.post('http://127.0.0.1:5000/api/list_user_resources', json={\n",
    "    'user_id': 1,\n",
    "    'target_id': 2,\n",
    "    'resource_type': 'camera',\n",
    "})\n",
    "print(t.text)\n",
    "t = requests.post('http://127.0.0.1:5000/api/revoke_resource', json={\n",
    "    'user_id': 1,\n",
    "    'target_user_id': 2,\n",
    "    'resource_type': 'camera',\n",
    "    'resource_id': 1\n",
    "})\n",
    "print(t.text)\n",
    "t = requests.post('http://127.0.0.1:5000/api/revoke_resource', json={\n",
    "    'user_id': 1,\n",
    "    'target_user_id': 2,\n",
    "    'resource_type': 'camera',\n",
    "    'resource_id': 1\n",
    "})\n",
    "print(t.text)"
   ]
  },
  {
   "cell_type": "code",
   "execution_count": null,
   "id": "3de247ce-a21b-4149-9480-c18b14b42c70",
   "metadata": {},
   "outputs": [],
   "source": [
    "t = requests.post('http://127.0.0.1:5000/api/add_resource', json={\n",
    "    'user_id': 1,\n",
    "    'resource_type': 'machine',\n",
    "    'name': 'mach',\n",
    "    'url': 'fja;l/ff',\n",
    "    'js_path': 'js/path',\n",
    "    'aruco_id': 20\n",
    "})\n",
    "\n",
    "for i in range(4):\n",
    "    t = requests.post('http://127.0.0.1:5000/api/add_command', json={\n",
    "        'user_id': 1,\n",
    "        'machine': 1,\n",
    "        'name': f'some_cmd_{i}'\n",
    "    })\n",
    "    print(t.text)"
   ]
  },
  {
   "cell_type": "code",
   "execution_count": null,
   "id": "fc2e39c5-3923-4e87-8e04-5f4de44cd8f1",
   "metadata": {},
   "outputs": [],
   "source": [
    "t = requests.post('http://127.0.0.1:5000/api/give_resource', json={\n",
    "    'user_id': 1,\n",
    "    'target_user_id': 2,\n",
    "    'resource_type': 'machine',\n",
    "    'resource_id': 1\n",
    "})"
   ]
  },
  {
   "cell_type": "code",
   "execution_count": null,
   "id": "637ca7f1-6826-495e-bc06-9f63536a3514",
   "metadata": {},
   "outputs": [],
   "source": [
    "t = requests.post('http://127.0.0.1:5000/api/list_commands', json={\n",
    "    'user_id': 1,\n",
    "    'target_id': 1\n",
    "})\n",
    "print(t.text)\n",
    "\n",
    "t = requests.post('http://127.0.0.1:5000/api/list_commands', json={\n",
    "    'user_id': 2,\n",
    "    'target_id': 1\n",
    "})\n",
    "print(t.text)\n",
    "\n",
    "t = requests.post('http://127.0.0.1:5000/api/list_commands', json={\n",
    "    'user_id': 3,\n",
    "    'target_id': 1\n",
    "})\n",
    "print(t.text)"
   ]
  },
  {
   "cell_type": "code",
   "execution_count": null,
   "id": "1b60ceff-9e5e-419b-adda-fd71f538b279",
   "metadata": {},
   "outputs": [],
   "source": [
    "t = requests.post('http://127.0.0.1:5000/api/delete_command', json={\n",
    "    'user_id': 1,\n",
    "    'delete_id': 1\n",
    "})\n",
    "print(t.text)\n",
    "t = requests.post('http://127.0.0.1:5000/api/list_commands', json={\n",
    "    'user_id': 2,\n",
    "    'target_id': 1\n",
    "})\n",
    "print(t.text)"
   ]
  },
  {
   "cell_type": "code",
   "execution_count": null,
   "id": "afb446a7-122b-43b7-8520-678fe6075799",
   "metadata": {},
   "outputs": [],
   "source": [
    "t = requests.post('http://127.0.0.1:5000/api/list_commands', json={\n",
    "    'user_id': 1,\n",
    "    'target_id': 1\n",
    "})\n",
    "print(t.text)"
   ]
  },
  {
   "cell_type": "code",
   "execution_count": null,
   "id": "32e4ca8e-3754-40a3-ba9e-6829c4784326",
   "metadata": {},
   "outputs": [],
   "source": [
    "t = requests.post('http://127.0.0.1:5000/api/add_user', json={\n",
    "    'secret_key': 'abcdef',\n",
    "    'username': 'another_user123',\n",
    "    'role': 'user'\n",
    "})\n",
    "print(t.text)\n",
    "\n",
    "t = requests.post('http://127.0.0.1:5000/api/user_id_from_username', json={\n",
    "    'user_id': 1,\n",
    "    'username': 'another_user123'\n",
    "})\n",
    "\n",
    "t = requests.post('http://127.0.0.1:5000/api/delete_user_account', json={\n",
    "    'user_id': 1,\n",
    "    'delete_id': t.json()\n",
    "})\n",
    "print(t.text)\n"
   ]
  },
  {
   "cell_type": "code",
   "execution_count": null,
   "id": "03716554-acc4-45f3-9062-08ff87aecb2b",
   "metadata": {},
   "outputs": [],
   "source": [
    "t = requests.post('http://127.0.0.1:5000/api/add_user', json={\n",
    "    'secret_key': 'abcdef',\n",
    "    'username': 'another_user123',\n",
    "    'role': 'user'\n",
    "})\n",
    "print(t.text)\n",
    "\n",
    "t = requests.post('http://127.0.0.1:5000/api/user_id_from_username', json={\n",
    "    'user_id': 1,\n",
    "    'username': 'another_user123'\n",
    "})\n",
    "\n",
    "t = requests.post('http://127.0.0.1:5000/api/delete_my_account', json={\n",
    "    'user_id': t.json()\n",
    "})\n",
    "print(t.text)\n"
   ]
  },
  {
   "cell_type": "code",
   "execution_count": null,
   "id": "263384df-8378-46c8-9195-ed27e93035ba",
   "metadata": {},
   "outputs": [],
   "source": [
    "t = requests.post('http://127.0.0.1:5000/api/add_spec', json={\n",
    "    'user_id': 1,\n",
    "    'name': 'str',\n",
    "    'machine': 1,\n",
    "    'commands': [2, 4]\n",
    "})\n",
    "\n",
    "t = requests.post('http://127.0.0.1:5000/api/list_specs', json={\n",
    "    'user_id': 1,\n",
    "    'target_id': 1,\n",
    "})\n",
    "print(t.text)\n",
    "\n",
    "t = requests.post('http://127.0.0.1:5000/api/delete_spec', json={\n",
    "    'user_id': 1,\n",
    "    'delete_id': 1,\n",
    "})\n",
    "print(t.text)"
   ]
  },
  {
   "cell_type": "code",
   "execution_count": null,
   "id": "46b59720-a09c-4042-8df9-7860507af30f",
   "metadata": {},
   "outputs": [],
   "source": [
    "t = requests.post('http://127.0.0.1:5000/api/add_spec', json={\n",
    "    'user_id': 1,\n",
    "    'name': 'str',\n",
    "    'machine': 1,\n",
    "    'commands': [2, 4]\n",
    "})\n",
    "t = requests.post('http://127.0.0.1:5000/api/add_command_to_spec', json={\n",
    "    'user_id': 1,\n",
    "    'spec_id': 1,\n",
    "    'command_id': 3\n",
    "})\n",
    "print(t.text)"
   ]
  },
  {
   "cell_type": "code",
   "execution_count": null,
   "id": "e2d3a1dc-92ed-45bc-a094-ad81a90187e5",
   "metadata": {},
   "outputs": [],
   "source": [
    "t = requests.post('http://127.0.0.1:5000/api/list_spec_commands', json={\n",
    "    'user_id': 1,\n",
    "    'target_id': 1,\n",
    "})\n",
    "print(t.text)"
   ]
  },
  {
   "cell_type": "code",
   "execution_count": null,
   "id": "d658019f-3496-429b-b247-19e1fd94f935",
   "metadata": {},
   "outputs": [],
   "source": [
    "t = requests.post('http://127.0.0.1:5000/api/delete_command_from_spec', json={\n",
    "    'user_id': 1,\n",
    "    'spec_id': 1,\n",
    "    'command_id': 3\n",
    "})\n",
    "print(t.text)"
   ]
  },
  {
   "cell_type": "code",
   "execution_count": null,
   "id": "a3aebc04-6bbe-4e62-9aac-e484f322ba86",
   "metadata": {},
   "outputs": [],
   "source": [
    "t = requests.post('http://127.0.0.1:5000/api/give_resource', json={\n",
    "    'user_id': 1,\n",
    "    'target_user_id': 2,\n",
    "    'resource_type': 'camera',\n",
    "    'resource_id': 1\n",
    "})\n",
    "print(t.text)"
   ]
  },
  {
   "cell_type": "code",
   "execution_count": null,
   "id": "ba1d8ef1-ede3-447e-8226-7ce1b1b6a5b8",
   "metadata": {},
   "outputs": [],
   "source": [
    "t = requests.post('http://127.0.0.1:5000/api/create_group', json={\n",
    "    'user_id': 2,\n",
    "    'name': 'my_group',\n",
    "    'cameras': [1],\n",
    "    'machine_specs': [1]\n",
    "})\n",
    "print(t.text)\n",
    "\n",
    "t = requests.post('http://127.0.0.1:5000/api/list_groups', json={\n",
    "    'user_id': 2\n",
    "})\n",
    "print(t.text)\n",
    "\n",
    "t = requests.post('http://127.0.0.1:5000/api/delete_group', json={\n",
    "    'user_id': 2,\n",
    "    'delete_id': 1\n",
    "})\n",
    "print(t.text)"
   ]
  },
  {
   "cell_type": "code",
   "execution_count": null,
   "id": "15c0422d-e1ae-43f2-9b50-63075b253f88",
   "metadata": {},
   "outputs": [],
   "source": [
    "t = requests.post('http://127.0.0.1:5000/api/add_resource', json={\n",
    "    'user_id': 1,\n",
    "    'resource_type': 'camera',\n",
    "    'name': 'camfal;jk;',\n",
    "    'connection': 'usb',\n",
    "    'address': '1'\n",
    "})\n",
    "print(t)\n",
    "\n",
    "t = requests.post('http://127.0.0.1:5000/api/give_resource', json={\n",
    "    'user_id': 1,\n",
    "    'target_user_id': 2,\n",
    "    'resource_type': 'camera',\n",
    "    'resource_id': 2\n",
    "})\n",
    "print(t.text)"
   ]
  },
  {
   "cell_type": "code",
   "execution_count": null,
   "id": "8bfbadde-9152-4204-9936-740d2914860d",
   "metadata": {},
   "outputs": [],
   "source": [
    "t = requests.post('http://127.0.0.1:5000/api/create_group', json={\n",
    "    'user_id': 2,\n",
    "    'name': 'my_group',\n",
    "    'cameras': [1],\n",
    "    'machine_specs': [1]\n",
    "})\n",
    "print(t.text)\n",
    "t = requests.post('http://127.0.0.1:5000/api/add_resource_to_group', json={\n",
    "    'user_id': 1,\n",
    "    'group_id': 1,\n",
    "    'resource_type': 'camera',\n",
    "    'resource_id': 1\n",
    "})\n",
    "print(t.text)"
   ]
  },
  {
   "cell_type": "code",
   "execution_count": null,
   "id": "8456c0cc-a931-4235-9536-61cdb52ceee0",
   "metadata": {},
   "outputs": [],
   "source": [
    "t = requests.post('http://127.0.0.1:5000/api/list_group_resources', json={\n",
    "    'user_id': 1,\n",
    "    'group_id': 1,\n",
    "    'resource_type': 'camera',\n",
    "})\n",
    "print(t.text)"
   ]
  },
  {
   "cell_type": "code",
   "execution_count": null,
   "id": "62db49ed-a356-4dd1-b1bc-0319b422b87e",
   "metadata": {},
   "outputs": [],
   "source": [
    "t = requests.post('http://127.0.0.1:5000/api/delete_resource_from_group', json={\n",
    "    'user_id': 1,\n",
    "    'group_id': 1,\n",
    "    'resource_type': 'camera',\n",
    "    'resource_id': 1\n",
    "})\n",
    "print(t.text)"
   ]
  },
  {
   "cell_type": "code",
   "execution_count": null,
   "id": "406807ae-bd56-4ce1-baa9-3666d01578d1",
   "metadata": {},
   "outputs": [],
   "source": [
    "t = requests.post('http://127.0.0.1:5000/api/add_to_group', json={\n",
    "    'user_id': 1,\n",
    "    'group_id': 1,\n",
    "    'target_user_id': 3\n",
    "})\n",
    "print(t.text)\n",
    "\n",
    "t = requests.post('http://127.0.0.1:5000/api/list_group_members', json={\n",
    "    'user_id': 1,\n",
    "    'target_id': 1,\n",
    "})\n",
    "print(t.text)\n",
    "\n",
    "t = requests.post('http://127.0.0.1:5000/api/delete_from_group', json={\n",
    "    'user_id': 1,\n",
    "    'group_id': 1,\n",
    "    'target_user_id': 3\n",
    "})\n",
    "print(t.text)"
   ]
  },
  {
   "cell_type": "code",
   "execution_count": null,
   "id": "83c8f874-e0f0-452f-8a00-c240c9545ed2",
   "metadata": {},
   "outputs": [],
   "source": [
    "t = requests.post('http://127.0.0.1:5000/api/add_to_group', json={\n",
    "    'user_id': 1,\n",
    "    'group_id': 1,\n",
    "    'target_user_id': 3\n",
    "})\n",
    "print(t.text)\n",
    "t = requests.post('http://127.0.0.1:5000/api/list_groups_i_am_in', json={\n",
    "    'user_id': 3,\n",
    "})\n",
    "print(t.text)\n",
    "\n",
    "t = requests.post('http://127.0.0.1:5000/api/leave_group', json={\n",
    "    'user_id': 3,\n",
    "    'group_id': 1\n",
    "})\n",
    "print(t.text)\n",
    "t = requests.post('http://127.0.0.1:5000/api/list_groups_i_am_in', json={\n",
    "    'user_id': 3,\n",
    "})\n",
    "print(t.text)\n"
   ]
  },
  {
   "cell_type": "code",
   "execution_count": null,
   "id": "e9ebe7ef-dbea-4e8e-b3c2-5518e4b6eeb7",
   "metadata": {},
   "outputs": [],
   "source": [
    "t = requests.post('http://127.0.0.1:5000/api/delete_resource', json={\n",
    "    'user_id': 1,\n",
    "    'resource_type': 'machine',\n",
    "    'delete_id': 1\n",
    "})\n",
    "print(t.text)"
   ]
  }
 ],
 "metadata": {
  "kernelspec": {
   "display_name": "Python 3 (ipykernel)",
   "language": "python",
   "name": "python3"
  },
  "language_info": {
   "codemirror_mode": {
    "name": "ipython",
    "version": 3
   },
   "file_extension": ".py",
   "mimetype": "text/x-python",
   "name": "python",
   "nbconvert_exporter": "python",
   "pygments_lexer": "ipython3",
   "version": "3.10.6"
  }
 },
 "nbformat": 4,
 "nbformat_minor": 5
}
