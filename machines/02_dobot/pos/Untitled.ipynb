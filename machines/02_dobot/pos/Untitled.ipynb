{
 "cells": [
  {
   "cell_type": "markdown",
   "id": "bc9fe461-cc84-440d-b72f-3d69e3d4dae6",
   "metadata": {},
   "source": [
    "Steps to connect via wifi:\n",
    "\n",
    "1) connect via usb, launch `SearchDobot`\n",
    "2) change port's permissions, connect to it\n",
    "3) assert that green bulb is on wifi module\n",
    "4) get ip using `GetWIFIIPAddress`\n",
    "5) disconnect and then connect via ip"
   ]
  },
  {
   "cell_type": "code",
   "execution_count": 2,
   "id": "0bc7d73b-fc3f-4206-bf88-ffbb5eb5cd9a",
   "metadata": {},
   "outputs": [],
   "source": [
    "import sys\n",
    "sys.path.insert(0, \"..\")\n",
    "\n",
    "import os\n",
    "import DobotDllType as dT\n",
    "os.environ[\"LD_LIBRARY_PATH\"] = \":/usr/DobotDllOutput\""
   ]
  },
  {
   "cell_type": "code",
   "execution_count": 3,
   "id": "9d84d21c-7590-430e-867d-c694d132e337",
   "metadata": {},
   "outputs": [],
   "source": [
    "api = dT.load()"
   ]
  },
  {
   "cell_type": "code",
   "execution_count": 4,
   "id": "dcef84fa-942d-40a3-a71c-e03729e1561b",
   "metadata": {},
   "outputs": [
    {
     "data": {
      "text/plain": [
       "['ttyUSB0']"
      ]
     },
     "execution_count": 4,
     "metadata": {},
     "output_type": "execute_result"
    }
   ],
   "source": [
    "dT.SearchDobot(api)"
   ]
  },
  {
   "cell_type": "code",
   "execution_count": 5,
   "id": "60e7d9fc-aca0-468f-bc81-9ac3e6112c23",
   "metadata": {},
   "outputs": [
    {
     "name": "stdout",
     "output_type": "stream",
     "text": [
      "0\n",
      "[1, 192, 168, 124, 186]\n"
     ]
    }
   ],
   "source": [
    "api = dT.load()\n",
    "err = dT.ConnectDobot(api, dT.SearchDobot(api)[0], 115200)[0]\n",
    "print(err)\n",
    "if not err:\n",
    "    print(dT.GetWIFIIPAddress(api))\n",
    "    dT.DisconnectDobot(api)"
   ]
  },
  {
   "cell_type": "code",
   "execution_count": 4,
   "id": "8fed4c06-f030-4a7b-8e6c-243b22ea8adb",
   "metadata": {},
   "outputs": [
    {
     "data": {
      "text/plain": [
       "0"
      ]
     },
     "execution_count": 4,
     "metadata": {},
     "output_type": "execute_result"
    }
   ],
   "source": [
    "api = dT.load()\n",
    "connected = dT.ConnectDobot(api, \"192.168.124.186\", 115200)[0]\n",
    "connected"
   ]
  }
 ],
 "metadata": {
  "kernelspec": {
   "display_name": "Python 3 (ipykernel)",
   "language": "python",
   "name": "python3"
  },
  "language_info": {
   "codemirror_mode": {
    "name": "ipython",
    "version": 3
   },
   "file_extension": ".py",
   "mimetype": "text/x-python",
   "name": "python",
   "nbconvert_exporter": "python",
   "pygments_lexer": "ipython3",
   "version": "3.11.8"
  }
 },
 "nbformat": 4,
 "nbformat_minor": 5
}
