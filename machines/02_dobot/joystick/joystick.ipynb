{
 "cells": [
  {
   "cell_type": "code",
   "execution_count": 1,
   "metadata": {},
   "outputs": [],
   "source": [
    "# sudo xboxdrv --silent"
   ]
  },
  {
   "cell_type": "code",
   "execution_count": 2,
   "metadata": {},
   "outputs": [],
   "source": [
    "%load_ext autoreload\n",
    "%autoreload 2"
   ]
  },
  {
   "cell_type": "code",
   "execution_count": 1,
   "metadata": {},
   "outputs": [],
   "source": [
    "import signal\n",
    "from xbox360controller import Xbox360Controller\n",
    "import json\n",
    "from websocket import create_connection\n",
    "\n",
    "def send_cmd(command, *args, **kwargs):\n",
    "    req = dict(command=command,\n",
    "               args=args,\n",
    "               kwargs=kwargs)\n",
    "    data = json.dumps(req)\n",
    "    ws = create_connection(\"ws://localhost:9001\")\n",
    "    ws.send(data)\n",
    "    res = json.loads(ws.recv())\n",
    "    ws.close()\n",
    "    return res"
   ]
  },
  {
   "cell_type": "code",
   "execution_count": 4,
   "metadata": {},
   "outputs": [],
   "source": [
    "import ipywidgets as widgets\n",
    "from IPython.display import clear_output, display\n",
    "import numpy as np\n",
    "\n",
    "def move_delta(move):\n",
    "    send_cmd(\"move_delta\", **move)\n",
    "\n",
    "def move_on_button_press(slider):\n",
    "    def inner(button):\n",
    "        to_axis = {\"y\": \"+z\",         \"a\": \"-z\"\n",
    "                #   , \"x\": \"-y\",         \"b\": \"-y\"\n",
    "                #   , \"trigger_r\": \"+z\", \"trigger_l\": \"-z\"\n",
    "                  }\n",
    "        if (cmd := to_axis.get(button.name[7:])) is None:\n",
    "            return\n",
    "        sign, axis = {\"-\": -1, \"+\": 1}[cmd[0]], cmd[1]\n",
    "        \n",
    "        move = dict(x=0, y=0, z=0) | {axis : sign * slider.value}\n",
    "        move_delta(move)\n",
    "    return inner\n",
    "    \n",
    "def process_hat(slider):\n",
    "    def inner(axis):\n",
    "        move = dict( x=-axis.y * slider.value\n",
    "                   , y=axis.x * slider.value\n",
    "                   , z=0 )\n",
    "        move_delta(move)\n",
    "    return inner\n",
    "\n",
    "def scale_changer():\n",
    "    slider = widgets.FloatSlider(min=0.1, max=20)\n",
    "    steps = [.1, 1, 3, 6, 10, 15, 20]\n",
    "    cur_step = 3\n",
    "    slider.value = steps[cur_step]\n",
    "    \n",
    "    def change(button):\n",
    "        nonlocal cur_step\n",
    "        cur_step +=( { \"trigger_r\": +1\n",
    "                     , \"trigger_l\": -1\n",
    "                     } \n",
    "                     [button.name[7:]] )\n",
    "        cur_step = np.clip(cur_step, 0, len(steps) - 1)\n",
    "        slider.value = steps[cur_step]\n",
    "    \n",
    "    display(slider)\n",
    "    return change, slider\n"
   ]
  },
  {
   "cell_type": "code",
   "execution_count": 5,
   "metadata": {},
   "outputs": [
    {
     "name": "stderr",
     "output_type": "stream",
     "text": [
      "Warning: Setting the LED status is not supported for\n",
      "this gamepad or its driver.\n"
     ]
    },
    {
     "data": {
      "application/vnd.jupyter.widget-view+json": {
       "model_id": "b03c98b1bdba4eeaa460f7df2ce1624c",
       "version_major": 2,
       "version_minor": 0
      },
      "text/plain": [
       "FloatSlider(value=6.0, max=20.0, min=0.1)"
      ]
     },
     "metadata": {},
     "output_type": "display_data"
    }
   ],
   "source": [
    "try:\n",
    "    with Xbox360Controller(0, axis_threshold=0.2) as controller:\n",
    "        # Button A events\n",
    "        changer, slider = scale_changer()\n",
    "        controller.hat.when_moved = process_hat(slider)\n",
    "        for button in controller.buttons:\n",
    "            if \"trigger\" not in button.name:\n",
    "                button.when_pressed = move_on_button_press(slider)\n",
    "            else:\n",
    "                button.when_pressed = changer\n",
    "        signal.pause()\n",
    "except KeyboardInterrupt:\n",
    "    pass"
   ]
  }
 ],
 "metadata": {
  "kernelspec": {
   "display_name": "Python 3.11.8 ('robotics')",
   "language": "python",
   "name": "python3"
  },
  "language_info": {
   "codemirror_mode": {
    "name": "ipython",
    "version": 3
   },
   "file_extension": ".py",
   "mimetype": "text/x-python",
   "name": "python",
   "nbconvert_exporter": "python",
   "pygments_lexer": "ipython3",
   "version": "3.11.8"
  },
  "orig_nbformat": 4,
  "vscode": {
   "interpreter": {
    "hash": "6c2efe693938d27c181bddf42b7c0a1eaf257b64dd7a4b4ad01b8dfa7b796ae6"
   }
  }
 },
 "nbformat": 4,
 "nbformat_minor": 2
}
