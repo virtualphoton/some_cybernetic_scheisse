{
 "cells": [
  {
   "cell_type": "code",
   "execution_count": 2,
   "id": "299bd942",
   "metadata": {},
   "outputs": [],
   "source": [
    "import cv2\n",
    "import numpy as np\n",
    "import math"
   ]
  },
  {
   "cell_type": "code",
   "execution_count": 3,
   "id": "19fa9e19",
   "metadata": {},
   "outputs": [
    {
     "data": {
      "text/plain": [
       "True"
      ]
     },
     "execution_count": 3,
     "metadata": {},
     "output_type": "execute_result"
    }
   ],
   "source": [
    "cam_id = 0\n",
    "api = cv2.CAP_DSHOW\n",
    "res = (1280, 720)\n",
    "capture = cv2.VideoCapture(cam_id, api)\n",
    "focus = 0\n",
    "capture.set(28, focus)\n",
    "capture.set(3, 1280)\n",
    "capture.set(4, 720)"
   ]
  },
  {
   "cell_type": "code",
   "execution_count": 4,
   "id": "b0540bd7",
   "metadata": {},
   "outputs": [],
   "source": [
    "TILE_PX = 45\n",
    "def calibrate(cam_img):\n",
    "    cv2.circle(cam_img,(1280//2, 360), 5, (255, 255, 0), 2)\n",
    "    cv2.line(cam_img, (1280//2, 0), (1280//2, 720), (0, 255, 0), 1)\n",
    "    cv2.line(cam_img, (0, 360-TILE_PX//2), (1280, 360-TILE_PX//2), (255, 0, 0), 1)\n",
    "    cv2.line(cam_img, (0, 360), (1280, 360), (255, 0, 0), 1)\n",
    "\n",
    "def calc_circles(image):\n",
    "    minr = 8\n",
    "    maxr = 20\n",
    "    edges = cv2.Canny(image, 100, 150)\n",
    "    param1 = 200\n",
    "    param2 = 30\n",
    "    mindist = 10\n",
    "    circles = cv2.HoughCircles(edges, cv2.HOUGH_GRADIENT, 1, mindist, param1=param1, param2=param2, maxRadius=maxr, minRadius=minr)\n",
    "    edges2 = edges.copy()\n",
    "    if circles is not None:\n",
    "        for ind, i in enumerate(circles[0,:].astype(int)):\n",
    "            cv2.circle(image,(i[0], i[1]), i[2], (0, 255, 0), 2)\n",
    "            edges1 = edges.copy()\n",
    "            #cv2.circle(edges1,(i[0], i[1]), i[2], (255, 255, 0), 2)\n",
    "            #cv2.circle(edges2,(i[0], i[1]), i[2], (255, 255, 0), 1)\n",
    "        #return edges2\n",
    "        return i[:2]"
   ]
  },
  {
   "cell_type": "code",
   "execution_count": 6,
   "id": "a7217ebe",
   "metadata": {},
   "outputs": [
    {
     "name": "stdout",
     "output_type": "stream",
     "text": [
      "[781 292]\n",
      "[781 292]\n",
      "[681 319]\n",
      "[681 319]\n",
      "[681 319]\n",
      "[681 319]\n"
     ]
    }
   ],
   "source": [
    "\n",
    "num_of_samples = 10\n",
    "ind = 0\n",
    "avg = np.array([0, 0])\n",
    "show_lines = False\n",
    "i = 0\n",
    "while True:\n",
    "    _, cam_img = capture.read()\n",
    "    \n",
    "    if show_lines:\n",
    "        calibrate(cam_img)\n",
    "    \n",
    "    #cv2.imshow('w', cam_img)\n",
    "    \n",
    "    imgray = cv2.cvtColor(cam_img, cv2.COLOR_BGR2GRAY)\n",
    "    ret, edges = cv2.threshold(imgray, 150, 255, 0)\n",
    "    #edges = cv2.Canny(cam_img, 50, 150)\n",
    "    contours, _ = cv2.findContours(edges, cv2.RETR_TREE, cv2.CHAIN_APPROX_SIMPLE)\n",
    "    areas = np.vectorize(cv2.contourArea)(contours)\n",
    "    contours = np.array(contours, dtype=object)\n",
    "    contours = contours[(areas > 500) & (areas < 2000)]\n",
    "    \n",
    "    rects = [cv2.minAreaRect(cnt) for cnt in contours]\n",
    "    boxes = [np.int0(cv2.boxPoints(rect)) for rect in rects]\n",
    "    \n",
    "    good_boxes = []\n",
    "    for box in boxes:\n",
    "        M = cv2.moments(box)\n",
    "        r = 360\n",
    "        fig_center = np.array([int(M[\"m10\"] / M[\"m00\"]), int(M[\"m01\"] / M[\"m00\"])])\n",
    "        center = np.array([640, 360-TILE_PX//2])\n",
    "        if max(abs(fig_center-center)) < 210:\n",
    "            if not i:\n",
    "                print(fig_center)\n",
    "            good_boxes.append(box)\n",
    "            cv2.circle(cam_img, fig_center, 3, (255, 255, 0), -1)\n",
    "    i = (i+1)%30\n",
    "    cv2.drawContours(cam_img,contours,-1,(0,0,255),2)\n",
    "    cv2.imshow('w', cam_img)\n",
    "    key = cv2.waitKey(1)\n",
    "    #print(key)\n",
    "    if key == ord('q'):\n",
    "        break\n",
    "    if key == ord('c'):\n",
    "        show_lines = not show_lines\n",
    "cv2.destroyAllWindows()\n"
   ]
  }
 ],
 "metadata": {
  "kernelspec": {
   "display_name": "Python 3 (ipykernel)",
   "language": "python",
   "name": "python3"
  },
  "language_info": {
   "codemirror_mode": {
    "name": "ipython",
    "version": 3
   },
   "file_extension": ".py",
   "mimetype": "text/x-python",
   "name": "python",
   "nbconvert_exporter": "python",
   "pygments_lexer": "ipython3",
   "version": "3.9.7"
  }
 },
 "nbformat": 4,
 "nbformat_minor": 5
}
