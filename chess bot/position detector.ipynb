{
 "cells": [
  {
   "cell_type": "code",
   "execution_count": 2,
   "id": "299bd942",
   "metadata": {},
   "outputs": [],
   "source": [
    "import cv2\n",
    "import numpy as np\n",
    "import math"
   ]
  },
  {
   "cell_type": "code",
   "execution_count": 5,
   "id": "19fa9e19",
   "metadata": {},
   "outputs": [
    {
     "data": {
      "text/plain": [
       "False"
      ]
     },
     "execution_count": 5,
     "metadata": {},
     "output_type": "execute_result"
    }
   ],
   "source": [
    "cam_id = 1\n",
    "api = cv2.CAP_DSHOW\n",
    "res = (1280, 720)\n",
    "capture = cv2.VideoCapture(cam_id, api)\n",
    "focus = 0\n",
    "capture.set(28, focus)\n",
    "capture.set(3, 1280)\n",
    "capture.set(4, 720)"
   ]
  },
  {
   "cell_type": "code",
   "execution_count": 1,
   "metadata": {},
   "outputs": [
    {
     "data": {
      "text/plain": [
       "223.1"
      ]
     },
     "execution_count": 1,
     "metadata": {},
     "output_type": "execute_result"
    }
   ],
   "source": [
    "291 * 23 / 30"
   ]
  },
  {
   "cell_type": "code",
   "execution_count": null,
   "id": "b0540bd7",
   "metadata": {},
   "outputs": [],
   "source": [
    "TILE_PX = 45\n",
    "def calibrate(cam_img):\n",
    "    cv2.circle(cam_img,(1280//2, 360), 5, (255, 255, 0), 2)\n",
    "    cv2.line(cam_img, (1280//2, 0), (1280//2, 720), (0, 255, 0), 1)\n",
    "    cv2.line(cam_img, (0, 360-TILE_PX//2), (1280, 360-TILE_PX//2), (255, 0, 0), 1)\n",
    "    cv2.line(cam_img, (0, 360), (1280, 360), (255, 0, 0), 1)\n",
    "\n",
    "def calc_circles(image):\n",
    "    minr = 8\n",
    "    maxr = 20\n",
    "    edges = cv2.Canny(image, 100, 150)\n",
    "    param1 = 200\n",
    "    param2 = 30\n",
    "    mindist = 10\n",
    "    circles = cv2.HoughCircles(edges, cv2.HOUGH_GRADIENT, 1, mindist, param1=param1, param2=param2, maxRadius=maxr, minRadius=minr)\n",
    "    edges2 = edges.copy()\n",
    "    if circles is not None:\n",
    "        for ind, i in enumerate(circles[0,:].astype(int)):\n",
    "            cv2.circle(image,(i[0], i[1]), i[2], (0, 255, 0), 2)\n",
    "            edges1 = edges.copy()\n",
    "            #cv2.circle(edges1,(i[0], i[1]), i[2], (255, 255, 0), 2)\n",
    "            #cv2.circle(edges2,(i[0], i[1]), i[2], (255, 255, 0), 1)\n",
    "        #return edges2\n",
    "        return i[:2]"
   ]
  },
  {
   "cell_type": "code",
   "execution_count": 4,
   "id": "e471f20e-ea62-4676-a4b3-2bfe303b26fc",
   "metadata": {},
   "outputs": [
    {
     "data": {
      "text/plain": [
       "<function numpy.tile(A, reps)>"
      ]
     },
     "execution_count": 4,
     "metadata": {},
     "output_type": "execute_result"
    }
   ],
   "source": [
    "np.tile"
   ]
  },
  {
   "cell_type": "code",
   "execution_count": 11,
   "id": "8d8343e9-fe78-457d-bc4b-e81afe00d8ee",
   "metadata": {},
   "outputs": [],
   "source": [
    "import numpy as np\n",
    "img = np.full((100, 100, 4), 128).astype(np.uint8)\n",
    "img[:, :, 0] = 0\n",
    "img[:, :, 1] = 255\n",
    "img[:, :, 2] = 0"
   ]
  },
  {
   "cell_type": "code",
   "execution_count": 14,
   "id": "e60da068-aae6-4410-9086-a4953fd96274",
   "metadata": {},
   "outputs": [
    {
     "data": {
      "text/plain": [
       "aruco.DICT_4X4_100\n",
       "aruco.DICT_4X4_1000\n",
       "aruco.DICT_4X4_250\n",
       "aruco.DICT_4X4_50"
      ]
     },
     "metadata": {},
     "output_type": "display_data"
    }
   ],
   "source": [
    "aruco.DICT_4X4*?"
   ]
  },
  {
   "cell_type": "code",
   "execution_count": 17,
   "id": "182c607f-eae0-4a97-b8a2-6ecf516420a3",
   "metadata": {},
   "outputs": [],
   "source": [
    "import cv2, cv2.aruco as aruco\n",
    "img = cv2.imread('checker.png')\n",
    "\n",
    "\n",
    "gray = cv2.cvtColor(img, cv2.COLOR_BGR2GRAY)\n",
    "\n",
    "aruco_dict = aruco.Dictionary_get(aruco.DICT_4X4_1000)\n",
    "parameters =  aruco.DetectorParameters_create()\n",
    "corners, ids, rejectedImgPoints = aruco.detectMarkers(gray, aruco_dict, parameters=parameters)"
   ]
  },
  {
   "cell_type": "code",
   "execution_count": 8,
   "id": "2f3562fa-699e-4824-9869-da42d50557ed",
   "metadata": {
    "tags": []
   },
   "outputs": [],
   "source": [
    "\n",
    "cv2.imshow('img', gray)\n",
    "cv2.waitKey(10_000)\n",
    "\n",
    "\n",
    "cv2.destroyAllWindows()"
   ]
  },
  {
   "cell_type": "code",
   "execution_count": 41,
   "id": "b8467df1-0c1b-497c-99f5-916dd44ab1af",
   "metadata": {},
   "outputs": [],
   "source": [
    "import numpy as np\n",
    "import cv2\n",
    "import glob\n",
    "# termination criteria\n",
    "criteria = (cv2.TERM_CRITERIA_EPS + cv2.TERM_CRITERIA_MAX_ITER, 30, 0.001)\n",
    "# prepare object points, like (0,0,0), (1,0,0), (2,0,0) ....,(6,5,0)\n",
    "objp = np.zeros((14*7,3), np.float32)\n",
    "objp[:,:2] = np.mgrid[0:7,0:14].T.reshape(-1,2)\n",
    "# Arrays to store object points and image points from all the images.\n",
    "objpoints = [] # 3d point in real world space\n",
    "imgpoints = [] # 2d points in image plane.\n",
    "\n",
    "gray = cv2.cvtColor(img, cv2.COLOR_BGR2GRAY)\n",
    "# Find the chess board corners\n",
    "ret, corners = cv2.findChessboardCorners(gray, (7,14), None)\n",
    "# If found, add object points, image points (after refining them)\n",
    "if ret == True:\n",
    "    objpoints.append(objp)\n",
    "    corners2=cv2.cornerSubPix(gray,corners, (11,11), (-1,-1), criteria)\n",
    "    imgpoints.append(corners)\n",
    "    # Draw and display the corners\n",
    "    img1 = img.copy()\n",
    "    cv2.drawChessboardCorners(img1, (7,14), corners2, ret)\n",
    "    cv2.imshow('img', img1)\n",
    "    cv2.waitKey(10_000)\n",
    "\n",
    "cv2.destroyAllWindows()"
   ]
  },
  {
   "cell_type": "code",
   "execution_count": 42,
   "id": "db924f64-c284-4c14-a470-dc9360abec63",
   "metadata": {},
   "outputs": [],
   "source": [
    "ret, mtx, dist, rvecs, tvecs = cv2.calibrateCamera(objpoints, imgpoints, gray.shape[::-1], None, None)"
   ]
  },
  {
   "cell_type": "code",
   "execution_count": 17,
   "id": "99db9bdd-3c28-4e04-b98a-c4b0294d5a4e",
   "metadata": {},
   "outputs": [],
   "source": [
    "import cv2\n",
    "while True:\n",
    "    cv2.imshow('w', img)\n",
    "    key = cv2.waitKey(1)\n",
    "    img[:, :, 1] -= 1\n",
    "    if key == ord('q'):\n",
    "        break\n",
    "        \n",
    "cv2.destroyAllWindows()"
   ]
  },
  {
   "cell_type": "code",
   "execution_count": 6,
   "id": "a7217ebe",
   "metadata": {},
   "outputs": [
    {
     "name": "stdout",
     "output_type": "stream",
     "text": [
      "[781 292]\n",
      "[781 292]\n",
      "[681 319]\n",
      "[681 319]\n",
      "[681 319]\n",
      "[681 319]\n"
     ]
    }
   ],
   "source": [
    "\n",
    "num_of_samples = 10\n",
    "ind = 0\n",
    "avg = np.array([0, 0])\n",
    "show_lines = False\n",
    "i = 0\n",
    "while True:\n",
    "    _, cam_img = capture.read()\n",
    "    \n",
    "    if show_lines:\n",
    "        calibrate(cam_img)\n",
    "    \n",
    "    #cv2.imshow('w', cam_img)\n",
    "    \n",
    "    imgray = cv2.cvtColor(cam_img, cv2.COLOR_BGR2GRAY)\n",
    "    ret, edges = cv2.threshold(imgray, 150, 255, 0)\n",
    "    #edges = cv2.Canny(cam_img, 50, 150)\n",
    "    contours, _ = cv2.findContours(edges, cv2.RETR_TREE, cv2.CHAIN_APPROX_SIMPLE)\n",
    "    areas = np.vectorize(cv2.contourArea)(contours)\n",
    "    contours = np.array(contours, dtype=object)\n",
    "    contours = contours[(areas > 500) & (areas < 2000)]\n",
    "    \n",
    "    rects = [cv2.minAreaRect(cnt) for cnt in contours]\n",
    "    boxes = [np.int0(cv2.boxPoints(rect)) for rect in rects]\n",
    "    \n",
    "    good_boxes = []\n",
    "    for box in boxes:\n",
    "        M = cv2.moments(box)\n",
    "        r = 360\n",
    "        fig_center = np.array([int(M[\"m10\"] / M[\"m00\"]), int(M[\"m01\"] / M[\"m00\"])])\n",
    "        center = np.array([640, 360-TILE_PX//2])\n",
    "        if max(abs(fig_center-center)) < 210:\n",
    "            if not i:\n",
    "                print(fig_center)\n",
    "            good_boxes.append(box)\n",
    "            cv2.circle(cam_img, fig_center, 3, (255, 255, 0), -1)\n",
    "    i = (i+1)%30\n",
    "    cv2.drawContours(cam_img,contours,-1,(0,0,255),2)\n",
    "    cv2.imshow('w', cam_img)\n",
    "    key = cv2.waitKey(1)\n",
    "    #print(key)\n",
    "    if key == ord('q'):\n",
    "        break\n",
    "    if key == ord('c'):\n",
    "        show_lines = not show_lines\n",
    "cv2.destroyAllWindows()\n"
   ]
  }
 ],
 "metadata": {
  "kernelspec": {
   "display_name": "Python 3.12.1 ('base')",
   "language": "python",
   "name": "python3"
  },
  "language_info": {
   "codemirror_mode": {
    "name": "ipython",
    "version": 3
   },
   "file_extension": ".py",
   "mimetype": "text/x-python",
   "name": "python",
   "nbconvert_exporter": "python",
   "pygments_lexer": "ipython3",
   "version": "3.12.1"
  },
  "vscode": {
   "interpreter": {
    "hash": "8d1d981e83a345e2c99965b6a44b009fd8b0e0584481ace2a41762a21be93625"
   }
  }
 },
 "nbformat": 4,
 "nbformat_minor": 5
}
