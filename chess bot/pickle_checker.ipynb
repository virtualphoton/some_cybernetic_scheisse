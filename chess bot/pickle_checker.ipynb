{
 "cells": [
  {
   "cell_type": "code",
   "execution_count": 3,
   "id": "57103b22-6dae-45cf-b46c-24b54399961e",
   "metadata": {},
   "outputs": [
    {
     "data": {
      "text/plain": [
       "{'temp': {'bc': ['e8', 'g7', 'd4', 'h1'],\n",
       "  'dc': [[266.4316101074219, -17.031978607177734],\n",
       "   [212.35418701171875, 9.959300994873047],\n",
       "   [295.51904296875, 88.67515563964844],\n",
       "   [187.85848999023438, 170.5806427001953]],\n",
       "  'j1': [-3.6577281951904297,\n",
       "   2.6851744651794434,\n",
       "   16.702701568603516,\n",
       "   42.24030685424805]},\n",
       " 'zero_height': -79.11140441894531,\n",
       " 'heights': {'pawn': -77.99714660644531,\n",
       "  'rook': -44.493202209472656,\n",
       "  'knight': -44.347129821777344,\n",
       "  'bishop': -32.45655059814453,\n",
       "  'queen': -28.258636474609375,\n",
       "  'king': -25.007522583007812}}"
      ]
     },
     "execution_count": 3,
     "metadata": {},
     "output_type": "execute_result"
    }
   ],
   "source": [
    "import pickle\n",
    "with open(\"coords.pickle\", \"rb\") as f:\n",
    "    data = pickle.load(f)\n",
    "data"
   ]
  },
  {
   "cell_type": "code",
   "execution_count": 4,
   "id": "3e0c4e50-6d7e-4d45-9e0e-786d9d99ed2c",
   "metadata": {},
   "outputs": [],
   "source": [
    "import numpy as np"
   ]
  },
  {
   "cell_type": "code",
   "execution_count": 22,
   "id": "ae3eb712-b369-4cf7-8308-4dd4ff3cf425",
   "metadata": {},
   "outputs": [
    {
     "data": {
      "text/plain": [
       "{'bc': ['e8', 'g7', 'd4', 'h1'],\n",
       " 'dc': [[266.4316101074219, -17.031978607177734],\n",
       "  [212.35418701171875, 9.959300994873047],\n",
       "  [295.51904296875, 88.67515563964844],\n",
       "  [187.85848999023438, 170.5806427001953]],\n",
       " 'j1': [-3.6577281951904297,\n",
       "  2.6851744651794434,\n",
       "  16.702701568603516,\n",
       "  42.24030685424805]}"
      ]
     },
     "execution_count": 22,
     "metadata": {},
     "output_type": "execute_result"
    }
   ],
   "source": [
    "data[\"temp\"]"
   ]
  },
  {
   "cell_type": "code",
   "execution_count": 12,
   "id": "d6f5c5d7-c2c1-430f-8ae2-7d10f247b4e7",
   "metadata": {},
   "outputs": [
    {
     "data": {
      "text/plain": [
       "-3.6577282769509596"
      ]
     },
     "execution_count": 12,
     "metadata": {},
     "output_type": "execute_result"
    }
   ],
   "source": [
    "np.angle(-17.031978607177734j + 266.4316101074219)*360/2/np.pi"
   ]
  },
  {
   "cell_type": "code",
   "execution_count": 21,
   "id": "12a936a7-1e12-45c6-8b5b-e915201693ec",
   "metadata": {},
   "outputs": [
    {
     "data": {
      "text/plain": [
       "array([-3.65772828,  2.6851747 , 16.70270252, 42.2403067 ])"
      ]
     },
     "execution_count": 21,
     "metadata": {},
     "output_type": "execute_result"
    }
   ],
   "source": [
    "np.arctan2(*np.array(data[\"temp\"][\"dc\"])[:, ::-1].T)*180/np.pi"
   ]
  },
  {
   "cell_type": "code",
   "execution_count": null,
   "id": "a225f0e1-6dec-43cf-a38c-bfcc87c375d7",
   "metadata": {},
   "outputs": [],
   "source": [
    "for rel, imag in dat[\"dc\"]:\n",
    "    "
   ]
  }
 ],
 "metadata": {
  "kernelspec": {
   "display_name": "Python 3 (ipykernel)",
   "language": "python",
   "name": "python3"
  },
  "language_info": {
   "codemirror_mode": {
    "name": "ipython",
    "version": 3
   },
   "file_extension": ".py",
   "mimetype": "text/x-python",
   "name": "python",
   "nbconvert_exporter": "python",
   "pygments_lexer": "ipython3",
   "version": "3.10.11"
  }
 },
 "nbformat": 4,
 "nbformat_minor": 5
}
