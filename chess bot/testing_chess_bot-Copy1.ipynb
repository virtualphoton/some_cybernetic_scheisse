{
 "cells": [
  {
   "cell_type": "code",
   "execution_count": 1,
   "id": "de42f7ef",
   "metadata": {},
   "outputs": [],
   "source": [
    "from stockfish import Stockfish"
   ]
  },
  {
   "cell_type": "code",
   "execution_count": 10,
   "id": "a05d1ac6",
   "metadata": {},
   "outputs": [],
   "source": [
    "sf = Stockfish(r'C:\\Users\\bkmz1\\_notebooks\\chess\\stockfish\\stockfish_14.1_win_x64_avx2')"
   ]
  },
  {
   "cell_type": "code",
   "execution_count": 32,
   "id": "6f7fb651",
   "metadata": {},
   "outputs": [],
   "source": [
    "from time import sleep"
   ]
  },
  {
   "cell_type": "code",
   "execution_count": 11,
   "id": "12f2600b",
   "metadata": {
    "scrolled": true
   },
   "outputs": [
    {
     "name": "stdout",
     "output_type": "stream",
     "text": [
      "e2e4\n",
      "+---+---+---+---+---+---+---+---+\n",
      "| r | n | b | q | k | b | n | r | 8\n",
      "+---+---+---+---+---+---+---+---+\n",
      "| p | p | p | p | p | p | p | p | 7\n",
      "+---+---+---+---+---+---+---+---+\n",
      "|   |   |   |   |   |   |   |   | 6\n",
      "+---+---+---+---+---+---+---+---+\n",
      "|   |   |   |   |   |   |   |   | 5\n",
      "+---+---+---+---+---+---+---+---+\n",
      "|   |   |   |   | P |   |   |   | 4\n",
      "+---+---+---+---+---+---+---+---+\n",
      "|   |   |   |   |   |   |   |   | 3\n",
      "+---+---+---+---+---+---+---+---+\n",
      "| P | P | P | P |   | P | P | P | 2\n",
      "+---+---+---+---+---+---+---+---+\n",
      "| R | N | B | Q | K | B | N | R | 1\n",
      "+---+---+---+---+---+---+---+---+\n",
      "\n",
      "\n",
      "e7e5\n",
      "+---+---+---+---+---+---+---+---+\n",
      "| r | n | b | q | k | b | n | r | 8\n",
      "+---+---+---+---+---+---+---+---+\n",
      "| p | p | p | p |   | p | p | p | 7\n",
      "+---+---+---+---+---+---+---+---+\n",
      "|   |   |   |   |   |   |   |   | 6\n",
      "+---+---+---+---+---+---+---+---+\n",
      "|   |   |   |   | p |   |   |   | 5\n",
      "+---+---+---+---+---+---+---+---+\n",
      "|   |   |   |   | P |   |   |   | 4\n",
      "+---+---+---+---+---+---+---+---+\n",
      "|   |   |   |   |   |   |   |   | 3\n",
      "+---+---+---+---+---+---+---+---+\n",
      "| P | P | P | P |   | P | P | P | 2\n",
      "+---+---+---+---+---+---+---+---+\n",
      "| R | N | B | Q | K | B | N | R | 1\n",
      "+---+---+---+---+---+---+---+---+\n",
      "\n",
      "\n",
      "g1f3\n",
      "+---+---+---+---+---+---+---+---+\n",
      "| r | n | b | q | k | b | n | r | 8\n",
      "+---+---+---+---+---+---+---+---+\n",
      "| p | p | p | p |   | p | p | p | 7\n",
      "+---+---+---+---+---+---+---+---+\n",
      "|   |   |   |   |   |   |   |   | 6\n",
      "+---+---+---+---+---+---+---+---+\n",
      "|   |   |   |   | p |   |   |   | 5\n",
      "+---+---+---+---+---+---+---+---+\n",
      "|   |   |   |   | P |   |   |   | 4\n",
      "+---+---+---+---+---+---+---+---+\n",
      "|   |   |   |   |   | N |   |   | 3\n",
      "+---+---+---+---+---+---+---+---+\n",
      "| P | P | P | P |   | P | P | P | 2\n",
      "+---+---+---+---+---+---+---+---+\n",
      "| R | N | B | Q | K | B |   | R | 1\n",
      "+---+---+---+---+---+---+---+---+\n",
      "\n",
      "\n",
      "b8c6\n",
      "+---+---+---+---+---+---+---+---+\n",
      "| r |   | b | q | k | b | n | r | 8\n",
      "+---+---+---+---+---+---+---+---+\n",
      "| p | p | p | p |   | p | p | p | 7\n",
      "+---+---+---+---+---+---+---+---+\n",
      "|   |   | n |   |   |   |   |   | 6\n",
      "+---+---+---+---+---+---+---+---+\n",
      "|   |   |   |   | p |   |   |   | 5\n",
      "+---+---+---+---+---+---+---+---+\n",
      "|   |   |   |   | P |   |   |   | 4\n",
      "+---+---+---+---+---+---+---+---+\n",
      "|   |   |   |   |   | N |   |   | 3\n",
      "+---+---+---+---+---+---+---+---+\n",
      "| P | P | P | P |   | P | P | P | 2\n",
      "+---+---+---+---+---+---+---+---+\n",
      "| R | N | B | Q | K | B |   | R | 1\n",
      "+---+---+---+---+---+---+---+---+\n",
      "\n"
     ]
    },
    {
     "ename": "KeyboardInterrupt",
     "evalue": "Interrupted by user",
     "output_type": "error",
     "traceback": [
      "\u001b[1;31m---------------------------------------------------------------------------\u001b[0m",
      "\u001b[1;31mKeyboardInterrupt\u001b[0m                         Traceback (most recent call last)",
      "\u001b[1;32m~\\AppData\\Local\\Temp/ipykernel_9804/1423520166.py\u001b[0m in \u001b[0;36m<module>\u001b[1;34m\u001b[0m\n\u001b[0;32m      4\u001b[0m     \u001b[0msf\u001b[0m\u001b[1;33m.\u001b[0m\u001b[0mmake_moves_from_current_position\u001b[0m\u001b[1;33m(\u001b[0m\u001b[1;33m[\u001b[0m\u001b[0ma\u001b[0m\u001b[1;33m]\u001b[0m\u001b[1;33m)\u001b[0m\u001b[1;33m\u001b[0m\u001b[1;33m\u001b[0m\u001b[0m\n\u001b[0;32m      5\u001b[0m     \u001b[0mprint\u001b[0m\u001b[1;33m(\u001b[0m\u001b[0msf\u001b[0m\u001b[1;33m.\u001b[0m\u001b[0mget_board_visual\u001b[0m\u001b[1;33m(\u001b[0m\u001b[1;33m)\u001b[0m\u001b[1;33m)\u001b[0m\u001b[1;33m\u001b[0m\u001b[1;33m\u001b[0m\u001b[0m\n\u001b[1;32m----> 6\u001b[1;33m     \u001b[0minput\u001b[0m\u001b[1;33m(\u001b[0m\u001b[1;33m)\u001b[0m\u001b[1;33m\u001b[0m\u001b[1;33m\u001b[0m\u001b[0m\n\u001b[0m",
      "\u001b[1;32m~\\anaconda3\\envs\\manipulator\\lib\\site-packages\\ipykernel\\kernelbase.py\u001b[0m in \u001b[0;36mraw_input\u001b[1;34m(self, prompt)\u001b[0m\n\u001b[0;32m   1004\u001b[0m                 \u001b[1;34m\"raw_input was called, but this frontend does not support input requests.\"\u001b[0m\u001b[1;33m\u001b[0m\u001b[1;33m\u001b[0m\u001b[0m\n\u001b[0;32m   1005\u001b[0m             )\n\u001b[1;32m-> 1006\u001b[1;33m         return self._input_request(\n\u001b[0m\u001b[0;32m   1007\u001b[0m             \u001b[0mstr\u001b[0m\u001b[1;33m(\u001b[0m\u001b[0mprompt\u001b[0m\u001b[1;33m)\u001b[0m\u001b[1;33m,\u001b[0m\u001b[1;33m\u001b[0m\u001b[1;33m\u001b[0m\u001b[0m\n\u001b[0;32m   1008\u001b[0m             \u001b[0mself\u001b[0m\u001b[1;33m.\u001b[0m\u001b[0m_parent_ident\u001b[0m\u001b[1;33m[\u001b[0m\u001b[1;34m\"shell\"\u001b[0m\u001b[1;33m]\u001b[0m\u001b[1;33m,\u001b[0m\u001b[1;33m\u001b[0m\u001b[1;33m\u001b[0m\u001b[0m\n",
      "\u001b[1;32m~\\anaconda3\\envs\\manipulator\\lib\\site-packages\\ipykernel\\kernelbase.py\u001b[0m in \u001b[0;36m_input_request\u001b[1;34m(self, prompt, ident, parent, password)\u001b[0m\n\u001b[0;32m   1049\u001b[0m             \u001b[1;32mexcept\u001b[0m \u001b[0mKeyboardInterrupt\u001b[0m\u001b[1;33m:\u001b[0m\u001b[1;33m\u001b[0m\u001b[1;33m\u001b[0m\u001b[0m\n\u001b[0;32m   1050\u001b[0m                 \u001b[1;31m# re-raise KeyboardInterrupt, to truncate traceback\u001b[0m\u001b[1;33m\u001b[0m\u001b[1;33m\u001b[0m\u001b[0m\n\u001b[1;32m-> 1051\u001b[1;33m                 \u001b[1;32mraise\u001b[0m \u001b[0mKeyboardInterrupt\u001b[0m\u001b[1;33m(\u001b[0m\u001b[1;34m\"Interrupted by user\"\u001b[0m\u001b[1;33m)\u001b[0m \u001b[1;32mfrom\u001b[0m \u001b[1;32mNone\u001b[0m\u001b[1;33m\u001b[0m\u001b[1;33m\u001b[0m\u001b[0m\n\u001b[0m\u001b[0;32m   1052\u001b[0m             \u001b[1;32mexcept\u001b[0m \u001b[0mException\u001b[0m\u001b[1;33m:\u001b[0m\u001b[1;33m\u001b[0m\u001b[1;33m\u001b[0m\u001b[0m\n\u001b[0;32m   1053\u001b[0m                 \u001b[0mself\u001b[0m\u001b[1;33m.\u001b[0m\u001b[0mlog\u001b[0m\u001b[1;33m.\u001b[0m\u001b[0mwarning\u001b[0m\u001b[1;33m(\u001b[0m\u001b[1;34m\"Invalid Message:\"\u001b[0m\u001b[1;33m,\u001b[0m \u001b[0mexc_info\u001b[0m\u001b[1;33m=\u001b[0m\u001b[1;32mTrue\u001b[0m\u001b[1;33m)\u001b[0m\u001b[1;33m\u001b[0m\u001b[1;33m\u001b[0m\u001b[0m\n",
      "\u001b[1;31mKeyboardInterrupt\u001b[0m: Interrupted by user"
     ]
    }
   ],
   "source": [
    "while True:\n",
    "    a = sf.get_best_move()\n",
    "    print(a)\n",
    "    sf.make_moves_from_current_position([a])\n",
    "    print(sf.get_board_visual())\n",
    "    input()"
   ]
  },
  {
   "cell_type": "code",
   "execution_count": 25,
   "id": "ebd2e8aa",
   "metadata": {},
   "outputs": [],
   "source": [
    "#sf.make_moves_from_current_position(['b2b3', 'e8e7', 'c1b2', 'e7e8', 'b1c3', 'e7e8'])\n",
    "#sf.make_moves_from_current_position(['e8e7', 'd1e2', 'e7e8'])\n",
    "sf.make_moves_from_current_position(['a2a4', 'e8e7', 'a4a5', 'b7b5', 'a5b6'])"
   ]
  },
  {
   "cell_type": "code",
   "execution_count": 26,
   "id": "1b99bd2e",
   "metadata": {},
   "outputs": [
    {
     "name": "stdout",
     "output_type": "stream",
     "text": [
      "+---+---+---+---+---+---+---+---+\n",
      "| r |   | b | q |   | b | n | r | 8\n",
      "+---+---+---+---+---+---+---+---+\n",
      "| p |   | p | p | k | p | p | p | 7\n",
      "+---+---+---+---+---+---+---+---+\n",
      "|   | P | n |   |   |   |   |   | 6\n",
      "+---+---+---+---+---+---+---+---+\n",
      "|   |   |   |   | p |   |   |   | 5\n",
      "+---+---+---+---+---+---+---+---+\n",
      "|   |   |   |   | P |   |   |   | 4\n",
      "+---+---+---+---+---+---+---+---+\n",
      "|   | P | N |   |   | N |   |   | 3\n",
      "+---+---+---+---+---+---+---+---+\n",
      "|   | B | P | P | Q | P | P | P | 2\n",
      "+---+---+---+---+---+---+---+---+\n",
      "| R |   |   |   | K | B |   | R | 1\n",
      "+---+---+---+---+---+---+---+---+\n",
      "\n"
     ]
    }
   ],
   "source": [
    "print(sf.get_board_visual())"
   ]
  },
  {
   "cell_type": "code",
   "execution_count": 24,
   "id": "1963f9e5",
   "metadata": {},
   "outputs": [
    {
     "data": {
      "text/plain": [
       "True"
      ]
     },
     "execution_count": 24,
     "metadata": {},
     "output_type": "execute_result"
    }
   ],
   "source": [
    "sf.is_move_correct('e1c1')"
   ]
  },
  {
   "cell_type": "code",
   "execution_count": 34,
   "id": "54eb61df",
   "metadata": {
    "collapsed": true
   },
   "outputs": [
    {
     "data": {
      "text/plain": [
       "{'Write Debug Log': 'false',\n",
       " 'Contempt': 0,\n",
       " 'Min Split Depth': 0,\n",
       " 'Threads': 1,\n",
       " 'Ponder': 'false',\n",
       " 'Hash': 16,\n",
       " 'MultiPV': 1,\n",
       " 'Skill Level': 20,\n",
       " 'Move Overhead': 30,\n",
       " 'Minimum Thinking Time': 20,\n",
       " 'Slow Mover': 80,\n",
       " 'UCI_Chess960': 'false',\n",
       " 'UCI_LimitStrength': 'false',\n",
       " 'UCI_Elo': 1350}"
      ]
     },
     "execution_count": 34,
     "metadata": {},
     "output_type": "execute_result"
    }
   ],
   "source": [
    "sf.get_parameters()"
   ]
  },
  {
   "cell_type": "code",
   "execution_count": 11,
   "id": "222297b7",
   "metadata": {
    "collapsed": true
   },
   "outputs": [
    {
     "name": "stdout",
     "output_type": "stream",
     "text": [
      "Help on class Stockfish in module stockfish.models:\n",
      "\n",
      "class Stockfish(builtins.object)\n",
      " |  Stockfish(path: str = 'stockfish', depth: int = 2, parameters: dict = None) -> None\n",
      " |  \n",
      " |  Integrates the Stockfish chess engine with Python.\n",
      " |  \n",
      " |  Methods defined here:\n",
      " |  \n",
      " |  __del__(self) -> None\n",
      " |  \n",
      " |  __init__(self, path: str = 'stockfish', depth: int = 2, parameters: dict = None) -> None\n",
      " |      Initialize self.  See help(type(self)) for accurate signature.\n",
      " |  \n",
      " |  get_best_move(self) -> Optional[str]\n",
      " |      Returns best move with current position on the board.\n",
      " |      \n",
      " |      Returns:\n",
      " |          A string of move in algebraic notation or None, if it's a mate now.\n",
      " |  \n",
      " |  get_best_move_time(self, time: int = 1000) -> Optional[str]\n",
      " |      Returns best move with current position on the board after a determined time\n",
      " |      \n",
      " |      Args:\n",
      " |          time:\n",
      " |            Time for stockfish to determine best move in milliseconds (int)\n",
      " |      \n",
      " |      Returns:\n",
      " |          A string of move in algebraic notation or None, if it's a mate now.\n",
      " |  \n",
      " |  get_board_visual(self) -> str\n",
      " |      Returns a visual representation of the current board position.\n",
      " |      \n",
      " |      Returns:\n",
      " |          String of visual representation of the chessboard with its pieces in current position.\n",
      " |  \n",
      " |  get_evaluation(self) -> dict\n",
      " |      Evaluates current position\n",
      " |      \n",
      " |      Returns:\n",
      " |          A dictionary of the current advantage with \"type\" as \"cp\" (centipawns) or \"mate\" (checkmate in)\n",
      " |  \n",
      " |  get_fen_position(self) -> str\n",
      " |      Returns current board position in Forsyth–Edwards notation (FEN).\n",
      " |      \n",
      " |      Returns:\n",
      " |          String with current position in Forsyth–Edwards notation (FEN)\n",
      " |  \n",
      " |  get_parameters(self) -> dict\n",
      " |      Returns current board position.\n",
      " |      \n",
      " |      Returns:\n",
      " |          Dictionary of current Stockfish engine's parameters.\n",
      " |  \n",
      " |  get_stockfish_major_version(self)\n",
      " |      Returns Stockfish engine major version.\n",
      " |      \n",
      " |      Returns:\n",
      " |          Current stockfish major version\n",
      " |  \n",
      " |  get_top_moves(self, num_top_moves: int = 5) -> List[dict]\n",
      " |      Returns info on the top moves in the position.\n",
      " |      \n",
      " |      Args:\n",
      " |          num_top_moves:\n",
      " |              The number of moves to return info on, assuming there are at least\n",
      " |              those many legal moves.\n",
      " |      \n",
      " |      Returns:\n",
      " |          A list of dictionaries. In each dictionary, there are keys for Move, Centipawn, and Mate;\n",
      " |          the corresponding value for either the Centipawn or Mate key will be None.\n",
      " |          If there are no moves in the position, an empty list is returned.\n",
      " |  \n",
      " |  is_move_correct(self, move_value: str) -> bool\n",
      " |      Checks new move.\n",
      " |      \n",
      " |      Args:\n",
      " |          move_value:\n",
      " |            New move value in algebraic notation.\n",
      " |      \n",
      " |      Returns:\n",
      " |          True, if new move is correct, else False.\n",
      " |  \n",
      " |  make_moves_from_current_position(self, moves: List[str]) -> None\n",
      " |      Sets a new position by playing the moves from the current position.\n",
      " |      \n",
      " |      Args:\n",
      " |          moves:\n",
      " |            A list of moves to play in the current position, in order to reach a new position.\n",
      " |            Must be in full algebraic notation.\n",
      " |            Example: [\"g4d7\", \"a8b8\", \"f1d1\"]\n",
      " |  \n",
      " |  reset_parameters(self) -> None\n",
      " |      Resets the stockfish parameters.\n",
      " |      \n",
      " |      Returns:\n",
      " |          None\n",
      " |  \n",
      " |  set_depth(self, depth_value: int = 2) -> None\n",
      " |      Sets current depth of stockfish engine.\n",
      " |      \n",
      " |      Args:\n",
      " |          depth_value: Depth option higher than 1\n",
      " |  \n",
      " |  set_elo_rating(self, elo_rating: int = 1350) -> None\n",
      " |      Sets current elo rating of stockfish engine, ignoring skill level.\n",
      " |      \n",
      " |      Args:\n",
      " |          elo_rating: Aim for an engine strength of the given Elo\n",
      " |      \n",
      " |      Returns:\n",
      " |          None\n",
      " |  \n",
      " |  set_fen_position(self, fen_position: str, send_ucinewgame_token: bool = True) -> None\n",
      " |      Sets current board position in Forsyth–Edwards notation (FEN).\n",
      " |      \n",
      " |      Args:\n",
      " |          fen_position:\n",
      " |            FEN string of board position.\n",
      " |      \n",
      " |          send_ucinewgame_token:\n",
      " |            Whether to send the \"ucinewgame\" token to the Stockfish engine.\n",
      " |            The most prominent effect this will have is clearing Stockfish's transposition table,\n",
      " |            which should be done if the new position is unrelated to the current position.\n",
      " |      \n",
      " |      Returns:\n",
      " |          None\n",
      " |  \n",
      " |  set_position(self, moves: List[str] = None) -> None\n",
      " |      Sets current board position.\n",
      " |      \n",
      " |      Args:\n",
      " |          moves:\n",
      " |            A list of moves to set this position on the board.\n",
      " |            Must be in full algebraic notation.\n",
      " |            example: ['e2e4', 'e7e5']\n",
      " |  \n",
      " |  set_skill_level(self, skill_level: int = 20) -> None\n",
      " |      Sets current skill level of stockfish engine.\n",
      " |      \n",
      " |      Args:\n",
      " |          skill_level:\n",
      " |            Skill Level option between 0 (weakest level) and 20 (full strength)\n",
      " |      \n",
      " |      Returns:\n",
      " |          None\n",
      " |  \n",
      " |  ----------------------------------------------------------------------\n",
      " |  Data descriptors defined here:\n",
      " |  \n",
      " |  __dict__\n",
      " |      dictionary for instance variables (if defined)\n",
      " |  \n",
      " |  __weakref__\n",
      " |      list of weak references to the object (if defined)\n",
      "\n"
     ]
    }
   ],
   "source": [
    "help(Stockfish)"
   ]
  }
 ],
 "metadata": {
  "kernelspec": {
   "display_name": "Python 3 (ipykernel)",
   "language": "python",
   "name": "python3"
  },
  "language_info": {
   "codemirror_mode": {
    "name": "ipython",
    "version": 3
   },
   "file_extension": ".py",
   "mimetype": "text/x-python",
   "name": "python",
   "nbconvert_exporter": "python",
   "pygments_lexer": "ipython3",
   "version": "3.9.7"
  }
 },
 "nbformat": 4,
 "nbformat_minor": 5
}
