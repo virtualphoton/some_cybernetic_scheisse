{
 "cells": [
  {
   "cell_type": "code",
   "execution_count": 5,
   "id": "302b7a66-6754-423a-b8b2-cdc0539697f5",
   "metadata": {},
   "outputs": [],
   "source": [
    "import cv2.aruco as aruco\n",
    "import cv2\n",
    "import numpy as np\n",
    "\n",
    "dictionary = aruco.getPredefinedDictionary(aruco.DICT_4X4_50)\n",
    "parameters =  cv2.aruco.DetectorParameters()\n",
    "# \n",
    "detector = aruco.ArucoDetector(dictionary, parameters)"
   ]
  },
  {
   "cell_type": "code",
   "execution_count": 2,
   "id": "6d27c5bb-0e6c-476d-8ba0-75435082b57d",
   "metadata": {},
   "outputs": [],
   "source": [
    "board = aruco.CharucoBoard((8, 8), 0.4, 0.2, dictionary)"
   ]
  },
  {
   "cell_type": "code",
   "execution_count": 3,
   "id": "788b9888-05d2-477a-85a2-289228414b56",
   "metadata": {},
   "outputs": [],
   "source": [
    "# show(board.generateImage((1024, 1024)))"
   ]
  },
  {
   "cell_type": "code",
   "execution_count": 111,
   "id": "a9ed67e2-d1c0-4dc7-ad6d-bdbaf3b7377d",
   "metadata": {},
   "outputs": [],
   "source": [
    "img = cv2.imread(\"../machines/02_dobot/arucos.png\")\n",
    "if img.shape[-1] != 3:\n",
    "    img_c = np.repeat(img[..., None], 3, axis=-1)\n",
    "else:\n",
    "    img_c = img.copy()"
   ]
  },
  {
   "cell_type": "code",
   "execution_count": 33,
   "id": "7fc0ebb2-c485-4f82-9776-bb69b397f1b1",
   "metadata": {},
   "outputs": [],
   "source": [
    "show(img)"
   ]
  },
  {
   "cell_type": "code",
   "execution_count": 10,
   "id": "63c6af7d-68f6-4eff-a7d0-ea7136157037",
   "metadata": {},
   "outputs": [],
   "source": [
    "images = [cv2.imread(f\"../machines/02_dobot/charuco/charuco_{i}.png\") for i in range(3)]\n",
    "matched_points = []\n",
    "corners_2 = []\n",
    "\n",
    "for image in images:\n",
    "    image = cv2.cvtColor(image, cv2.COLOR_BGR2GRAY)\n",
    "    cur_corners, cur_ids, _ = detector.detectMarkers(image)\n",
    "    matched_points.append(list(\n",
    "        map(np.squeeze, board.matchImagePoints(cur_corners, cur_ids))\n",
    "    ))\n",
    "    corners_2.append(aruco.interpolateCornersCharuco(\n",
    "        cur_corners, cur_ids,\n",
    "        img, board\n",
    "    )[1:])\n",
    "    \n",
    "obj_points, img_points = zip(*matched_points)\n",
    "\n",
    "ret, mtx, dist, rvecs, tvecs = cv2.calibrateCamera(\n",
    "    obj_points, img_points, image.shape,\n",
    "    None, None\n",
    ")"
   ]
  },
  {
   "cell_type": "code",
   "execution_count": 122,
   "id": "86b724c9-34c0-4136-86b2-f7cd09a0dea1",
   "metadata": {},
   "outputs": [],
   "source": [
    "img_c = aruco.drawDetectedCornersCharuco(img_c, corners2, ids2, [255, 0, 0])\n",
    "show(img_c)"
   ]
  },
  {
   "cell_type": "code",
   "execution_count": 14,
   "id": "5ff6ccbb-84aa-4854-a308-b390e06c3a8d",
   "metadata": {},
   "outputs": [],
   "source": [
    "for i in range(3):\n",
    "    img_c = images[i].copy()\n",
    "\n",
    "    t = np.zeros((2, 3))\n",
    "    _, rvec, tvec = aruco.estimatePoseCharucoBoard(\n",
    "        *corners_2[i],\n",
    "        board, mtx, dist,\n",
    "        None, None\n",
    "    )\n",
    "\n",
    "    img_c = cv2.drawFrameAxes(img_c, mtx, dist, rvec, tvec, 0.4)\n",
    "\n",
    "    show(img_c)"
   ]
  },
  {
   "cell_type": "code",
   "execution_count": 12,
   "id": "0af7ce95-5e03-4907-9dfe-67f4c43c6ccf",
   "metadata": {},
   "outputs": [],
   "source": [
    "def show(img):\n",
    "    cv2.imshow(\"window\", img)\n",
    "    while True:\n",
    "        key = cv2.waitKey(1)\n",
    "        if key == ord('q'):\n",
    "            break\n",
    "    cv2.destroyAllWindows()"
   ]
  },
  {
   "cell_type": "code",
   "execution_count": null,
   "id": "cca8e000-93ea-4b16-bd08-5995ffc1acfb",
   "metadata": {},
   "outputs": [],
   "source": []
  }
 ],
 "metadata": {
  "kernelspec": {
   "display_name": "Python 3 (ipykernel)",
   "language": "python",
   "name": "python3"
  },
  "language_info": {
   "codemirror_mode": {
    "name": "ipython",
    "version": 3
   },
   "file_extension": ".py",
   "mimetype": "text/x-python",
   "name": "python",
   "nbconvert_exporter": "python",
   "pygments_lexer": "ipython3",
   "version": "3.10.11"
  }
 },
 "nbformat": 4,
 "nbformat_minor": 5
}
