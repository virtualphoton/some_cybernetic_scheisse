{
 "cells": [
  {
   "cell_type": "code",
   "execution_count": null,
   "id": "5913a10d-25a0-463a-aa24-cd994713cd59",
   "metadata": {},
   "outputs": [],
   "source": [
    "[[360.77769585,   0.,         639.89330646],\n",
    " [  0.,         360.62443724, 359.0092385 ],\n",
    " [  0.,           0.,           1.        ]]\n",
    "[[-0.00114422,  0.00073427,  0.00009126,  0.00001122, -0.00017835]]"
   ]
  },
  {
   "cell_type": "code",
   "execution_count": 58,
   "id": "302b7a66-6754-423a-b8b2-cdc0539697f5",
   "metadata": {},
   "outputs": [],
   "source": [
    "import cv2.aruco as aruco\n",
    "import cv2\n",
    "import numpy as np\n",
    "from itertools import combinations\n",
    "np.set_printoptions(suppress=True)\n",
    "\n",
    "dictionary = aruco.getPredefinedDictionary(aruco.DICT_4X4_50)\n",
    "parameters =  cv2.aruco.DetectorParameters()\n",
    "# \n",
    "detector = aruco.ArucoDetector(dictionary, parameters)"
   ]
  },
  {
   "cell_type": "code",
   "execution_count": 2,
   "id": "6d27c5bb-0e6c-476d-8ba0-75435082b57d",
   "metadata": {},
   "outputs": [],
   "source": [
    "board = aruco.CharucoBoard((8, 8), 0.4, 0.2, dictionary)"
   ]
  },
  {
   "cell_type": "code",
   "execution_count": 3,
   "id": "788b9888-05d2-477a-85a2-289228414b56",
   "metadata": {},
   "outputs": [],
   "source": [
    "# show(board.generateImage((1024, 1024)))"
   ]
  },
  {
   "cell_type": "code",
   "execution_count": 111,
   "id": "a9ed67e2-d1c0-4dc7-ad6d-bdbaf3b7377d",
   "metadata": {},
   "outputs": [],
   "source": [
    "img = cv2.imread(\"../machines/02_dobot/arucos.png\")\n",
    "if img.shape[-1] != 3:\n",
    "    img_c = np.repeat(img[..., None], 3, axis=-1)\n",
    "else:\n",
    "    img_c = img.copy()"
   ]
  },
  {
   "cell_type": "code",
   "execution_count": 33,
   "id": "7fc0ebb2-c485-4f82-9776-bb69b397f1b1",
   "metadata": {},
   "outputs": [],
   "source": [
    "show(img)"
   ]
  },
  {
   "cell_type": "code",
   "execution_count": 10,
   "id": "63c6af7d-68f6-4eff-a7d0-ea7136157037",
   "metadata": {},
   "outputs": [],
   "source": [
    "images = [cv2.imread(f\"../machines/02_dobot/charuco/charuco_{i}.png\") for i in range(3)]\n",
    "matched_points = []\n",
    "corners_2 = []\n",
    "\n",
    "for image in images:\n",
    "    image = cv2.cvtColor(image, cv2.COLOR_BGR2GRAY)\n",
    "    cur_corners, cur_ids, _ = detector.detectMarkers(image)\n",
    "    matched_points.append(list(\n",
    "        map(np.squeeze, board.matchImagePoints(cur_corners, cur_ids))\n",
    "    ))\n",
    "    corners_2.append(aruco.interpolateCornersCharuco(\n",
    "        cur_corners, cur_ids,\n",
    "        img, board\n",
    "    )[1:])\n",
    "    \n",
    "obj_points, img_points = zip(*matched_points)\n",
    "\n",
    "ret, mtx, dist, rvecs, tvecs = cv2.calibrateCamera(\n",
    "    obj_points, img_points, image.shape,\n",
    "    None, None\n",
    ")"
   ]
  },
  {
   "cell_type": "code",
   "execution_count": 122,
   "id": "86b724c9-34c0-4136-86b2-f7cd09a0dea1",
   "metadata": {},
   "outputs": [],
   "source": [
    "img_c = aruco.drawDetectedCornersCharuco(img_c, corners2, ids2, [255, 0, 0])\n",
    "show(img_c)"
   ]
  },
  {
   "cell_type": "code",
   "execution_count": null,
   "id": "e154b770-a687-4cd1-ba93-c29ac9dac0fd",
   "metadata": {},
   "outputs": [],
   "source": []
  },
  {
   "cell_type": "code",
   "execution_count": 14,
   "id": "5ff6ccbb-84aa-4854-a308-b390e06c3a8d",
   "metadata": {},
   "outputs": [],
   "source": [
    "for i in range(3):\n",
    "    img_c = images[i].copy()\n",
    "\n",
    "    t = np.zeros((2, 3))\n",
    "    _, rvec, tvec = aruco.estimatePoseCharucoBoard(\n",
    "        *corners_2[i],\n",
    "        board, mtx, dist,\n",
    "        None, None\n",
    "    )\n",
    "\n",
    "    img_c = cv2.drawFrameAxes(img_c, mtx, dist, rvec, tvec, 0.4)\n",
    "\n",
    "    show(img_c)"
   ]
  },
  {
   "cell_type": "code",
   "execution_count": 12,
   "id": "0af7ce95-5e03-4907-9dfe-67f4c43c6ccf",
   "metadata": {},
   "outputs": [],
   "source": [
    "def show(img):\n",
    "    cv2.imshow(\"window\", img)\n",
    "    while True:\n",
    "        key = cv2.waitKey(1)\n",
    "        if key == ord('q'):\n",
    "            break\n",
    "    cv2.destroyAllWindows()"
   ]
  },
  {
   "cell_type": "code",
   "execution_count": 69,
   "id": "919f4e42-11c7-4780-b864-33334a7aaf2e",
   "metadata": {},
   "outputs": [],
   "source": [
    "cam = Camera()\n",
    "cam.captured_images = [cv2.imread(f\"../machines/02_dobot/charuco_1/charuco_{i}.png\") for i in range(3)]\n",
    "\n",
    "cam.calibrate()"
   ]
  },
  {
   "cell_type": "code",
   "execution_count": 29,
   "id": "7a816fac-384a-4cc0-a6f7-bb62e48f8bc4",
   "metadata": {},
   "outputs": [],
   "source": [
    "show(cam.process_charuko(cam.captured_images[0])[0])"
   ]
  },
  {
   "cell_type": "code",
   "execution_count": 94,
   "id": "b011b215-8175-48a3-92c0-23604e0e52be",
   "metadata": {},
   "outputs": [],
   "source": [
    "import pickle\n",
    "with open(f\"../machines/02_dobot/charuco_1/poses.pickle\", \"rb\") as f:\n",
    "    data = pickle.load(f)\n",
    "base_to_end = data[\"base_to_end\"]\n",
    "cam_to_checker = data[\"cam_to_checker\"]"
   ]
  },
  {
   "cell_type": "code",
   "execution_count": 112,
   "id": "7463b451-a8dc-4114-9e53-99fabc0fc819",
   "metadata": {},
   "outputs": [],
   "source": [
    "def calc_normal(twists):\n",
    "    return np.mean([twist[:3, 2] for twist in twists], axis=0)\n",
    "\n",
    "def get_B(twist, n):\n",
    "    R = twist[:3, :3]\n",
    "    p = twist[:3, -1:]\n",
    "\n",
    "    r_vec = n + [0, 0, 1]\n",
    "    r_vec = r_vec / np.linalg.norm(r_vec) * np.pi\n",
    "    R1 = cv2.Rodrigues(r_vec)[0]\n",
    "\n",
    "    B = np.block([[R1, np.zeros((3, 1))], [0, 0, 0, 1]]) @ twist\n",
    "    return B[np.ix_([0, 1, 3], [0, 1, 3])]"
   ]
  },
  {
   "cell_type": "code",
   "execution_count": 121,
   "id": "f2717c2c-4c1c-49be-9bdd-47b8c7a170ac",
   "metadata": {},
   "outputs": [
    {
     "data": {
      "text/plain": [
       "array([-0.17641429, -0.20707052,  0.9622887 ])"
      ]
     },
     "execution_count": 121,
     "metadata": {},
     "output_type": "execute_result"
    }
   ],
   "source": [
    "n"
   ]
  },
  {
   "cell_type": "code",
   "execution_count": 119,
   "id": "8ee0d402-b1cb-45a3-a6c8-7c9000e7e883",
   "metadata": {},
   "outputs": [
    {
     "data": {
      "text/plain": [
       "array([[-0.99999994,  0.00020325,  0.20016782],\n",
       "       [ 0.00020332,  0.99999995,  0.09994503],\n",
       "       [ 0.        ,  0.        ,  1.        ]])"
      ]
     },
     "execution_count": 119,
     "metadata": {},
     "output_type": "execute_result"
    }
   ],
   "source": [
    "As[1] @ get_X(*optim.x) @ Bs[1]"
   ]
  },
  {
   "cell_type": "code",
   "execution_count": 114,
   "id": "f1a28e95-377b-4663-8527-56e649547106",
   "metadata": {},
   "outputs": [],
   "source": [
    "from itertools import combinations\n",
    "def get_X(phi, dx, dy):\n",
    "    return np.array([\n",
    "        [np.cos(phi), -np.sin(phi), dx],\n",
    "        [np.sin(phi), np.cos(phi), dy],\n",
    "        [0, 0, 1]\n",
    "    ])\n",
    "\n",
    "def solver(x):\n",
    "    X = get_X(*x)\n",
    "    l = left @ X\n",
    "    r = np.vstack([(X @ right)[:2] for right in rights])\n",
    "    loss = np.linalg.norm(l - r, \"fro\")\n",
    "    return loss"
   ]
  },
  {
   "cell_type": "code",
   "execution_count": 115,
   "id": "6d55baf5-6902-4475-be07-412a612de6bd",
   "metadata": {},
   "outputs": [],
   "source": [
    "import scipy.optimize as optimize\n",
    "optim = optimize.minimize(solver, [0, 0, 0], options=dict(maxiter=10_000))"
   ]
  },
  {
   "cell_type": "code",
   "execution_count": 116,
   "id": "9456d286-8310-43b6-81a4-e05c3cd71bdf",
   "metadata": {},
   "outputs": [
    {
     "data": {
      "text/plain": [
       "  message: Optimization terminated successfully.\n",
       "  success: True\n",
       "   status: 0\n",
       "      fun: 0.0005930198346456394\n",
       "        x: [ 1.490e+00 -4.241e-04  5.008e-02]\n",
       "      nit: 21\n",
       "      jac: [-3.682e-07  3.185e-06 -2.305e-06]\n",
       " hess_inv: [[ 5.289e-02 -1.619e-03 -1.302e-02]\n",
       "            [-1.619e-03  1.902e-04  3.977e-04]\n",
       "            [-1.302e-02  3.977e-04  3.345e-03]]\n",
       "     nfev: 136\n",
       "     njev: 34"
      ]
     },
     "execution_count": 116,
     "metadata": {},
     "output_type": "execute_result"
    }
   ],
   "source": [
    "optim"
   ]
  },
  {
   "cell_type": "code",
   "execution_count": 92,
   "id": "69a2a968-476f-4f6d-97d1-1b5c4f73e34b",
   "metadata": {},
   "outputs": [
    {
     "data": {
      "text/plain": [
       "array([[ 0.00024252,  0.00021116, -0.00030856],\n",
       "       [-0.00021116,  0.00024252,  0.00019344],\n",
       "       [ 0.00027842, -0.000139  , -0.00027269],\n",
       "       [ 0.000139  ,  0.00027842, -0.00015935],\n",
       "       [ 0.00018894, -0.00015969, -0.00023699],\n",
       "       [ 0.00015969,  0.00018894, -0.00016928],\n",
       "       [-0.00000472,  0.00000924,  0.00002517],\n",
       "       [-0.00000924, -0.00000472,  0.00005281],\n",
       "       [-0.00001715,  0.00007217,  0.00000932],\n",
       "       [-0.00007217, -0.00001715,  0.00011352],\n",
       "       [-0.00006301,  0.00001004, -0.00001444],\n",
       "       [-0.00001004, -0.00006301,  0.00004286]])"
      ]
     },
     "execution_count": 92,
     "metadata": {},
     "output_type": "execute_result"
    }
   ],
   "source": [
    "left @ get_X(*optim.x) - np.vstack([(get_X(*optim.x) @ right)[:2] for right in rights])"
   ]
  },
  {
   "cell_type": "code",
   "execution_count": 91,
   "id": "eed6d0aa-60a2-496a-bc86-0a96935ec1c2",
   "metadata": {},
   "outputs": [
    {
     "data": {
      "text/plain": [
       "array([[ 0.65654461, -0.7542872 ,  0.09387064],\n",
       "       [ 0.7542872 ,  0.65654461,  0.11354144],\n",
       "       [-0.44682104, -0.89462336,  0.09109844],\n",
       "       [ 0.89462336, -0.44682104, -0.09853438],\n",
       "       [-0.64560109, -0.76367482,  0.13103933],\n",
       "       [ 0.76367482, -0.64560109, -0.13444103],\n",
       "       [-0.89065726, -0.45467531,  0.15988141],\n",
       "       [ 0.45467531, -0.89065726, -0.22892253],\n",
       "       [-0.97288419, -0.23129277,  0.22869008],\n",
       "       [ 0.23129277, -0.97288419, -0.24487879],\n",
       "       [-0.15729674, -0.98755138,  0.01877084],\n",
       "       [ 0.98755138, -0.15729674, -0.0601117 ]])"
      ]
     },
     "execution_count": 91,
     "metadata": {},
     "output_type": "execute_result"
    }
   ],
   "source": []
  },
  {
   "cell_type": "code",
   "execution_count": 99,
   "id": "90c86917-1523-44ad-bda7-d33913b6a9fd",
   "metadata": {},
   "outputs": [
    {
     "data": {
      "text/plain": [
       "array([[ 0.77064702,  0.63726225, -0.08513299],\n",
       "       [-0.63726225,  0.77064702, -0.28344694],\n",
       "       [ 0.        ,  0.        ,  1.        ]])"
      ]
     },
     "execution_count": 99,
     "metadata": {},
     "output_type": "execute_result"
    }
   ],
   "source": [
    "B"
   ]
  },
  {
   "cell_type": "code",
   "execution_count": 85,
   "id": "f0e57701-8f5a-4ce3-a5c0-a265389186ab",
   "metadata": {},
   "outputs": [
    {
     "data": {
      "text/plain": [
       "(array([[ 0.06304504,  0.99670787,  0.05097785],\n",
       "        [ 0.10538187,  0.04414555, -0.99345147],\n",
       "        [-0.99243135,  0.06800433, -0.10225178]]),\n",
       " array([[-3.88976162e+00],\n",
       "        [ 1.23383242e+10],\n",
       "        [ 1.21889556e+01]]))"
      ]
     },
     "execution_count": 85,
     "metadata": {},
     "output_type": "execute_result"
    }
   ],
   "source": [
    "cv2.calibrateHandEye(\n",
    "    *zip(*base_to_end),\n",
    "    *zip(*cam_to_checker),\n",
    "    method=cv2.CALIB_HAND_EYE_HORAUD\n",
    ")"
   ]
  },
  {
   "cell_type": "code",
   "execution_count": 30,
   "id": "cca8e000-93ea-4b16-bd08-5995ffc1acfb",
   "metadata": {},
   "outputs": [],
   "source": [
    "import pybullet as pb\n",
    "from PIL import Image as im\n",
    "import io\n",
    "import cv2\n",
    "import numpy as np\n",
    "import cv2.aruco as aruco\n",
    "import os\n",
    "\n",
    "class Camera:\n",
    "    QUALITY = 80\n",
    "\n",
    "    default_size = {\n",
    "        'width': 1280,\n",
    "        'height': 720\n",
    "    }\n",
    "\n",
    "    def __init__(self, size=None):\n",
    "        if size is None:\n",
    "            size = Camera.default_size\n",
    "        self.size = size\n",
    "        self.viewMatrix = None\n",
    "        \n",
    "        self.projectionMatrix = pb.computeProjectionMatrixFOV(\n",
    "            fov=90.0,\n",
    "            aspect=1280 / 720,\n",
    "            nearVal=0.1,\n",
    "            farVal=100\n",
    "        )\n",
    "        self.captured_images = []\n",
    "        \n",
    "        self.dictionary = aruco.getPredefinedDictionary(aruco.DICT_4X4_50)\n",
    "        self.parameters =  cv2.aruco.DetectorParameters()\n",
    "        self.detector = aruco.ArucoDetector(self.dictionary, self.parameters)\n",
    "        self.tile_size = 2 * .2 / 8\n",
    "        self.board = aruco.CharucoBoard((8, 8), self.tile_size, self.tile_size / 2, self.dictionary)\n",
    "        \n",
    "        self.mtx, self.dist = None, None\n",
    "\n",
    "    def set_pos(self, pos, up_vector, direction):\n",
    "        pos = np.array(pos)\n",
    "        up = np.cross(np.cross(direction, up_vector), direction)\n",
    "        \n",
    "        self.viewMatrix = pb.computeViewMatrix(\n",
    "            cameraEyePosition=pos,\n",
    "            cameraTargetPosition=pos + direction,\n",
    "            cameraUpVector=up_vector\n",
    "        )\n",
    "\n",
    "    def get_frame(self, save=True) -> np.ndarray:\n",
    "        \"\"\"\n",
    "        returns RGBA array of size (x, y, 4)\n",
    "        \"\"\"\n",
    "        if self.viewMatrix is None:\n",
    "            return np.array([])\n",
    "        params = {\n",
    "            **self.size,\n",
    "            'viewMatrix': self.viewMatrix,\n",
    "            'projectionMatrix': self.projectionMatrix,\n",
    "            'renderer': pb.ER_BULLET_HARDWARE_OPENGL\n",
    "        }\n",
    "        frame = pb.getCameraImage(**params)[2][:, :, :3].astype(np.uint8)\n",
    "        if save:\n",
    "            self.captured_images.append(frame)\n",
    "        return frame\n",
    "    \n",
    "    def calibrate(self):\n",
    "        matched_points = []\n",
    "        for image in self.captured_images:\n",
    "            image = cv2.cvtColor(image, cv2.COLOR_BGR2GRAY)\n",
    "            cur_corners, cur_ids, _ = self.detector.detectMarkers(image)\n",
    "            matched_points.append(list(\n",
    "                map(np.squeeze, self.board.matchImagePoints(cur_corners, cur_ids))\n",
    "            ))\n",
    "        obj_points, img_points = zip(*matched_points)\n",
    "\n",
    "        ret, mtx, dist, rvecs, tvecs = cv2.calibrateCamera(\n",
    "            obj_points, img_points, image.shape,\n",
    "            None, None\n",
    "        )\n",
    "        self.mtx = mtx\n",
    "        self.dist = dist\n",
    "    \n",
    "    def save(self, folder):\n",
    "        for i, frame in enumerate(self.captured_images):\n",
    "            if not os.path.exists(f\"./{folder}/\"):\n",
    "                os.mkdir(f\"./{folder}/\")\n",
    "            cv2.imwrite(f\"{folder}/charuco_{i}.png\", frame)\n",
    "    \n",
    "    def process_charuko(self, frame):\n",
    "        assert self.mtx is not None and self.dist is not None\n",
    "        \n",
    "        frame = frame.copy()\n",
    "        \n",
    "        font = cv2.FONT_HERSHEY_SIMPLEX\n",
    "        gray = cv2.cvtColor(frame, cv2.COLOR_BGR2GRAY)\n",
    "        \n",
    "        corners, ids, _ = self.detector.detectMarkers(gray)\n",
    "        \n",
    "        if ids is None:\n",
    "            cv2.putText(frame, \"No Ids\", (0,64), font, 1, (0,255,0),2,cv2.LINE_AA)\n",
    "            return frame\n",
    "        \n",
    "        _, corners_checker, ids_checker = aruco.interpolateCornersCharuco(\n",
    "            corners, ids,\n",
    "            gray, self.board\n",
    "        )\n",
    "        \n",
    "        _, rvec_check, tvec_check = aruco.estimatePoseCharucoBoard(\n",
    "            corners_checker, ids_checker, \n",
    "            self.board, self.mtx, self.dist,\n",
    "            None, None\n",
    "        )\n",
    "        \n",
    "        cv2.drawFrameAxes(frame, self.mtx, self.dist, rvec_check, tvec_check, 0.1)\n",
    "        aruco.drawDetectedMarkers(frame, corners)\n",
    "        rvecs, tvecs, _ = aruco.estimatePoseSingleMarkers(corners, self.tile_size / 2, self.mtx, self.dist)\n",
    "        \n",
    "        for rvec, tvec in zip(rvecs, tvecs):\n",
    "            cv2.drawFrameAxes(frame, self.mtx, self.dist, rvec, tvec, 0.03)\n",
    "            \n",
    "        return frame, rvec_check, tvec_check\n"
   ]
  },
  {
   "cell_type": "code",
   "execution_count": null,
   "id": "973653a3-dc8e-44b9-90a0-47ff50d71930",
   "metadata": {},
   "outputs": [],
   "source": []
  }
 ],
 "metadata": {
  "kernelspec": {
   "display_name": "Python 3 (ipykernel)",
   "language": "python",
   "name": "python3"
  },
  "language_info": {
   "codemirror_mode": {
    "name": "ipython",
    "version": 3
   },
   "file_extension": ".py",
   "mimetype": "text/x-python",
   "name": "python",
   "nbconvert_exporter": "python",
   "pygments_lexer": "ipython3",
   "version": "3.10.11"
  }
 },
 "nbformat": 4,
 "nbformat_minor": 5
}
