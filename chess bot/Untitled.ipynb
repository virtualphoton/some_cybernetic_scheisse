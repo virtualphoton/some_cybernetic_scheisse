{
 "cells": [
  {
   "cell_type": "code",
   "execution_count": 8,
   "id": "302b7a66-6754-423a-b8b2-cdc0539697f5",
   "metadata": {},
   "outputs": [],
   "source": [
    "import cv2.aruco as aruco\n",
    "import cv2\n",
    "\n",
    "dictionary = aruco.Dictionary_get(aruco.DICT_4X4_50)\n",
    "board = aruco.CharucoBoard_create(8, 8, .4, .2, dictionary)"
   ]
  },
  {
   "cell_type": "code",
   "execution_count": 60,
   "id": "737e9f1a-fda7-4ef4-b2f2-1945450a4a94",
   "metadata": {},
   "outputs": [],
   "source": [
    "img = board.draw((1024, 1024))"
   ]
  },
  {
   "cell_type": "code",
   "execution_count": 67,
   "id": "a9ed67e2-d1c0-4dc7-ad6d-bdbaf3b7377d",
   "metadata": {},
   "outputs": [],
   "source": [
    "img = cv2.imread(\"../machines/02_dobot/arucos.png\")"
   ]
  },
  {
   "cell_type": "code",
   "execution_count": 68,
   "id": "9fae6709-e441-4a41-816b-c571bd22ae28",
   "metadata": {},
   "outputs": [],
   "source": [
    "params =  aruco.DetectorParameters_create()\n",
    "corners, ids, rejected = aruco.detectMarkers(\n",
    "    img,\n",
    "    dictionary,\n",
    "    parameters=params\n",
    ")\n",
    "\n",
    "num, corners2, ids2 = aruco.interpolateCornersCharuco(\n",
    "    corners,\n",
    "    ids,\n",
    "    img,\n",
    "    board\n",
    ")"
   ]
  },
  {
   "cell_type": "code",
   "execution_count": 69,
   "id": "86b724c9-34c0-4136-86b2-f7cd09a0dea1",
   "metadata": {},
   "outputs": [],
   "source": [
    "if img.shape[-1] != 3:\n",
    "    img_c = np.repeat(img[..., None], 3, axis=-1)\n",
    "else:\n",
    "    img_c = img.copy()\n",
    "img_c = aruco.drawDetectedCornersCharuco(img_c, corners2, ids2, [255, 0, 0])\n",
    "show(img_c)"
   ]
  },
  {
   "cell_type": "code",
   "execution_count": 47,
   "id": "2abd4987-77d9-4ba3-a0b9-d59078a41649",
   "metadata": {},
   "outputs": [],
   "source": [
    "mtx = np.array([[6.18050259e+05, 0.00000000e+00, 6.39488488e+02],\n",
    "        [0.00000000e+00, 6.18050677e+05, 3.59501727e+02],\n",
    "        [0.00000000e+00, 0.00000000e+00, 1.00000000e+00]])\n",
    "dist = np.array([[ 8.07480697e-01,  7.50618764e-07, -8.02591978e-05,\n",
    "    5.02494853e-05,  5.98330140e-13]])"
   ]
  },
  {
   "cell_type": "code",
   "execution_count": 53,
   "id": "ff6c34db-f0a0-4fbd-a245-682a1ff61486",
   "metadata": {},
   "outputs": [],
   "source": [
    "t = np.zeros((2, 3))\n",
    "_, rvec, tvec = aruco.estimatePoseCharucoBoard(\n",
    "    corners2, ids2,\n",
    "    board, mtx, dist,\n",
    "    np.zeros(3), np.zeros(3)\n",
    ")"
   ]
  },
  {
   "cell_type": "code",
   "execution_count": 55,
   "id": "b69e474e-55af-495a-8dbe-83a20433fe64",
   "metadata": {},
   "outputs": [
    {
     "data": {
      "text/plain": [
       "array([-1.99843392e+00, -1.12347503e+00,  1.93140716e+03])"
      ]
     },
     "execution_count": 55,
     "metadata": {},
     "output_type": "execute_result"
    }
   ],
   "source": [
    "tvec"
   ]
  },
  {
   "cell_type": "code",
   "execution_count": 56,
   "id": "772a3c8e-b9da-42df-a8a6-97650e193957",
   "metadata": {},
   "outputs": [
    {
     "data": {
      "text/plain": [
       "(array([[ 1.00000000e+00, -6.42884228e-08,  9.80081952e-06],\n",
       "        [ 7.08223995e-08,  9.99999778e-01, -6.66678024e-04],\n",
       "        [-9.80077448e-06,  6.66678024e-04,  9.99999778e-01]]),\n",
       " array([[ 5.34175568e-15,  4.90041333e-06,  3.15997121e-08,\n",
       "          4.90038331e-06, -6.66678024e-04, -9.99999778e-01,\n",
       "          3.59556966e-08,  9.99999778e-01, -6.66678024e-04],\n",
       "        [-9.80079737e-06,  3.33339025e-04,  9.99999926e-01,\n",
       "          3.33339024e-04,  3.63344779e-13,  3.59556991e-08,\n",
       "         -9.99999926e-01,  3.15997146e-08, -9.80079700e-06],\n",
       "        [-6.75554137e-08, -9.99999926e-01,  3.33339024e-04,\n",
       "          9.99999926e-01, -6.75554112e-08,  4.90041370e-06,\n",
       "          3.33339025e-04,  4.90038367e-06,  2.50502184e-15]]))"
      ]
     },
     "execution_count": 56,
     "metadata": {},
     "output_type": "execute_result"
    }
   ],
   "source": [
    "cv2.Rodrigues(rvec)"
   ]
  },
  {
   "cell_type": "code",
   "execution_count": 54,
   "id": "170b1c78-085e-4562-938c-45117d9bd6a5",
   "metadata": {},
   "outputs": [
    {
     "data": {
      "text/plain": [
       "array([6.66678073e-04, 9.80079773e-06, 6.75554162e-08])"
      ]
     },
     "execution_count": 54,
     "metadata": {},
     "output_type": "execute_result"
    }
   ],
   "source": [
    "rvec"
   ]
  },
  {
   "cell_type": "code",
   "execution_count": 36,
   "id": "5de06b5e-94ec-45ba-bb12-43f4a31f3352",
   "metadata": {},
   "outputs": [],
   "source": [
    "show(img_c)"
   ]
  },
  {
   "cell_type": "code",
   "execution_count": 35,
   "id": "0af7ce95-5e03-4907-9dfe-67f4c43c6ccf",
   "metadata": {},
   "outputs": [],
   "source": [
    "def show(img):\n",
    "    cv2.imshow(\"window\", img)\n",
    "    while True:\n",
    "        key = cv2.waitKey(1)\n",
    "        if key == ord('q'):\n",
    "            break\n",
    "    cv2.destroyAllWindows()"
   ]
  },
  {
   "cell_type": "code",
   "execution_count": 10,
   "id": "567a7bdb-34c0-4743-ae5d-63bdc0176e05",
   "metadata": {},
   "outputs": [
    {
     "data": {
      "text/plain": [
       "True"
      ]
     },
     "execution_count": 10,
     "metadata": {},
     "output_type": "execute_result"
    }
   ],
   "source": [
    "imboard = \n",
    "cv2.imwrite(\"chessboard1.png\", imboard)"
   ]
  },
  {
   "cell_type": "code",
   "execution_count": 3,
   "id": "8f366a89-41f6-4ba4-82c9-cfd7dc361f53",
   "metadata": {},
   "outputs": [
    {
     "ename": "AttributeError",
     "evalue": "module 'cv2.aruco' has no attribute 'Dictionary_get'",
     "output_type": "error",
     "traceback": [
      "\u001b[0;31m---------------------------------------------------------------------------\u001b[0m",
      "\u001b[0;31mAttributeError\u001b[0m                            Traceback (most recent call last)",
      "Cell \u001b[0;32mIn[3], line 1\u001b[0m\n\u001b[0;32m----> 1\u001b[0m \u001b[43maruco\u001b[49m\u001b[38;5;241;43m.\u001b[39;49m\u001b[43mDictionary_get\u001b[49m\n",
      "\u001b[0;31mAttributeError\u001b[0m: module 'cv2.aruco' has no attribute 'Dictionary_get'"
     ]
    }
   ],
   "source": [
    "aruco.Dictionary_get"
   ]
  },
  {
   "cell_type": "code",
   "execution_count": 1,
   "id": "eacae058-e716-439d-b1d5-045cb14f3151",
   "metadata": {},
   "outputs": [],
   "source": [
    "import numpy as np"
   ]
  },
  {
   "cell_type": "code",
   "execution_count": 3,
   "id": "de1093ce-76c2-40a3-9504-531177769426",
   "metadata": {},
   "outputs": [
    {
     "data": {
      "text/plain": [
       "array([-1, -1, -1,  0,  1,  1])"
      ]
     },
     "execution_count": 3,
     "metadata": {},
     "output_type": "execute_result"
    }
   ],
   "source": [
    "np.sign(np.arange(-3, 3))"
   ]
  }
 ],
 "metadata": {
  "kernelspec": {
   "display_name": "Python 3 (ipykernel)",
   "language": "python",
   "name": "python3"
  },
  "language_info": {
   "codemirror_mode": {
    "name": "ipython",
    "version": 3
   },
   "file_extension": ".py",
   "mimetype": "text/x-python",
   "name": "python",
   "nbconvert_exporter": "python",
   "pygments_lexer": "ipython3",
   "version": "3.10.11"
  }
 },
 "nbformat": 4,
 "nbformat_minor": 5
}
