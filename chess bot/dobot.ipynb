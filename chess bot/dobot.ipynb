{
 "cells": [
  {
   "cell_type": "code",
   "execution_count": 44,
   "id": "ce28e535",
   "metadata": {},
   "outputs": [],
   "source": [
    "import sys\n",
    "dll_path = r'C:\\Users\\bkmz1\\PycharmProjects\\manipulator\\dobot_lib'\n",
    "sys.path.insert(1,dll_path)\n",
    "import DobotDllType as dType\n",
    "from math import pi\n",
    "import numpy as np\n",
    "import time\n",
    "import scipy.optimize as optimize\n",
    "from math import dist, atan2\n",
    "from itertools import combinations, islice\n",
    "import pickle\n",
    "import ipywidgets as widgets"
   ]
  },
  {
   "cell_type": "code",
   "execution_count": 2,
   "id": "784dc0bd",
   "metadata": {},
   "outputs": [],
   "source": [
    "with open('coords.pickle', 'rb') as f:\n",
    "    data = pickle.load(f)"
   ]
  },
  {
   "cell_type": "code",
   "execution_count": 55,
   "id": "a56ba854",
   "metadata": {},
   "outputs": [
    {
     "data": {
      "text/plain": [
       "['R_ab',\n",
       " '__class__',\n",
       " '__delattr__',\n",
       " '__dict__',\n",
       " '__dir__',\n",
       " '__doc__',\n",
       " '__eq__',\n",
       " '__format__',\n",
       " '__ge__',\n",
       " '__getattribute__',\n",
       " '__gt__',\n",
       " '__hash__',\n",
       " '__init__',\n",
       " '__init_subclass__',\n",
       " '__le__',\n",
       " '__lt__',\n",
       " '__module__',\n",
       " '__ne__',\n",
       " '__new__',\n",
       " '__reduce__',\n",
       " '__reduce_ex__',\n",
       " '__repr__',\n",
       " '__setattr__',\n",
       " '__sizeof__',\n",
       " '__slotnames__',\n",
       " '__str__',\n",
       " '__subclasshook__',\n",
       " '__weakref__',\n",
       " 'api',\n",
       " 'board_xy_from_px',\n",
       " 'calibrate_height',\n",
       " 'calibrate_image',\n",
       " 'calibrate_pos',\n",
       " 'change_j4',\n",
       " 'chess_piece_height',\n",
       " 'copy',\n",
       " 'copy_data',\n",
       " 'dobot_xy_from_board_xy',\n",
       " 'get_height',\n",
       " 'get_xyz',\n",
       " 'move_new_z',\n",
       " 'move_piece',\n",
       " 'move_to_px',\n",
       " 'move_to_tile',\n",
       " 'move_xyz',\n",
       " 'offset',\n",
       " 'origin',\n",
       " 'pieces_heights',\n",
       " 'read_coords',\n",
       " 'temp',\n",
       " 'tile_size',\n",
       " 'zero_height']"
      ]
     },
     "execution_count": 55,
     "metadata": {},
     "output_type": "execute_result"
    }
   ],
   "source": [
    "dir(db)"
   ]
  },
  {
   "cell_type": "code",
   "execution_count": 58,
   "id": "24369e58",
   "metadata": {},
   "outputs": [
    {
     "name": "stdout",
     "output_type": "stream",
     "text": [
      "0\n",
      "[13.70218526  6.29568487]\n",
      "{'pawn': -45.83985900878906, 'rook': -40.83985900878906, 'knight': -40.83985900878906, 'bishop': -40.83985900878906, 'queen': -40.83985900878906, 'king': -14.503204345703125}\n",
      "{'bc': ['d8', 'h4', 'e2'], 'dc': [[292.9919128417969, -41.000938415527344], [189.7934112548828, 76.61956024169922], [278.457275390625, 126.46517944335938]], 'j1': [-7.9661712646484375, 21.983919143676758, 24.42582130432129]}\n",
      "[27.58505335]\n",
      "-60.57623291015625\n"
     ]
    }
   ],
   "source": [
    "print(db.offset, db.origin, db.pieces_heights, db.temp, db.tile_size, db.zero_height, sep='\\n')"
   ]
  },
  {
   "cell_type": "code",
   "execution_count": 3,
   "id": "a31d5f8a",
   "metadata": {},
   "outputs": [
    {
     "name": "stdout",
     "output_type": "stream",
     "text": [
      "The dll you are using is 64-bit. In order to run smoothly, please ensure that your python environment is also 64-bit.\n",
      "The python environment is： ('64bit', 'WindowsPE')\n"
     ]
    }
   ],
   "source": [
    "com = 'COM4'\n",
    "api = dType.load(dll_path)"
   ]
  },
  {
   "cell_type": "code",
   "execution_count": 4,
   "id": "4a0f128a",
   "metadata": {},
   "outputs": [
    {
     "name": "stdout",
     "output_type": "stream",
     "text": [
      "Connect status: 0\n"
     ]
    },
    {
     "data": {
      "text/plain": [
       "[4]"
      ]
     },
     "execution_count": 4,
     "metadata": {},
     "output_type": "execute_result"
    }
   ],
   "source": [
    "state = dType.ConnectDobot(api, \"\", 115200)[0]\n",
    "print(\"Connect status:\", state)\n",
    "\n",
    "dType.SetQueuedCmdClear(api)\n",
    "dType.SetQueuedCmdStartExec(api)\n",
    "\n",
    "dType.SetHOMEParams(api, 200, 200, 200, 200, isQueued = 1)\n",
    "dType.SetPTPJointParams(api, 200, 200, 200, 200, 200, 200, 200, 200, isQueued = 1)\n",
    "dType.SetPTPCommonParams(api, 100, 100, isQueued = 1)"
   ]
  },
  {
   "cell_type": "code",
   "execution_count": 144,
   "id": "611b1cdb",
   "metadata": {},
   "outputs": [],
   "source": [
    "dType.DisconnectDobot(api)"
   ]
  },
  {
   "cell_type": "code",
   "execution_count": 39,
   "id": "d1648495",
   "metadata": {},
   "outputs": [],
   "source": [
    "def coords_from_chess_pos(pos):\n",
    "    # from chess pos (e.g. 'e4') into local chess coords\n",
    "    # letters - xi axis, numbers - eta. Origin at center of a1\n",
    "    assert len(pos) == 2\n",
    "    if isinstance(pos, str):\n",
    "        char, num = pos.lower()\n",
    "        xi = ord(char) - ord('a')\n",
    "        eta = int(num) - 1\n",
    "        return np.array([xi, eta])\n",
    "    else:\n",
    "        return np.array(pos)\n",
    "    \n",
    "\n",
    "def find_intersections(o1, r1, o2, r2, eps=.1):\n",
    "    # finds intersection points of 2 circles\n",
    "    # if no intersection, raises exception\n",
    "    o1, o2 = numpify(o1, o2)\n",
    "    d = dist(o1, o2)\n",
    "    assert d <= r1+r2\n",
    "    assert d > eps\n",
    "    a = (r1**2-r2**2+d**2)/(2*d)\n",
    "    h = (r1**2 - a**2)**.5\n",
    "    P = (o2-o1)*a/d+o1\n",
    "    perp_ = perp(o2-o1)\n",
    "    I1, I2 = P+h*perp_, P-h*perp_\n",
    "    return I1, I2\n",
    "\n",
    "def normalize(vec):\n",
    "    return np.array(vec)/length(vec)\n",
    "\n",
    "def perp(vec):\n",
    "    return normalize(vec)[::-1]*np.array([-1,1])\n",
    "\n",
    "def length(vec):\n",
    "    return dist(vec, [0]*len(vec))\n",
    "\n",
    "def numpify(*args):\n",
    "    arrays = [0]*len(args)\n",
    "    for i, arg in enumerate(args):\n",
    "        arrays[i] = arg.astype(np.float32) if isinstance(arg, np.ndarray) else np.array(arg, dtype=np.float32)\n",
    "    return arrays\n",
    "\n",
    "def find_angle(vec_a, vec_b):\n",
    "    \"\"\"\n",
    "    finds angle from vec_b to vec_a in [0; 2pi) (counterclockwise)\n",
    "    \"\"\"\n",
    "    return (atan2(*vec_a)-atan2(*vec_b))%(2*pi)\n",
    "\n",
    "def find_circles(A_b, B_b, A_d, B_d):\n",
    "    # find center and radius of circle, given coords in board frame and dobot frame\n",
    "    # returns o1, o2, r\n",
    "    A_b, B_b, A_d, B_d = numpify(A_b, B_b, A_d, B_d)\n",
    "    a = length(A_d)\n",
    "    b = length(B_d)\n",
    "    c = length(A_d - B_d)\n",
    "    cos_alpha = (a**2+b**2-c**2)/2/a/b\n",
    "    sin_alpha = (1-cos_alpha**2)**.5\n",
    "    AB_b = B_b-A_b\n",
    "    l = length(AB_b)\n",
    "    r = l/2/sin_alpha\n",
    "    normal = r*cos_alpha*perp(AB_b)\n",
    "    M = (A_b+B_b)/2\n",
    "    o1, o2 = M+normal, M-normal\n",
    "    return o1, o2, r\n",
    "\n",
    "def count_coincides(A, points, eps = .1):\n",
    "    return len([0 for point in points if dist(A, point) < eps])\n",
    "\n",
    "def is_clockwise(vec1, vec2):\n",
    "    # finds if vec2 is rotated clockwise from vec1\n",
    "    cross = vec1[0]*vec2[1] - vec1[1]*vec2[0]\n",
    "    assert cross != 0\n",
    "    return cross < 0\n",
    "\n",
    "def find_origin(board_coords, dobot_coords, j1_positions):\n",
    "    # find center, given coords of 3 points\n",
    "    # points all have different angle for 1st joint\n",
    "    assert len(board_coords) == len(dobot_coords) == 3\n",
    "    circles = []\n",
    "    board_coords = list(map(coords_from_chess_pos, board_coords))\n",
    "    for i, j in combinations([0,1,2], 2):\n",
    "        o1, o2, r = find_circles(board_coords[i], board_coords[j], dobot_coords[i], dobot_coords[j])\n",
    "        circles.extend(([o1, r], [o2, r]))\n",
    "    inters = []\n",
    "    for circ1, circ2 in combinations(circles, 2):\n",
    "        inters.extend(find_intersections(*circ1, *circ2))\n",
    "    centers = [p for p in inters if count_coincides(p, inters) == 3]\n",
    "    c0 = centers[0]\n",
    "    eps = .1\n",
    "    for c in centers:\n",
    "        if dist(c0, c) > eps:\n",
    "            c1 = c\n",
    "            break\n",
    "    board_coords.append(board_coords[0])\n",
    "    j1_positions = j1_positions + [j1_positions[0]]\n",
    "    for center in (c0, c1):\n",
    "        vectors = [b_point - center for b_point in board_coords]\n",
    "        for v1, v2, j_val1, j_val2 in zip(vectors[:-1], vectors[1:], j1_positions[:-1], j1_positions[1:]):\n",
    "            # clockwise rotation is changing j1 angle to lesser angle\n",
    "            if not is_clockwise(v1, v2) == (j_val2 - j_val1 < 0):\n",
    "                break\n",
    "        else:\n",
    "            return center\n",
    "    raise ValueError('bad points passed')\n",
    "\n",
    "def find_rot_angle(p_b, q_a, origin):\n",
    "    \"\"\"\n",
    "    returns rotation matrix R_ab\n",
    "    p_b - coordinates of point in board frame\n",
    "    q_a - coordinates shown by dobot\n",
    "    origin - coordinates of dobot's origin in board frame\n",
    "    \"\"\"\n",
    "    p_b = coords_from_chess_pos(p_b)\n",
    "    p_b, q_a, origin = numpify(p_b, q_a, origin)\n",
    "    # same vector in different frames\n",
    "    v_b = normalize(p_b-origin)\n",
    "    v_a = normalize(q_a)\n",
    "    \n",
    "    angle = find_angle(v_b, v_a)\n",
    "    return angle\n",
    "\n",
    "def find_l(board_coords, dobot_coords, origin):\n",
    "    \"\"\"\n",
    "    board_coords - coords of 3 points in board's frame\n",
    "    dobot_coords - coords shown by dobot\n",
    "    origin - origin of dobot in board's frame\n",
    "    \n",
    "    returns d - offset, l - size of tile (both in mm, if given dobot coords are in mm)\n",
    "    \"\"\"\n",
    "    board_coords = list(map(coords_from_chess_pos, board_coords))\n",
    "    dobot_coords, origin = numpify(dobot_coords, origin)\n",
    "    lengths_b = [length(point-origin) for point in board_coords]\n",
    "    lengths_a = [length(point) for point in dobot_coords]\n",
    "    def la_from_lb(l_b, l):\n",
    "        return l*l_b\n",
    "    popt, _ = optimize.curve_fit(la_from_lb, lengths_b, lengths_a, [28])\n",
    "    print('d, l optimization error:', sum([abs(la_from_lb(l_b, *popt) - l_a) for l_b, l_a in zip(lengths_b, lengths_a)]))\n",
    "    return popt\n",
    "\n",
    "def rot_matr(phi):\n",
    "    c, s = np.cos(phi), np.sin(phi)\n",
    "    return np.array([[c, -s],\n",
    "                     [s, c]])"
   ]
  },
  {
   "cell_type": "code",
   "execution_count": 6,
   "id": "341327ba",
   "metadata": {},
   "outputs": [],
   "source": [
    "def calibrate_by_optimizing(board_xy, dobot_xy, defaults=None):\n",
    "    def get_coords(x):\n",
    "        phi, o_x, o_y, tile_size, offset = x\n",
    "        summ = 0\n",
    "        for p_b, p_a in zip(board_xy, dobot_xy):\n",
    "            c, s = np.cos(phi), np.sin(phi)\n",
    "            R_ab = np.array([[c, -s],\n",
    "                             [s, c]])\n",
    "            origin = np.array([o_x, o_y])\n",
    "            t = R_ab@(coords_from_chess_pos(p_b) - origin)\n",
    "            p_a_calc = t*tile_size - offset * normalize(t)\n",
    "            summ += dist(p_a, p_a_calc)\n",
    "        return summ\n",
    "    if defaults is None:\n",
    "        defaults = [3.14/2,4, 16, 28, -30]\n",
    "    optimizer = optimize.minimize(get_coords, defaults,  method='Nelder-Mead', options={'maxiter':10**10})\n",
    "    phi, o_x, o_y, tile_size, offset = optimizer.x\n",
    "    R_ab = rot_matr(phi)\n",
    "    print(f'error distance is: {get_coords(optimizer.x)}')\n",
    "    return R_ab, np.array([o_x, o_y]), tile_size, offset\n",
    "\n",
    "def calibrate_by_optimizing_2(board_xy, dobot_xy, tile_size):\n",
    "    def get_coords(x):\n",
    "        phi, o_x, o_y, offset = x\n",
    "        summ = 0\n",
    "        for p_b, p_a in zip(board_xy, dobot_xy):\n",
    "            c, s = np.cos(phi), np.sin(phi)\n",
    "            R_ab = np.array([[c, -s],\n",
    "                             [s, c]])\n",
    "            origin = np.array([o_x, o_y])\n",
    "            t = R_ab@(coords_from_chess_pos(p_b) - origin)\n",
    "            p_a_calc = t*tile_size - offset * normalize(t)\n",
    "            summ += dist(p_a, p_a_calc)\n",
    "        return summ\n",
    "    optimizer = optimize.minimize(get_coords, [3.14/2, 4, 16, 0],  method='Nelder-Mead', options={'maxiter':10**10})\n",
    "    phi, o_x, o_y, offset = optimizer.x\n",
    "    c, s = np.cos(phi), np.sin(phi)\n",
    "    R_ab = rot_matr(phi)\n",
    "    print(f'error distance is: {get_coords(optimizer.x)}, {offset=}')\n",
    "    return R_ab, np.array([o_x, o_y]), offset"
   ]
  },
  {
   "cell_type": "code",
   "execution_count": 40,
   "id": "47a3c30b",
   "metadata": {},
   "outputs": [],
   "source": [
    "class Dobot:\n",
    "    def __init__(self, api, copy_from=None, from_data=None):\n",
    "        \"\"\"\n",
    "        origin - dobot origin in board's coords\n",
    "        \"\"\"\n",
    "        self.api = api\n",
    "        self.temp = {}\n",
    "        self.zero_height = None\n",
    "        self.pieces_heights = {}\n",
    "        if copy_from is not None:\n",
    "            self.copy(copy_from)\n",
    "        elif from_data is not None:\n",
    "            self.copy_data(data)\n",
    "            \n",
    "    \n",
    "    def copy(self, other_dobot):\n",
    "        self.temp = other_dobot.temp\n",
    "        try:\n",
    "            self.calibrate_pos(0)\n",
    "        except Exception as e:\n",
    "            print('exception, while trying to calibrate')\n",
    "        self.zero_height = other_dobot.zero_height\n",
    "        self.pieces_heights = other_dobot.pieces_heights\n",
    "        \n",
    "    def copy_data(self, data):\n",
    "        self.temp = data['temp']\n",
    "        self.zero_height = data['zero_height']\n",
    "        self.pieces_heights = data['heights']\n",
    "    \n",
    "    def dobot_xy_from_board_xy(self, board_xy):\n",
    "        \"\"\"\n",
    "        board_xy - can either be like 'b3' or like [1, 2]\n",
    "        \"\"\"\n",
    "        t = self.R_ab@(coords_from_chess_pos(board_xy) - self.origin)\n",
    "        return t*self.tile_size - self.offset * normalize(t)\n",
    "    \n",
    "    def move_xyz(self, x, y, z, j4_rot=0):\n",
    "        dType.SetPTPCmd(self.api,\n",
    "            dType.PTPMode.PTPMOVLXYZMode,\n",
    "            x,\n",
    "            y,\n",
    "            z,\n",
    "            j4_rot,\n",
    "            isQueued=1\n",
    "        )\n",
    "    \n",
    "    def move_new_z(self, z):\n",
    "        self.move_xyz(*dType.GetPose(self.api)[:2], z, dType.GetPose(self.api)[3])\n",
    "    \n",
    "    def change_j4(self, j4):\n",
    "        self.move_xyz(*dType.GetPose(self.api)[:3], j4)\n",
    "    \n",
    "    def chess_piece_height(self, piece):\n",
    "        print(piece)\n",
    "        default_offset = 20\n",
    "        if piece is None:\n",
    "            return self.zero_height + default_offset\n",
    "        else:\n",
    "            return self.pieces_heights[piece]\n",
    "    \n",
    "    def move_to_tile(self, board_xy, chess_piece=None, height=None, j4_rot=0):\n",
    "        dobot_xy = self.dobot_xy_from_board_xy(board_xy)\n",
    "        if height is None:\n",
    "            height = self.chess_piece_height(chess_piece)\n",
    "        self.move_xyz(*dobot_xy, height, j4_rot)\n",
    "    \n",
    "    def get_height(self):\n",
    "        return dType.GetPose(self.api)[2]\n",
    "    \n",
    "    def get_xyz(self):\n",
    "        return np.array(dType.GetPose(self.api)[:3])\n",
    "    \n",
    "    def calibrate_height(self):\n",
    "        input('Move to zero height')\n",
    "        self.zero_height = self.get_height()\n",
    "        pieces = ['pawn', 'rook', 'knight', 'bishop', 'queen', 'king']\n",
    "        for piece in pieces:\n",
    "            input(f\"Move to {piece}'s height\")\n",
    "            self.pieces_heights[piece] = self. get_height()\n",
    "            print(f'Height is {self.pieces_heights[piece]}')\n",
    "    \n",
    "    def read_coords(self, num_of_points=3, rewrite_coords=True):\n",
    "        board_coords = []\n",
    "        dobot_coords = []\n",
    "        j1_poses = []\n",
    "        if not rewrite_coords:\n",
    "            board_coords, dobot_coords, j1_poses = self.temp['bc'], self.temp['dc'], self.temp['j1']\n",
    "        delta = widgets.RadioButtons(options=['0.1 mm', '1 mm', '10 mm'],)\n",
    "        change_coords = [\n",
    "            widgets.Button(description='-X'),\n",
    "            widgets.Button(description='+X'),\n",
    "            widgets.Button(description='-Y'),\n",
    "            widgets.Button(description='+Y'),\n",
    "            widgets.Button(description='-Z'),\n",
    "            widgets.Button(description='+Z'),\n",
    "        ]\n",
    "        record = widgets.Button(description='record')\n",
    "        inp = widgets.Text()\n",
    "        def stop_recording():\n",
    "            record.disabled = True\n",
    "            for button in change_coords:\n",
    "                button.disabled = True\n",
    "            self.temp['bc'] = board_coords\n",
    "            self.temp['dc'] = dobot_coords\n",
    "            self.temp['j1'] = j1_poses\n",
    "            print('stopped recording!')\n",
    "            \n",
    "        temp = {'num_of_points':num_of_points}\n",
    "        def on_click_record(b):\n",
    "            if inp.value == '':\n",
    "                stop_recording()\n",
    "            else:\n",
    "                board_coords.append(inp.value)\n",
    "                inp.value = ''\n",
    "                dobot_coords.append(dType.GetPose(self.api)[:2])\n",
    "                j1_poses.append(dType.GetPose(self.api)[4])\n",
    "                temp['num_of_points'] -= 1\n",
    "                if not temp['num_of_points']:\n",
    "                    stop_recording()\n",
    "        def change_coord_on_click(b):\n",
    "            mask = {\n",
    "                'X': [1, 0, 0],\n",
    "                'Y': [0, 1, 0],\n",
    "                'Z': [0, 0, 1]\n",
    "            }[b.description[1]]\n",
    "            mask = np.array(mask, dtype=float)\n",
    "            if b.description[0] == '-':\n",
    "                mask *= -1\n",
    "            mask *= [.1, 1, 10][delta.get_state()['index']]\n",
    "            self.move_xyz(*(self.get_xyz() + mask))\n",
    "        \n",
    "        record.on_click(on_click_record)\n",
    "        for button in change_coords:\n",
    "            button.on_click(change_coord_on_click)\n",
    "        display(delta, *change_coords, record, inp)\n",
    "        \n",
    "        \n",
    "    \n",
    "    def calibrate_pos(self, method=1, ind_start=0, ind_end=3):\n",
    "        board_coords, dobot_coords, j1_poses = self.temp['bc'], self.temp['dc'], self.temp['j1']\n",
    "        origin = find_origin(board_coords[ind_start:ind_end], dobot_coords[ind_start:ind_end], j1_poses[ind_start:ind_end])\n",
    "        phi = find_rot_angle(board_coords[0], dobot_coords[0], origin)\n",
    "        offset = 0\n",
    "        tile_size = find_l(board_coords, dobot_coords, origin)\n",
    "        #dist(db.temp['dc'][0], db.temp['dc'][-1])/dist(*map(coords_from_chess_pos, (db.temp['bc'][0], db.temp['bc'][-1])))\n",
    "        if method == 0:\n",
    "            self.origin = origin\n",
    "            self.R_ab = rot_matr(phi)\n",
    "            self.offset, self.tile_size = offset, tile_size\n",
    "        elif method in [1, 2]:\n",
    "            defaults = [phi, *origin, tile_size, offset]\n",
    "            if method == 1:\n",
    "                self.R_ab, self.origin, self.tile_size, self.offset = calibrate_by_optimizing(board_coords, dobot_coords)\n",
    "            if method == 2:\n",
    "                self.tile_size = tile_size\n",
    "                self.R_ab, self.origin, self.offset = calibrate_by_optimizing_2(board_coords, dobot_coords, self.tile_size)\n",
    "        print(self.R_ab, self.origin, self.tile_size, self.offset, sep='\\n')\n",
    "    \n",
    "    def calibrate_image(self, tile_size_px, image_center_px, bottom):\n",
    "        \"\"\"\n",
    "        image_center_px - coords of center of the image. It is half tile lower than board's center\n",
    "        bottom - where row, where white stand, is\n",
    "            S, E, N, W\n",
    "        \"\"\"\n",
    "        self.tile_size_px = tile_size_px\n",
    "        self.image_center_px = np.array(image_center_px)\n",
    "        if bottom == 'S':\n",
    "            self.coords_changer = np.array([[1, 0],\n",
    "                                            [0, -1]])\n",
    "        if bottom == 'N':\n",
    "            self.coords_changer = np.array([[-1, 0],\n",
    "                                            [0, 1]])\n",
    "        if bottom == 'E':\n",
    "            self.coords_changer = np.array([[0, -1],\n",
    "                                            [-1, 0]])\n",
    "        if bottom == 'W':\n",
    "            self.coords_changer = np.array([[0, 1],\n",
    "                                            [1, 0]])\n",
    "        \n",
    "    def board_xy_from_px(self, px_xy):\n",
    "        board_delta = (np.array(px_xy) - self.image_center_px)/self.tile_size_px\n",
    "        board_delta[1] += .5\n",
    "        board_coords = self.coords_changer@board_delta + np.array([3.5, 3.5])\n",
    "        \n",
    "    def move_to_px(self, px_xy, piece=None):\n",
    "        self.move_to_tile(self.board_xy_from_px(px_xy), piece)\n",
    "    \n",
    "    def move_piece(self, from_coords, to_coords, piece):\n",
    "        trans_height = (max(self.pieces_heights.values()) - self.zero_height)*2+20 + self.zero_height\n",
    "        self.move_new_z(trans_height)\n",
    "        self.move_to_tile(from_coords, height=trans_height)\n",
    "        self.move_to_tile(from_coords, height=self.chess_piece_height(piece))\n",
    "        dType.SetEndEffectorSuctionCup(api, 1, 1, True)\n",
    "        time.sleep(3)\n",
    "        \n",
    "        self.move_to_tile(from_coords, height=trans_height)\n",
    "        self.move_to_tile(to_coords, height=trans_height)\n",
    "        self.move_to_tile(to_coords, height=self.chess_piece_height(piece))\n",
    "        dType.SetEndEffectorSuctionCup(api, 1, 0, True)\n",
    "        time.sleep(1)"
   ]
  },
  {
   "cell_type": "code",
   "execution_count": 41,
   "id": "8ed726b7",
   "metadata": {},
   "outputs": [
    {
     "name": "stdout",
     "output_type": "stream",
     "text": [
      "d, l optimization error: 2.282286066675681\n",
      "[[-0.99731327 -0.0732546 ]\n",
      " [ 0.0732546  -0.99731327]]\n",
      "[13.70218526  6.29568487]\n",
      "[27.58505335]\n",
      "0\n"
     ]
    }
   ],
   "source": [
    "db = Dobot(api, copy_from=db)"
   ]
  },
  {
   "cell_type": "code",
   "execution_count": 10,
   "id": "f4fea642",
   "metadata": {
    "collapsed": true
   },
   "outputs": [
    {
     "data": {
      "application/vnd.jupyter.widget-view+json": {
       "model_id": "73228d6fca56417cb89cfdbd60ce8623",
       "version_major": 2,
       "version_minor": 0
      },
      "text/plain": [
       "RadioButtons(options=('0.1 mm', '1 mm', '10 mm'), value='0.1 mm')"
      ]
     },
     "metadata": {},
     "output_type": "display_data"
    },
    {
     "data": {
      "application/vnd.jupyter.widget-view+json": {
       "model_id": "f9d0f38b9a6243688d0fa99eea643a41",
       "version_major": 2,
       "version_minor": 0
      },
      "text/plain": [
       "Button(description='-X', style=ButtonStyle())"
      ]
     },
     "metadata": {},
     "output_type": "display_data"
    },
    {
     "data": {
      "application/vnd.jupyter.widget-view+json": {
       "model_id": "b9fcba7f6bf74d2b99c196fcbb0233d6",
       "version_major": 2,
       "version_minor": 0
      },
      "text/plain": [
       "Button(description='+X', style=ButtonStyle())"
      ]
     },
     "metadata": {},
     "output_type": "display_data"
    },
    {
     "data": {
      "application/vnd.jupyter.widget-view+json": {
       "model_id": "3756ce73affc4af2912a5f300f0ef0de",
       "version_major": 2,
       "version_minor": 0
      },
      "text/plain": [
       "Button(description='-Y', style=ButtonStyle())"
      ]
     },
     "metadata": {},
     "output_type": "display_data"
    },
    {
     "data": {
      "application/vnd.jupyter.widget-view+json": {
       "model_id": "39422582c81f4c79b78c64787068a445",
       "version_major": 2,
       "version_minor": 0
      },
      "text/plain": [
       "Button(description='+Y', style=ButtonStyle())"
      ]
     },
     "metadata": {},
     "output_type": "display_data"
    },
    {
     "data": {
      "application/vnd.jupyter.widget-view+json": {
       "model_id": "d0ebe0eca197453386a35275e1d404b0",
       "version_major": 2,
       "version_minor": 0
      },
      "text/plain": [
       "Button(description='-Z', style=ButtonStyle())"
      ]
     },
     "metadata": {},
     "output_type": "display_data"
    },
    {
     "data": {
      "application/vnd.jupyter.widget-view+json": {
       "model_id": "ff74b11010f34a568ccf7465efd81c24",
       "version_major": 2,
       "version_minor": 0
      },
      "text/plain": [
       "Button(description='+Z', style=ButtonStyle())"
      ]
     },
     "metadata": {},
     "output_type": "display_data"
    },
    {
     "data": {
      "application/vnd.jupyter.widget-view+json": {
       "model_id": "67d299b8d8274b1cba91f6883892044e",
       "version_major": 2,
       "version_minor": 0
      },
      "text/plain": [
       "Button(description='record', style=ButtonStyle())"
      ]
     },
     "metadata": {},
     "output_type": "display_data"
    },
    {
     "data": {
      "application/vnd.jupyter.widget-view+json": {
       "model_id": "3c3e70eef7174c309110c1fadb15f643",
       "version_major": 2,
       "version_minor": 0
      },
      "text/plain": [
       "Text(value='')"
      ]
     },
     "metadata": {},
     "output_type": "display_data"
    },
    {
     "name": "stdout",
     "output_type": "stream",
     "text": [
      "stopped recording!\n"
     ]
    }
   ],
   "source": [
    "db.read_coords(-1)"
   ]
  },
  {
   "cell_type": "code",
   "execution_count": 13,
   "id": "73c71f70",
   "metadata": {},
   "outputs": [
    {
     "data": {
      "text/plain": [
       "27.63475891784952"
      ]
     },
     "execution_count": 13,
     "metadata": {},
     "output_type": "execute_result"
    }
   ],
   "source": [
    "dist(db.temp['dc'][0], db.temp['dc'][-1])/dist(*map(coords_from_chess_pos, (db.temp['bc'][0], db.temp['bc'][-1])))"
   ]
  },
  {
   "cell_type": "code",
   "execution_count": 14,
   "id": "b57598a1",
   "metadata": {},
   "outputs": [
    {
     "data": {
      "text/plain": [
       "28.015946013219935"
      ]
     },
     "execution_count": 14,
     "metadata": {},
     "output_type": "execute_result"
    }
   ],
   "source": [
    "dist(db.temp['dc'][0], db.temp['dc'][-1])/6"
   ]
  },
  {
   "cell_type": "code",
   "execution_count": 91,
   "id": "409ca98f",
   "metadata": {
    "collapsed": true
   },
   "outputs": [
    {
     "data": {
      "text/plain": [
       "{'bc': ['e8', 'g7', 'd4', 'e2'],\n",
       " 'dc': [[267.1821594238281, -24.27154541015625],\n",
       "  [210.69607543945312, 5.0494513511657715],\n",
       "  [296.0400695800781, 87.86585235595703],\n",
       "  [269.6284484863281, 145.03778076171875]],\n",
       " 'j1': [-5.190655708312988,\n",
       "  1.3728630542755127,\n",
       "  16.53109359741211,\n",
       "  28.276569366455078]}"
      ]
     },
     "execution_count": 91,
     "metadata": {},
     "output_type": "execute_result"
    }
   ],
   "source": [
    "db.temp"
   ]
  },
  {
   "cell_type": "code",
   "execution_count": 23,
   "id": "c47db1b9",
   "metadata": {},
   "outputs": [
    {
     "data": {
      "text/plain": [
       "[59.70000076293945, 0.0, 0.0]"
      ]
     },
     "execution_count": 23,
     "metadata": {},
     "output_type": "execute_result"
    }
   ],
   "source": [
    "dType.GetEndEffectorParams(api)"
   ]
  },
  {
   "cell_type": "code",
   "execution_count": 43,
   "id": "3e882b73",
   "metadata": {},
   "outputs": [
    {
     "name": "stdout",
     "output_type": "stream",
     "text": [
      "[293.00394265 -41.00261997]\n",
      "[292.9919131  -41.00093657]\n",
      "-0.012146768922946194\n",
      "\n",
      "[191.0431116  77.1240676]\n",
      "[189.79341002  76.61956331]\n",
      "-1.3476938230176643\n",
      "\n",
      "[277.61739522 126.08375106]\n",
      "[278.45726985 126.46519165]\n",
      "0.9224349886359846\n",
      "\n"
     ]
    }
   ],
   "source": [
    "for i in range(3):\n",
    "    vec = db.dobot_xy_from_board_xy(db.temp['bc'][i])\n",
    "    print(vec)\n",
    "    print(vec*(length(db.temp['dc'][i])/length(vec)))\n",
    "    print(length(db.temp['dc'][i]) - length(vec))\n",
    "    print()"
   ]
  },
  {
   "cell_type": "code",
   "execution_count": 15,
   "id": "d0c7a020",
   "metadata": {},
   "outputs": [
    {
     "name": "stdout",
     "output_type": "stream",
     "text": [
      "[[-0.99731327 -0.0732546 ]\n",
      " [ 0.0732546  -0.99731327]]\n",
      "[13.70218526  6.29568487]\n",
      "28.22\n",
      "0\n"
     ]
    }
   ],
   "source": [
    "db.calibrate_pos(method=0)"
   ]
  },
  {
   "cell_type": "code",
   "execution_count": 20,
   "id": "e84028fb",
   "metadata": {},
   "outputs": [],
   "source": [
    "data['temp'] = {'bc': ['c4', 'h3', 'h7', 'a6', 'b5'],\n",
    " 'dc': [[259.0032653808594, -46.066925048828125],\n",
    "  [284.808349609375, 94.43470001220703],\n",
    "  [177.1175994873047, 97.26470184326172],\n",
    "  [204.3495330810547, -105.91143798828125],\n",
    "  [231.33233642578125, -75.40081787109375]],\n",
    " 'j1': [-10.085293769836426,\n",
    "  18.344118118286133,\n",
    "  28.773529052734375,\n",
    "  -27.397058486938477,\n",
    "  -18.052940368652344]}"
   ]
  },
  {
   "cell_type": "code",
   "execution_count": 42,
   "id": "22534c9b",
   "metadata": {},
   "outputs": [
    {
     "name": "stdout",
     "output_type": "stream",
     "text": [
      "pawn\n",
      "pawn\n",
      "\n",
      "pawn\n",
      "pawn\n",
      "\n",
      "king\n",
      "king\n",
      "\n",
      "king\n",
      "king\n"
     ]
    }
   ],
   "source": [
    "db.move_piece('e2', 'e4', 'pawn')\n",
    "input()\n",
    "db.move_piece('e7', 'e5', 'pawn')\n",
    "input()\n",
    "db.move_piece('e1', 'e2', 'king')\n",
    "input()\n",
    "db.move_piece('e8', 'e7', 'king')"
   ]
  },
  {
   "cell_type": "code",
   "execution_count": 38,
   "id": "2b238958",
   "metadata": {},
   "outputs": [
    {
     "name": "stdout",
     "output_type": "stream",
     "text": [
      "king\n",
      "king\n"
     ]
    }
   ],
   "source": [
    "db.move_piece('e8', 'e7', 'king')"
   ]
  },
  {
   "cell_type": "code",
   "execution_count": 47,
   "id": "25cdd3b8",
   "metadata": {},
   "outputs": [
    {
     "data": {
      "text/plain": [
       "{'bc': ['e8', 'g7', 'd4', 'h1'],\n",
       " 'dc': [[266.4316101074219, -17.031978607177734],\n",
       "  [212.35418701171875, 9.959300994873047],\n",
       "  [295.51904296875, 88.67515563964844],\n",
       "  [187.85848999023438, 170.5806427001953]],\n",
       " 'j1': [-3.6577281951904297,\n",
       "  2.6851744651794434,\n",
       "  16.702701568603516,\n",
       "  42.24030685424805]}"
      ]
     },
     "execution_count": 47,
     "metadata": {},
     "output_type": "execute_result"
    }
   ],
   "source": [
    "db.temp"
   ]
  },
  {
   "cell_type": "code",
   "execution_count": 48,
   "id": "c44330ac",
   "metadata": {},
   "outputs": [],
   "source": [
    "with open('coords.pickle', 'wb') as f:\n",
    "    pickle.dump({'temp':db.temp, 'zero_height':db.zero_height, 'heights':db.pieces_heights}, f)"
   ]
  },
  {
   "cell_type": "code",
   "execution_count": 46,
   "id": "861b1177",
   "metadata": {
    "collapsed": true
   },
   "outputs": [
    {
     "name": "stdout",
     "output_type": "stream",
     "text": [
      "\n",
      "\n",
      "\n",
      "\n",
      "\n",
      "\n",
      "\n",
      "\n",
      "\n",
      "q\n"
     ]
    }
   ],
   "source": [
    "positions = []\n",
    "while input() != 'q':\n",
    "    positions.append(dType.GetPose(api))\n",
    "with open('positions_to_check', 'wb') as f:\n",
    "    pickle.dump({'coords':positions, 'offset': dType.GetEndEffectorParams(api)}, f)"
   ]
  }
 ],
 "metadata": {
  "kernelspec": {
   "display_name": "Python 3 (ipykernel)",
   "language": "python",
   "name": "python3"
  },
  "language_info": {
   "codemirror_mode": {
    "name": "ipython",
    "version": 3
   },
   "file_extension": ".py",
   "mimetype": "text/x-python",
   "name": "python",
   "nbconvert_exporter": "python",
   "pygments_lexer": "ipython3",
   "version": "3.9.7"
  }
 },
 "nbformat": 4,
 "nbformat_minor": 5
}
