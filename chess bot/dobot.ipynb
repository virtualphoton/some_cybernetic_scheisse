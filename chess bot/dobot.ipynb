{
 "cells": [
  {
   "cell_type": "code",
   "execution_count": 142,
   "id": "ce28e535",
   "metadata": {},
   "outputs": [],
   "source": [
    "import sys\n",
    "dll_path = r'C:\\Users\\bkmz1\\PycharmProjects\\manipulator\\dobot_lib'\n",
    "sys.path.insert(1,dll_path)\n",
    "import DobotDllType as dType\n",
    "from math import pi\n",
    "import numpy as np\n",
    "import time\n",
    "import scipy.optimize as optimize\n",
    "from math import dist, atan2\n",
    "from itertools import combinations, islice\n",
    "import pickle"
   ]
  },
  {
   "cell_type": "code",
   "execution_count": 143,
   "id": "784dc0bd",
   "metadata": {},
   "outputs": [],
   "source": [
    "with open('coords.pickle', 'rb') as f:\n",
    "    data = pickle.load(f)"
   ]
  },
  {
   "cell_type": "code",
   "execution_count": 144,
   "id": "7651f992",
   "metadata": {},
   "outputs": [
    {
     "name": "stdout",
     "output_type": "stream",
     "text": [
      "The dll you are using is 64-bit. In order to run smoothly, please ensure that your python environment is also 64-bit.\n",
      "The python environment is： ('64bit', 'WindowsPE')\n"
     ]
    }
   ],
   "source": [
    "com = 'COM4'\n",
    "api = dType.load(dll_path)"
   ]
  },
  {
   "cell_type": "code",
   "execution_count": 145,
   "id": "4a0f128a",
   "metadata": {},
   "outputs": [
    {
     "name": "stdout",
     "output_type": "stream",
     "text": [
      "Connect status: 0\n"
     ]
    },
    {
     "data": {
      "text/plain": [
       "[4]"
      ]
     },
     "execution_count": 145,
     "metadata": {},
     "output_type": "execute_result"
    }
   ],
   "source": [
    "state = dType.ConnectDobot(api, \"\", 115200)[0]\n",
    "print(\"Connect status:\", state)\n",
    "\n",
    "dType.SetQueuedCmdClear(api)\n",
    "dType.SetQueuedCmdStartExec(api)\n",
    "\n",
    "dType.SetHOMEParams(api, 200, 200, 200, 200, isQueued = 1)\n",
    "dType.SetPTPJointParams(api, 200, 200, 200, 200, 200, 200, 200, 200, isQueued = 1)\n",
    "dType.SetPTPCommonParams(api, 100, 100, isQueued = 1)"
   ]
  },
  {
   "cell_type": "code",
   "execution_count": 138,
   "id": "611b1cdb",
   "metadata": {},
   "outputs": [],
   "source": [
    "dType.DisconnectDobot(api)"
   ]
  },
  {
   "cell_type": "code",
   "execution_count": 175,
   "id": "d1648495",
   "metadata": {},
   "outputs": [],
   "source": [
    "def coords_from_chess_pos(pos):\n",
    "    # from chess pos (e.g. 'e4') into local chess coords\n",
    "    # letters - xi axis, numbers - eta. Origin at center of a1\n",
    "    assert len(pos) == 2\n",
    "    if isinstance(pos, str):\n",
    "        char, num = pos.lower()\n",
    "        xi = ord(char) - ord('a')\n",
    "        eta = int(num) - 1\n",
    "        return np.array([xi, eta])\n",
    "    else:\n",
    "        return np.array(pos)\n",
    "    \n",
    "\n",
    "def find_intersections(o1, r1, o2, r2, eps=.1):\n",
    "    # finds intersection points of 2 circles\n",
    "    # if no intersection, raises exception\n",
    "    o1, o2 = numpify(o1, o2)\n",
    "    d = dist(o1, o2)\n",
    "    assert d <= r1+r2\n",
    "    assert d > eps\n",
    "    a = (r1**2-r2**2+d**2)/(2*d)\n",
    "    h = (r1**2 - a**2)**.5\n",
    "    P = (o2-o1)*a/d+o1\n",
    "    perp_ = perp(o2-o1)\n",
    "    I1, I2 = P+h*perp_, P-h*perp_\n",
    "    return I1, I2\n",
    "\n",
    "def normalize(vec):\n",
    "    return np.array(vec)/length(vec)\n",
    "\n",
    "def perp(vec):\n",
    "    return normalize(vec)[::-1]*np.array([-1,1])\n",
    "\n",
    "def length(vec):\n",
    "    return dist(vec, [0]*len(vec))\n",
    "\n",
    "def numpify(*args):\n",
    "    arrays = [0]*len(args)\n",
    "    for i, arg in enumerate(args):\n",
    "        arrays[i] = arg.astype(np.float32) if isinstance(arg, np.ndarray) else np.array(arg, dtype=np.float32)\n",
    "    return arrays\n",
    "\n",
    "def find_angle(vec_a, vec_b):\n",
    "    \"\"\"\n",
    "    finds angle from vec_b to vec_a in [0; 2pi) (counterclockwise)\n",
    "    \"\"\"\n",
    "    return (atan2(*vec_a)-atan2(*vec_b))%(2*pi)\n",
    "\n",
    "def find_circles(A_b, B_b, A_d, B_d):\n",
    "    # find center and radius of circle, given coords in board frame and dobot frame\n",
    "    # returns o1, o2, r\n",
    "    A_b, B_b, A_d, B_d = numpify(A_b, B_b, A_d, B_d)\n",
    "    a = length(A_d)\n",
    "    b = length(B_d)\n",
    "    c = length(A_d - B_d)\n",
    "    cos_alpha = (a**2+b**2-c**2)/2/a/b\n",
    "    sin_alpha = (1-cos_alpha**2)**.5\n",
    "    AB_b = B_b-A_b\n",
    "    l = length(AB_b)\n",
    "    r = l/2/sin_alpha\n",
    "    normal = r*cos_alpha*perp(AB_b)\n",
    "    M = (A_b+B_b)/2\n",
    "    o1, o2 = M+normal, M-normal\n",
    "    return o1, o2, r\n",
    "\n",
    "def count_coincides(A, points, eps = .1):\n",
    "    return len([0 for point in points if dist(A, point) < eps])\n",
    "\n",
    "def is_clockwise(vec1, vec2):\n",
    "    # finds if vec2 is rotated clockwise from vec1\n",
    "    cross = vec1[0]*vec2[1] - vec1[1]*vec2[0]\n",
    "    assert cross != 0\n",
    "    return cross < 0\n",
    "\n",
    "def find_origin(board_coords, dobot_coords, j1_positions):\n",
    "    # find center, given coords of 3 points\n",
    "    # points all have different angle for 1st joint\n",
    "    assert len(board_coords) == len(dobot_coords) == 3\n",
    "    circles = []\n",
    "    board_coords = list(map(coords_from_chess_pos, board_coords))\n",
    "    for i, j in combinations([0,1,2], 2):\n",
    "        o1, o2, r = find_circles(board_coords[i], board_coords[j], dobot_coords[i], dobot_coords[j])\n",
    "        circles.extend(([o1, r], [o2, r]))\n",
    "    inters = []\n",
    "    for circ1, circ2 in combinations(circles, 2):\n",
    "        inters.extend(find_intersections(*circ1, *circ2))\n",
    "    centers = [p for p in inters if count_coincides(p, inters) == 3]\n",
    "    c0 = centers[0]\n",
    "    eps = .1\n",
    "    for c in centers:\n",
    "        if dist(c0, c) > eps:\n",
    "            c1 = c\n",
    "            break\n",
    "    board_coords.append(board_coords[0])\n",
    "    j1_positions = j1_positions + [j1_positions[0]]\n",
    "    for center in (c0, c1):\n",
    "        vectors = [b_point - center for b_point in board_coords]\n",
    "        for v1, v2, j_val1, j_val2 in zip(vectors[:-1], vectors[1:], j1_positions[:-1], j1_positions[1:]):\n",
    "            # clockwise rotation is changing j1 angle to lesser angle\n",
    "            if not is_clockwise(v1, v2) == (j_val2 - j_val1 < 0):\n",
    "                break\n",
    "        else:\n",
    "            return center\n",
    "    raise ValueError('bad points passed')\n",
    "\n",
    "def find_rot_angle(p_b, q_a, origin):\n",
    "    \"\"\"\n",
    "    returns rotation matrix R_ab\n",
    "    p_b - coordinates of point in board frame\n",
    "    q_a - coordinates shown by dobot\n",
    "    origin - coordinates of dobot's origin in board frame\n",
    "    \"\"\"\n",
    "    p_b = coords_from_chess_pos(p_b)\n",
    "    p_b, q_a, origin = numpify(p_b, q_a, origin)\n",
    "    # same vector in different frames\n",
    "    v_b = normalize(p_b-origin)\n",
    "    v_a = normalize(q_a)\n",
    "    \n",
    "    angle = find_angle(v_b, v_a)\n",
    "    return angle\n",
    "\n",
    "def find_d_l(board_coords, dobot_coords, origin):\n",
    "    \"\"\"\n",
    "    board_coords - coords of 3 points in board's frame\n",
    "    dobot_coords - coords shown by dobot\n",
    "    origin - origin of dobot in board's frame\n",
    "    \n",
    "    returns d - offset, l - size of tile (both in mm, if given dobot coords are in mm)\n",
    "    \"\"\"\n",
    "    board_coords = list(map(coords_from_chess_pos, board_coords))\n",
    "    dobot_coords, origin = numpify(dobot_coords, origin)\n",
    "    lengths_b = [length(point-origin) for point in board_coords]\n",
    "    lengths_a = [length(point) for point in dobot_coords]\n",
    "    def la_from_lb(l_b, d, l):\n",
    "        return l*l_b-d\n",
    "    popt, _ = optimize.curve_fit(la_from_lb, lengths_b, lengths_a, [-30, 25])\n",
    "    return popt\n",
    "\n",
    "def rot_matr(phi):\n",
    "    c, s = np.cos(phi), np.sin(phi)\n",
    "    return np.array([[c, -s],\n",
    "                     [s, c]])"
   ]
  },
  {
   "cell_type": "code",
   "execution_count": 185,
   "id": "341327ba",
   "metadata": {},
   "outputs": [],
   "source": [
    "def calibrate_by_optimizing(board_xy, dobot_xy, defaults=None):\n",
    "    def get_coords(x):\n",
    "        phi, o_x, o_y, tile_size, offset = x\n",
    "        summ = 0\n",
    "        for p_b, p_a in zip(board_xy, dobot_xy):\n",
    "            c, s = np.cos(phi), np.sin(phi)\n",
    "            R_ab = np.array([[c, -s],\n",
    "                             [s, c]])\n",
    "            origin = np.array([o_x, o_y])\n",
    "            t = R_ab@(coords_from_chess_pos(p_b) - origin)\n",
    "            p_a_calc = t*tile_size - offset * normalize(t)\n",
    "            summ += dist(p_a, p_a_calc)\n",
    "        return summ\n",
    "    if defaults is None:\n",
    "        defaults = [3.14/2,4, 16, 28, -30]\n",
    "    optimizer = optimize.minimize(get_coords, defaults,  method='Nelder-Mead', options={'maxiter':10**10})\n",
    "    phi, o_x, o_y, tile_size, offset = optimizer.x\n",
    "    R_ab = rot_matr(phi)\n",
    "    print(f'error distance is: {get_coords(optimizer.x)}')\n",
    "    return R_ab, np.array([o_x, o_y]), tile_size, offset\n",
    "\n",
    "def calibrate_by_optimizing_2(board_xy, dobot_xy, tile_size):\n",
    "    def get_coords(x):\n",
    "        phi, o_x, o_y, offset = x\n",
    "        summ = 0\n",
    "        for p_b, p_a in zip(board_xy, dobot_xy):\n",
    "            c, s = np.cos(phi), np.sin(phi)\n",
    "            R_ab = np.array([[c, -s],\n",
    "                             [s, c]])\n",
    "            origin = np.array([o_x, o_y])\n",
    "            t = R_ab@(coords_from_chess_pos(p_b) - origin)\n",
    "            p_a_calc = t*tile_size - offset * normalize(t)\n",
    "            summ += dist(p_a, p_a_calc)\n",
    "        return summ\n",
    "    optimizer = optimize.minimize(get_coords, [3.14/2, 4, 16, -60],  method='Nelder-Mead', options={'maxiter':10**10})\n",
    "    phi, o_x, o_y, offset = optimizer.x\n",
    "    c, s = np.cos(phi), np.sin(phi)\n",
    "    R_ab = rot_matr(phi)\n",
    "    print(f'error distance is: {get_coords(optimizer.x)}')\n",
    "    return R_ab, np.array([o_x, o_y]), offset"
   ]
  },
  {
   "cell_type": "code",
   "execution_count": 154,
   "id": "47a3c30b",
   "metadata": {},
   "outputs": [],
   "source": [
    "class Dobot:\n",
    "    def __init__(self, api, copy_from=None):\n",
    "        \"\"\"\n",
    "        origin - dobot origin in board's coords\n",
    "        \"\"\"\n",
    "        self.api = api\n",
    "        self.temp = {}\n",
    "        self.zero_height = None\n",
    "        self.pieces_heights = {}\n",
    "        if copy_from is not None:\n",
    "            self.copy(copy_from)\n",
    "            \n",
    "    \n",
    "    def dobot_xy_from_board_xy(self, board_xy):\n",
    "        \"\"\"\n",
    "        board_xy - can either be like 'b3' or like [1, 2]\n",
    "        \"\"\"\n",
    "        t = self.R_ab@(coords_from_chess_pos(board_xy) - self.origin)\n",
    "        return t*self.tile_size - self.offset * normalize(t)\n",
    "    \n",
    "    def move_xyz(self, x, y, z, j4_rot=0):\n",
    "        dType.SetPTPCmd(self.api,\n",
    "            dType.PTPMode.PTPMOVLXYZMode,\n",
    "            x,\n",
    "            y,\n",
    "            z,\n",
    "            j4_rot,\n",
    "            isQueued=1\n",
    "        )\n",
    "    \n",
    "    def move_new_z(self, z):\n",
    "        self.move_xyz(*dType.GetPose(self.api)[:2], z, dType.GetPose(self.api)[3])\n",
    "    \n",
    "    def change_j4(self, j4):\n",
    "        self.move_xyz(*dType.GetPose(self.api)[:3], j4)\n",
    "    \n",
    "    def chess_piece_height(self, piece):\n",
    "        print(piece)\n",
    "        default_offset = 20\n",
    "        if piece is None:\n",
    "            return self.zero_height + default_offset\n",
    "        else:\n",
    "            return self.pieces_heights[piece]\n",
    "    \n",
    "    def move_to_tile(self, board_xy, chess_piece=None, height=None, j4_rot=0):\n",
    "        dobot_xy = self.dobot_xy_from_board_xy(board_xy)\n",
    "        if height is None:\n",
    "            height = self.chess_piece_height(chess_piece)\n",
    "        self.move_xyz(*dobot_xy, height, j4_rot)\n",
    "    \n",
    "    def get_height(self):\n",
    "        return dType.GetPose(self.api)[2]\n",
    "    \n",
    "    def calibrate_height(self):\n",
    "        input('Move to zero height')\n",
    "        self.zero_height = self.get_height()\n",
    "        pieces = ['pawn', 'rook', 'knight', 'bishop', 'queen', 'king']\n",
    "        for piece in pieces:\n",
    "            input(f\"Move to {piece}'s height\")\n",
    "            self.pieces_heights[piece] = self. get_height()\n",
    "            print(f'Height is {self.pieces_heights[piece]}')\n",
    "    \n",
    "    def read_coords(self, num_of_points=3, rewrite_coords=True):\n",
    "        board_coords = []\n",
    "        dobot_coords = []\n",
    "        j1_poses = []\n",
    "        if not rewrite_coords:\n",
    "            try:\n",
    "                board_coords, dobot_coords, j1_poses = self.temp['bc'], self.temp['dc'], self.temp['j1']\n",
    "            except KeyError:\n",
    "                pass\n",
    "        while True:\n",
    "            inp = input('Move to next tile and print its name: ')\n",
    "            if inp == '':\n",
    "                break\n",
    "            board_coords.append(inp)\n",
    "            dobot_coords.append(dType.GetPose(self.api)[:2])\n",
    "            j1_poses.append(dType.GetPose(self.api)[4])\n",
    "            num_of_points -= 1\n",
    "            if not num_of_points:\n",
    "                break\n",
    "        self.temp['bc'] = board_coords\n",
    "        self.temp['dc'] = dobot_coords\n",
    "        self.temp['j1'] = j1_poses\n",
    "    \n",
    "    def calibrate_pos(self, method=1, ind_start=0, ind_end=3):\n",
    "        board_coords, dobot_coords, j1_poses = self.temp['bc'], self.temp['dc'], self.temp['j1']\n",
    "        origin = find_origin(board_coords[ind_start:ind_end], dobot_coords[ind_start:ind_end], j1_poses[ind_start:ind_end])\n",
    "        phi = find_rot_matrix(board_coords[0], dobot_coords[0], origin)\n",
    "        offset, tile_size = find_d_l(board_coords[ind_start:ind_end], dobot_coords[ind_start:ind_end], origin)\n",
    "        if method == 0:\n",
    "            self.origin = find_origin(board_coords[:3], dobot_coords[:3], j1_poses[:3])\n",
    "            self.R_ab = find_rot_matrix(board_coords[0], dobot_coords[0], self.origin)\n",
    "            self.offset, self.tile_size = find_d_l(board_coords[:3], dobot_coords[:3], self.origin)\n",
    "        elif method in [1, 2]:\n",
    "            defaults = [phi, *origin, tile_size, offset]\n",
    "            if method == 1:\n",
    "                self.R_ab, self.origin, self.tile_size, self.offset = calibrate_by_optimizing(board_coords, dobot_coords)\n",
    "            if method == 2:\n",
    "                self.tile_size = 27.9\n",
    "                self.R_ab, self.origin, self.offset = calibrate_by_optimizing_2(board_coords, dobot_coords, self.tile_size)\n",
    "        print(self.R_ab, self.origin, self.tile_size, self.offset, sep='\\n')\n",
    "    \n",
    "    def calibrate_image(self, tile_size_px, image_center_px, bottom):\n",
    "        \"\"\"\n",
    "        image_center_px - coords of center of the image. It is half tile lower than board's center\n",
    "        bottom - where row, where white stand, is\n",
    "            S, E, N, W\n",
    "        \"\"\"\n",
    "        self.tile_size_px = tile_size_px\n",
    "        self.image_center_px = np.array(image_center_px)\n",
    "        if bottom == 'S':\n",
    "            self.coords_changer = np.array([[1, 0],\n",
    "                                            [0, -1]])\n",
    "        if bottom == 'N':\n",
    "            self.coords_changer = np.array([[-1, 0],\n",
    "                                            [0, 1]])\n",
    "        if bottom == 'E':\n",
    "            self.coords_changer = np.array([[0, -1],\n",
    "                                            [-1, 0]])\n",
    "        if bottom == 'W':\n",
    "            self.coords_changer = np.array([[0, 1],\n",
    "                                            [1, 0]])\n",
    "        \n",
    "    def board_xy_from_px(self, px_xy):\n",
    "        board_delta = (np.array(px_xy) - self.image_center_px)/self.tile_size_px\n",
    "        board_delta[1] += .5\n",
    "        board_coords = self.coords_changer@board_delta + np.array([3.5, 3.5])\n",
    "        \n",
    "    def move_to_px(self, px_xy, piece=None):\n",
    "        self.move_to_tile(self.board_xy_from_px(px_xy), piece)\n",
    "    \n",
    "    def copy(self, other_dobot):\n",
    "        self.temp = other_dobot.temp\n",
    "        try:\n",
    "            self.calibrate_pos(1)\n",
    "        except Exception as e:\n",
    "            print('exception, while trying to calibrate')\n",
    "        self.zero_height = other_dobot.zero_height\n",
    "        self.pieces_heights = other_dobot.pieces_heights\n",
    "    \n",
    "    def move_piece(self, from_coords, to_coords, piece):\n",
    "        trans_height = (max(self.pieces_heights.values()) - self.zero_height)*2+20 + self.zero_height\n",
    "        self.move_new_z(trans_height)\n",
    "        self.move_to_tile(from_coords, height=trans_height)\n",
    "        self.move_to_tile(from_coords, height=self.chess_piece_height(piece))\n",
    "        dType.SetEndEffectorSuctionCup(api, 1, 1, True)\n",
    "        time.sleep(5)\n",
    "        \n",
    "        self.move_to_tile(from_coords, height=trans_height)\n",
    "        self.move_to_tile(to_coords, height=trans_height)\n",
    "        self.move_to_tile(to_coords, height=self.chess_piece_height(piece))\n",
    "        dType.SetEndEffectorSuctionCup(api, 1, 0, True)\n",
    "        time.sleep(1)"
   ]
  },
  {
   "cell_type": "code",
   "execution_count": 162,
   "id": "8ed726b7",
   "metadata": {},
   "outputs": [
    {
     "name": "stdout",
     "output_type": "stream",
     "text": [
      "exception, while trying to calibrate\n"
     ]
    },
    {
     "name": "stderr",
     "output_type": "stream",
     "text": [
      "C:\\Users\\bkmz1\\AppData\\Local\\Temp/ipykernel_376/1664277016.py:29: RuntimeWarning: invalid value encountered in true_divide\n",
      "  return np.array(vec)/length(vec)\n"
     ]
    }
   ],
   "source": [
    "db = Dobot(api, copy_from=db)"
   ]
  },
  {
   "cell_type": "code",
   "execution_count": 96,
   "id": "e55816dd",
   "metadata": {},
   "outputs": [],
   "source": [
    "db.temp = data['temp']\n",
    "db.zero_height = data['zero_height']\n",
    "db.pieces_heights = data['heights']"
   ]
  },
  {
   "cell_type": "code",
   "execution_count": 173,
   "id": "94c13f22",
   "metadata": {},
   "outputs": [
    {
     "name": "stdout",
     "output_type": "stream",
     "text": [
      "Move to next tile and print its name: c4\n",
      "Move to next tile and print its name: h3\n",
      "Move to next tile and print its name: h7\n",
      "Move to next tile and print its name: a6\n",
      "Move to next tile and print its name: b5\n"
     ]
    }
   ],
   "source": [
    "db.read_coords(5)"
   ]
  },
  {
   "cell_type": "code",
   "execution_count": 197,
   "id": "d0c7a020",
   "metadata": {},
   "outputs": [
    {
     "name": "stdout",
     "output_type": "stream",
     "text": [
      "error distance is: 7.650176334342953\n",
      "[[-0.00333707 -0.99999443]\n",
      " [ 0.99999443 -0.00333707]]\n",
      "[ 3.66606013 12.08786246]\n",
      "27.9\n",
      "-5.715373128107325\n"
     ]
    }
   ],
   "source": [
    "db.calibrate_pos(method=2)"
   ]
  },
  {
   "cell_type": "code",
   "execution_count": 208,
   "id": "108d96b5",
   "metadata": {},
   "outputs": [
    {
     "data": {
      "text/plain": [
       "[175.5514678955078,\n",
       " 4.448488712310791,\n",
       " -25.007522583007812,\n",
       " 0.0,\n",
       " 1.4515690803527832,\n",
       " 31.65445327758789,\n",
       " 72.14952850341797,\n",
       " -1.4515690803527832]"
      ]
     },
     "execution_count": 208,
     "metadata": {},
     "output_type": "execute_result"
    }
   ],
   "source": [
    "dType.GetPose(api)"
   ]
  },
  {
   "cell_type": "code",
   "execution_count": 211,
   "id": "772d4d46",
   "metadata": {},
   "outputs": [
    {
     "data": {
      "text/plain": [
       "[287.1657409667969,\n",
       " 0.7857859134674072,\n",
       " -25.007522583007812,\n",
       " 0.0,\n",
       " 0.1567808985710144,\n",
       " 58.71955108642578,\n",
       " 40.31284713745117,\n",
       " -0.1567808985710144]"
      ]
     },
     "execution_count": 211,
     "metadata": {},
     "output_type": "execute_result"
    }
   ],
   "source": [
    "dType.GetPose(api)"
   ]
  },
  {
   "cell_type": "code",
   "execution_count": 189,
   "id": "1e9b70e9",
   "metadata": {},
   "outputs": [
    {
     "data": {
      "text/plain": [
       "{'bc': ['c4', 'h3', 'h7', 'a6', 'b5'],\n",
       " 'dc': [[259.0032653808594, -46.066925048828125],\n",
       "  [284.808349609375, 94.43470001220703],\n",
       "  [177.1175994873047, 97.26470184326172],\n",
       "  [204.3495330810547, -105.91143798828125],\n",
       "  [231.33233642578125, -75.40081787109375]],\n",
       " 'j1': [-10.085293769836426,\n",
       "  18.344118118286133,\n",
       "  28.773529052734375,\n",
       "  -27.397058486938477,\n",
       "  -18.052940368652344]}"
      ]
     },
     "execution_count": 189,
     "metadata": {},
     "output_type": "execute_result"
    }
   ],
   "source": [
    "db.temp"
   ]
  },
  {
   "cell_type": "code",
   "execution_count": 213,
   "id": "22534c9b",
   "metadata": {},
   "outputs": [
    {
     "name": "stdout",
     "output_type": "stream",
     "text": [
      "king\n",
      "king\n"
     ]
    }
   ],
   "source": [
    "db.move_piece([3.66, 2], [3.8, 6], 'king')"
   ]
  },
  {
   "cell_type": "code",
   "execution_count": 89,
   "id": "c44330ac",
   "metadata": {},
   "outputs": [],
   "source": [
    "with open('coords.pickle', 'wb') as f:\n",
    "    pickle.dump({'temp':db.temp, 'zero_height':db.zero_height, 'heights':db.pieces_heights}, f)"
   ]
  }
 ],
 "metadata": {
  "kernelspec": {
   "display_name": "Python 3 (ipykernel)",
   "language": "python",
   "name": "python3"
  },
  "language_info": {
   "codemirror_mode": {
    "name": "ipython",
    "version": 3
   },
   "file_extension": ".py",
   "mimetype": "text/x-python",
   "name": "python",
   "nbconvert_exporter": "python",
   "pygments_lexer": "ipython3",
   "version": "3.9.7"
  }
 },
 "nbformat": 4,
 "nbformat_minor": 5
}
