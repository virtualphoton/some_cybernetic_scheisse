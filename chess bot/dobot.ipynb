{
 "cells": [
  {
   "cell_type": "code",
   "execution_count": 38,
   "id": "ce28e535",
   "metadata": {},
   "outputs": [],
   "source": [
    "import sys\n",
    "dll_path = r'C:\\Users\\bkmz1\\PycharmProjects\\manipulator\\dobot_lib'\n",
    "sys.path.insert(1,dll_path)\n",
    "import DobotDllType as dType\n",
    "from math import pi\n",
    "import numpy as np\n",
    "import time"
   ]
  },
  {
   "cell_type": "code",
   "execution_count": 42,
   "id": "7651f992",
   "metadata": {},
   "outputs": [
    {
     "name": "stdout",
     "output_type": "stream",
     "text": [
      "The dll you are using is 64-bit. In order to run smoothly, please ensure that your python environment is also 64-bit.\n",
      "The python environment is： ('64bit', 'WindowsPE')\n"
     ]
    }
   ],
   "source": [
    "com = 'COM4'\n",
    "api = dType.load(dll_path)"
   ]
  },
  {
   "cell_type": "code",
   "execution_count": 43,
   "id": "4a0f128a",
   "metadata": {},
   "outputs": [
    {
     "name": "stdout",
     "output_type": "stream",
     "text": [
      "Connect status: 0\n"
     ]
    }
   ],
   "source": [
    "state = dType.ConnectDobot(api, \"\", 115200)[0]\n",
    "print(\"Connect status:\", state)\n",
    "#if (state == dType.DobotConnect.DobotConnect_NoError):\n",
    "    #Dobot interactive codes\n",
    "#dType.DisconnectDobot(api)"
   ]
  },
  {
   "cell_type": "code",
   "execution_count": 41,
   "id": "611b1cdb",
   "metadata": {},
   "outputs": [],
   "source": [
    "dType.DisconnectDobot(api)"
   ]
  },
  {
   "cell_type": "code",
   "execution_count": 44,
   "id": "d7995013",
   "metadata": {},
   "outputs": [],
   "source": [
    "dType.SetQueuedCmdClear(api)\n",
    "dType.SetQueuedCmdStartExec(api)"
   ]
  },
  {
   "cell_type": "code",
   "execution_count": 45,
   "id": "09eca594",
   "metadata": {},
   "outputs": [
    {
     "data": {
      "text/plain": [
       "[4]"
      ]
     },
     "execution_count": 45,
     "metadata": {},
     "output_type": "execute_result"
    }
   ],
   "source": [
    "dType.SetHOMEParams(api, 200, 200, 200, 200, isQueued = 1)\n",
    "dType.SetPTPJointParams(api, 200, 200, 200, 200, 200, 200, 200, 200, isQueued = 1)\n",
    "dType.SetPTPCommonParams(api, 100, 100, isQueued = 1)"
   ]
  },
  {
   "cell_type": "code",
   "execution_count": 149,
   "id": "d1648495",
   "metadata": {},
   "outputs": [],
   "source": [
    "from math import dist, atan2\n",
    "from itertools import combinations, islice\n",
    "\n",
    "def coords_from_chess_pos(pos):\n",
    "    # from chess pos (e.g. 'e4') into local chess coords\n",
    "    # letters - xi axis, numbers - eta. Origin at center of a1\n",
    "    assert len(pos) == 2\n",
    "    if isinstance(pos, str):\n",
    "        char, num = pos.lower()\n",
    "        xi = ord(char) - ord('a')\n",
    "        eta = int(num) - 1\n",
    "        return np.array([xi, eta])\n",
    "    else:\n",
    "        return np.array(pos)\n",
    "    \n",
    "\n",
    "def find_intersections(o1, r1, o2, r2, eps=.1):\n",
    "    # finds intersection points of 2 circles\n",
    "    # if no intersection, raises exception\n",
    "    o1, o2 = numpify(o1, o2)\n",
    "    d = dist(o1, o2)\n",
    "    assert d <= r1+r2\n",
    "    assert d > eps\n",
    "    a = (r1**2-r2**2+d**2)/(2*d)\n",
    "    h = (r1**2 - a**2)**.5\n",
    "    P = (o2-o1)*a/d+o1\n",
    "    perp_ = perp(o2-o1)\n",
    "    I1, I2 = P+h*perp_, P-h*perp_\n",
    "    return I1, I2\n",
    "\n",
    "def normalize(vec):\n",
    "    return np.array(vec)/length(vec)\n",
    "\n",
    "def perp(vec):\n",
    "    return normalize(vec)[::-1]*np.array([-1,1])\n",
    "\n",
    "def length(vec):\n",
    "    return dist(vec, [0]*len(vec))\n",
    "\n",
    "def numpify(*args):\n",
    "    arrays = [0]*len(args)\n",
    "    for i, arg in enumerate(args):\n",
    "        arrays[i] = arg.astype(np.float32) if isinstance(arg, np.ndarray) else np.array(arg, dtype=np.float32)\n",
    "    return arrays\n",
    "\n",
    "def find_circles(A_b, B_b, A_d, B_d):\n",
    "    # find center and radius of circle, given coords in board frame and dobot frame\n",
    "    # returns o1, o2, r\n",
    "    A_b, B_b, A_d, B_d = numpify(A_b, B_b, A_d, B_d)\n",
    "    a = length(A_d)\n",
    "    b = length(B_d)\n",
    "    c = length(A_d - B_d)\n",
    "    cos_alpha = (a**2+b**2-c**2)/2/a/b\n",
    "    sin_alpha = (1-cos_alpha**2)**.5\n",
    "    AB_b = B_b-A_b\n",
    "    l = length(AB_b)\n",
    "    r = l/2/sin_alpha\n",
    "    normalizeal = r*cos_alpha*perp(AB_b)\n",
    "    M = (A_b+B_b)/2\n",
    "    o1, o2 = M+normalizeal, M-normalizeal\n",
    "    return o1, o2, r\n",
    "\n",
    "def count_coincides(A, points, eps = .1):\n",
    "    return len([0 for point in points if dist(A, point) < eps])\n",
    "\n",
    "def is_clockwise(vec1, vec2):\n",
    "    # finds if vec2 is rotated clockwise from vec1\n",
    "    cross = vec1[0]*vec2[1] - vec1[1]*vec2[0]\n",
    "    assert cross != 0\n",
    "    return cross < 0\n",
    "\n",
    "def find_origin(board_coords, dobot_coords, j1_positions):\n",
    "    # find center, given coords of 3 points\n",
    "    # points all have different angle for 1st joint\n",
    "    assert len(board_coords) == len(dobot_coords) == 3\n",
    "    circles = []\n",
    "    board_coords = list(map(coords_from_chess_pos, board_coords))\n",
    "    for i, j in combinations([0,1,2], 2):\n",
    "        o1, o2, r = find_circles(board_coords[i], board_coords[j], dobot_coords[i], dobot_coords[j])\n",
    "        circles.extend(([o1, r], [o2, r]))\n",
    "    inters = []\n",
    "    for circ1, circ2 in combinations(circles, 2):\n",
    "        inters.extend(find_intersections(*circ1, *circ2))\n",
    "    centers = [p for p in inters if count_coincides(p, inters) == 3]\n",
    "    c0 = centers[0]\n",
    "    eps = .1\n",
    "    for c in centers:\n",
    "        if dist(c0, c) > eps:\n",
    "            c1 = c\n",
    "            break\n",
    "    board_coords.append(board_coords[0])\n",
    "    j1_positions = j1_positions + [j1_positions[0]]\n",
    "    for center in (c0, c1):\n",
    "        vectors = [b_point - center for b_point in board_coords]\n",
    "        for v1, v2, j_val1, j_val2 in zip(vectors[:-1], vectors[1:], j1_positions[:-1], j1_positions[1:]):\n",
    "            # clockwise rotation is changing j1 angle to lesser angle\n",
    "            if not is_clockwise(v1, v2) == (j_val2 - j_val1 < 0):\n",
    "                break\n",
    "        else:\n",
    "            return center\n",
    "    raise ValueError('bad points passed')\n",
    "\n",
    "def find_rot_matrix(p_b, q_a, origin):\n",
    "    \"\"\"\n",
    "    returns rotation matrix R_ab\n",
    "    p_b - coordinates of point in board frame\n",
    "    q_a - coordinates shown by dobot\n",
    "    origin - coordinates of dobot's origin in board frame\n",
    "    \"\"\"\n",
    "    p_b = coords_from_chess_pos(p_b)\n",
    "    p_b, q_a, origin = numpify(p_b, q_a, origin)\n",
    "    # same vector in different frames\n",
    "    v_b = normalize(p_b-origin)\n",
    "    v_a = normalize(q_a)\n",
    "    \n",
    "    angle = np.arccos(np.inner(v_a, v_b))\n",
    "    print(f'{angle=}')\n",
    "    print(f'{v_b=}, {v_a=}')\n",
    "    angle = (atan2(*v_b) - atan2(*v_a))%(2*np.pi)\n",
    "    c, s = np.cos(angle), np.sin(angle)\n",
    "    R_ab = np.array([[c, -s],\n",
    "                     [s, c]])\n",
    "    return R_ab\n",
    "\n",
    "def find_d_l(board_coords, dobot_coords, origin):\n",
    "    \"\"\"\n",
    "    board_coords - coords of 3 points in board's frame\n",
    "    dobot_coords - coords shown by dobot\n",
    "    origin - origin of dobot in board's frame\n",
    "    \n",
    "    returns d - offset, l - size of tile (both in mm, if given dobot coords are in mm)\n",
    "    \"\"\"\n",
    "    board_coords = list(map(coords_from_chess_pos, board_coords))\n",
    "    dobot_coords, origin = numpify(dobot_coords, origin)\n",
    "    lengths_b = [length(point-origin) for point in board_coords]\n",
    "    lengths_a = [length(point) for point in dobot_coords]\n",
    "    eps = .1\n",
    "    print(f'{lengths_b=}, {lengths_a=}')\n",
    "    for (l_a1, l_b1), (l_a2, l_b2) in combinations(list(zip(lengths_a, lengths_b)), 2):\n",
    "        if abs(l_b1 - l_b2) > eps:\n",
    "            l = (l_a1 - l_a2)/(l_b1-l_b2)\n",
    "    d = l_b1*l - l_a1\n",
    "    return d, l"
   ]
  },
  {
   "cell_type": "code",
   "execution_count": 118,
   "id": "47a3c30b",
   "metadata": {},
   "outputs": [],
   "source": [
    "class Dobot:\n",
    "    def __init__(self, api):\n",
    "        \"\"\"\n",
    "        origin - dobot origin in board's coords\n",
    "        \"\"\"\n",
    "        self.api = api\n",
    "        self.temp = {}\n",
    "    \n",
    "    def dobot_xy_from_board_xy(self, board_xy):\n",
    "        \"\"\"\n",
    "        board_xy - can either be like 'b3' or like [1, 2]\n",
    "        \"\"\"\n",
    "        t = self.R_ab@coords_from_chess_pos(board_xy) - self.origin\n",
    "        return t*self.tile_size + self.offset * normalize(t)\n",
    "    \n",
    "    def move_xyz(self, x, y, z, j4_rot=0):\n",
    "        dType.SetPTPCmd(api,\n",
    "            dType.PTPMode.PTPMOVLXYZMode,\n",
    "            x,\n",
    "            x,\n",
    "            x,\n",
    "            j4_rot,\n",
    "            isQueued=1\n",
    "        )\n",
    "    \n",
    "    def chess_piece_height(piece):\n",
    "        if piece is None:\n",
    "            return self.zero_height\n",
    "        else:\n",
    "            return self.zero_height + self.piece_height[piece]\n",
    "    \n",
    "    def move_to_tile(self, board_xy, chess_piece=None):\n",
    "        dobot_xy = self.dobot_xy_from_board_xy(board_xy)\n",
    "        self.move_xyz(*dobot_xy, chess_piece_height(chess_piece))\n",
    "    \n",
    "    def get_height(self):\n",
    "        dType.GetPose(api)[2]\n",
    "    \n",
    "    def calibrate_height(self):\n",
    "        input('Move to zero height')\n",
    "        self.zero_height = self.get_height()\n",
    "        pieces = ['pawn', 'rook', 'knight', 'bishop', 'queen', 'king']\n",
    "        self.pieces_heights = {}\n",
    "        for piece in pieces:\n",
    "            input(f\"Move to {piece}'s height\")\n",
    "            self.pieces_heights[piece] = self. get_height()\n",
    "    \n",
    "    def calibrate_pos(self, chk1=False):\n",
    "        board_coords = []\n",
    "        dobot_coords = []\n",
    "        j1_poses = []\n",
    "        \n",
    "        if not chk1:\n",
    "            for _ in range(3):\n",
    "                board_coords.append(input('Move to next tile and print its name: '))\n",
    "                dobot_coords.append(dType.GetPose(api)[:2])\n",
    "                j1_poses.append(dType.GetPose(api)[4])\n",
    "\n",
    "            self.temp['bc'] = board_coords\n",
    "            self.temp['dc'] = dobot_coords\n",
    "            self.temp['j1'] = j1_poses\n",
    "        else:\n",
    "             board_coords = self.temp['bc']\n",
    "             dobot_coords = self.temp['dc']\n",
    "             j1_poses = self.temp['j1']\n",
    "        \n",
    "        self.origin = find_origin(board_coords, dobot_coords, j1_poses)\n",
    "        print(f'{self.origin}')\n",
    "        self.R_ab = find_rot_matrix(board_coords[0], dobot_coords[0], self.origin)\n",
    "        print(f'{self.R_ab}')\n",
    "        self.offset, self.tile_size = find_d_l(board_coords, dobot_coords, self.origin)\n",
    "        print(f'{self.offset}, {self.tile_size}')\n",
    "    \n",
    "    def calibrate_image(self, tile_size_px, image_center_px, bottom):\n",
    "        \"\"\"\n",
    "        image_center_px - coords of center of the image. It is half tile lower than board's center\n",
    "        bottom - where row, where white stand, is\n",
    "            S, E, N, W\n",
    "        \"\"\"\n",
    "        self.tile_size_px = tile_size_px\n",
    "        self.image_center_px = np.array(image_center_px)\n",
    "        if bottom == 'S':\n",
    "            self.coords_changer = np.array([[1, 0],\n",
    "                                            [0, -1]])\n",
    "        if bottom == 'N':\n",
    "            self.coords_changer = np.array([[-1, 0],\n",
    "                                            [0, 1]])\n",
    "        if bottom == 'E':\n",
    "            self.coords_changer = np.array([[0, -1],\n",
    "                                            [-1, 0]])\n",
    "        if bottom == 'W':\n",
    "            self.coords_changer = np.array([[0, 1],\n",
    "                                            [1, 0]])\n",
    "        \n",
    "    def board_xy_from_px(self, px_xy):\n",
    "        board_delta = (np.array(px_xy) - self.image_center_px)/self.tile_size_px\n",
    "        board_delta[1] += .5\n",
    "        board_coords = self.coords_changer@board_delta + np.array([3.5, 3.5])\n",
    "        \n",
    "    def move_to_px(self, px_xy, piece=None):\n",
    "        self.move_to_tile(self.board_xy_from_px(px_xy), piece)"
   ]
  },
  {
   "cell_type": "code",
   "execution_count": 84,
   "id": "86b57704",
   "metadata": {},
   "outputs": [],
   "source": [
    "db = Dobot(api)"
   ]
  },
  {
   "cell_type": "code",
   "execution_count": 150,
   "id": "ae73fce3",
   "metadata": {},
   "outputs": [
    {
     "name": "stdout",
     "output_type": "stream",
     "text": [
      "[ 4.30672744 12.07019155]\n",
      "angle=2.8543348\n",
      "v_b=array([ 0.28465262, -0.9586307 ], dtype=float32), v_a=array([-0.00138609,  0.9999991 ], dtype=float32)\n",
      "[[-0.95902436 -0.28332361]\n",
      " [ 0.28332361 -0.95902436]]\n",
      "lengths_b=[9.461611330967289, 8.07601824340075, 8.278617467664539], lengths_a=[269.3556664640108, 233.73830672044494, 238.075045970199]\n",
      "-60.86703623480713 21.405507674143518\n"
     ]
    }
   ],
   "source": [
    "db.calibrate_pos(chk1=True)"
   ]
  },
  {
   "cell_type": "code",
   "execution_count": 154,
   "id": "b5f51291",
   "metadata": {},
   "outputs": [],
   "source": [
    "import scipy.optimize as opt"
   ]
  },
  {
   "cell_type": "code",
   "execution_count": 158,
   "id": "e4c78c52",
   "metadata": {},
   "outputs": [],
   "source": [
    "def find_d_l(d_l, lengths_b, lengths_a):\n",
    "    errors_sq = [(d_l[1]*l_b-d_l[0]-l_a)**2 for l_b, l_a in zip(lengths_b, lengths_a)]\n",
    "    return sum(errors_sq)"
   ]
  },
  {
   "cell_type": "code",
   "execution_count": 168,
   "id": "bb5ee924",
   "metadata": {},
   "outputs": [
    {
     "data": {
      "text/plain": [
       "238.57276896968574"
      ]
     },
     "execution_count": 168,
     "metadata": {},
     "output_type": "execute_result"
    }
   ],
   "source": [
    "l_b[2]*l-d"
   ]
  },
  {
   "cell_type": "code",
   "execution_count": 170,
   "id": "a9b73991",
   "metadata": {},
   "outputs": [
    {
     "data": {
      "text/plain": [
       "(-23.66266723599232, 25.959660845921558)"
      ]
     },
     "execution_count": 170,
     "metadata": {},
     "output_type": "execute_result"
    }
   ],
   "source": [
    "d, l"
   ]
  },
  {
   "cell_type": "code",
   "execution_count": 165,
   "id": "94616b47",
   "metadata": {},
   "outputs": [],
   "source": [
    "l_b, l_a = [9.461611330967289, 8.07601824340075, 8.278617467664539], [269.3556664640108, 233.73830672044494, 238.075045970199]\n",
    "d, l = opt.minimize(find_d_l, [0, 28], args=(l_b, l_a)).x"
   ]
  },
  {
   "cell_type": "code",
   "execution_count": 148,
   "id": "8c2a2cc7",
   "metadata": {},
   "outputs": [
    {
     "name": "stdout",
     "output_type": "stream",
     "text": [
      "{'bc': ['h4', 'e5', 'a6'], 'dc': [[-0.3733510971069336, 269.35540771484375], [74.6894302368164, 221.48382568359375], [176.3834991455078, 159.9018096923828]], 'j1': [90.07941436767578, 71.36470794677734, 42.19411849975586]}\n"
     ]
    }
   ],
   "source": [
    "print(db.temp)"
   ]
  }
 ],
 "metadata": {
  "kernelspec": {
   "display_name": "Python 3 (ipykernel)",
   "language": "python",
   "name": "python3"
  },
  "language_info": {
   "codemirror_mode": {
    "name": "ipython",
    "version": 3
   },
   "file_extension": ".py",
   "mimetype": "text/x-python",
   "name": "python",
   "nbconvert_exporter": "python",
   "pygments_lexer": "ipython3",
   "version": "3.9.7"
  }
 },
 "nbformat": 4,
 "nbformat_minor": 5
}
