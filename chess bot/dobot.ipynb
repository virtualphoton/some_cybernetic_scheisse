{
 "cells": [
  {
   "cell_type": "code",
   "execution_count": 127,
   "id": "ce28e535",
   "metadata": {},
   "outputs": [
    {
     "name": "stdout",
     "output_type": "stream",
     "text": [
      "The dll you are using is 64-bit. In order to run smoothly, please ensure that your python environment is also 64-bit.\n",
      "The python environment is： ('64bit', 'WindowsPE')\n"
     ]
    }
   ],
   "source": [
    "import sys\n",
    "dll_path = r'C:\\Users\\bkmz1\\PycharmProjects\\manipulator\\dobot_lib'\n",
    "sys.path.insert(1,dll_path)\n",
    "import DobotDllType as dType\n",
    "from math import pi\n",
    "import numpy as np\n",
    "import time\n",
    "import scipy.optimize as optimize\n",
    "from math import dist, atan2\n",
    "from itertools import combinations, islice\n",
    "import pickle\n",
    "import ipywidgets as widgets\n",
    "from typing import Optional\n",
    "\n",
    "api = dType.load(dll_path)"
   ]
  },
  {
   "cell_type": "code",
   "execution_count": 128,
   "id": "d1648495",
   "metadata": {
    "tags": []
   },
   "outputs": [],
   "source": [
    "def coords_from_chess_pos(pos):\n",
    "    # from chess pos (e.g. 'e4') into local chess coords\n",
    "    # letters - xi axis, numbers - eta. Origin at center of a1\n",
    "    if isinstance(pos, str):\n",
    "        char, num = pos.lower()\n",
    "        xi = ord(char) - ord('a')\n",
    "        eta = int(num) - 1\n",
    "        return np.array([xi, eta], dtype=float)\n",
    "    else:\n",
    "        return np.array(list(map(coords_from_chess_pos, pos)))\n",
    "    \n",
    "\n",
    "def find_intersections(o1, r1, o2, r2, eps=.1):\n",
    "    # finds intersection points of 2 circles\n",
    "    # if no intersection, raises exception\n",
    "    o1, o2 = numpify(o1, o2)\n",
    "    d = dist(o1, o2)\n",
    "    assert d <= r1+r2\n",
    "    assert d > eps\n",
    "    a = (r1**2-r2**2+d**2)/(2*d)\n",
    "    h = (r1**2 - a**2)**.5\n",
    "    P = (o2-o1)*a/d+o1\n",
    "    perp_ = perp(o2-o1)\n",
    "    I1, I2 = P+h*perp_, P-h*perp_\n",
    "    return I1, I2\n",
    "\n",
    "def normalize(vec):\n",
    "    return np.array(vec)/length(vec)\n",
    "\n",
    "def perp(vec):\n",
    "    return normalize(vec)[::-1]*np.array([-1,1])\n",
    "\n",
    "def length(vec):\n",
    "    return dist(vec, [0]*len(vec))\n",
    "\n",
    "def numpify(*args):\n",
    "    arrays = [0]*len(args)\n",
    "    for i, arg in enumerate(args):\n",
    "        arrays[i] = arg.astype(np.float32) if isinstance(arg, np.ndarray) else np.array(arg, dtype=np.float32)\n",
    "    return arrays\n",
    "\n",
    "def find_angle(vec_a, vec_b):\n",
    "    \"\"\"\n",
    "    finds angle from vec_b to vec_a in [0; 2pi) (counterclockwise)\n",
    "    \"\"\"\n",
    "    return (atan2(*vec_a)-atan2(*vec_b))%(2*pi)\n",
    "\n",
    "def find_circles(A_b, B_b, A_d, B_d):\n",
    "    # find center and radius of circle, given coords in board frame and dobot frame\n",
    "    # returns o1, o2, r\n",
    "    A_b, B_b, A_d, B_d = numpify(A_b, B_b, A_d, B_d)\n",
    "    a = length(A_d)\n",
    "    b = length(B_d)\n",
    "    c = length(A_d - B_d)\n",
    "    cos_alpha = (a**2+b**2-c**2)/2/a/b\n",
    "    sin_alpha = (1-cos_alpha**2)**.5\n",
    "    AB_b = B_b-A_b\n",
    "    l = length(AB_b)\n",
    "    r = l/2/sin_alpha\n",
    "    normal = r*cos_alpha*perp(AB_b)\n",
    "    M = (A_b+B_b)/2\n",
    "    o1, o2 = M+normal, M-normal\n",
    "    return o1, o2, r\n",
    "\n",
    "def count_coincides(A, points, eps = .1):\n",
    "    return len([0 for point in points if dist(A, point) < eps])\n",
    "\n",
    "def is_clockwise(vec1, vec2):\n",
    "    # finds if vec2 is rotated clockwise from vec1\n",
    "    cross = vec1[0]*vec2[1] - vec1[1]*vec2[0]\n",
    "    assert cross != 0\n",
    "    return cross < 0\n",
    "\n",
    "def find_origin(board_coords, dobot_coords, j1_positions):\n",
    "    # find center, given coords of 3 points\n",
    "    # points all have different angle for 1st joint\n",
    "    assert len(board_coords) == len(dobot_coords) == 3\n",
    "    circles = []\n",
    "    board_coords = list(map(coords_from_chess_pos, board_coords))\n",
    "    for i, j in combinations([0,1,2], 2):\n",
    "        o1, o2, r = find_circles(board_coords[i], board_coords[j], dobot_coords[i], dobot_coords[j])\n",
    "        circles.extend(([o1, r], [o2, r]))\n",
    "    inters = []\n",
    "    for circ1, circ2 in combinations(circles, 2):\n",
    "        inters.extend(find_intersections(*circ1, *circ2))\n",
    "    centers = [p for p in inters if count_coincides(p, inters) == 3]\n",
    "    c0 = centers[0]\n",
    "    eps = .1\n",
    "    for c in centers:\n",
    "        if dist(c0, c) > eps:\n",
    "            c1 = c\n",
    "            break\n",
    "    board_coords.append(board_coords[0])\n",
    "    j1_positions = j1_positions + [j1_positions[0]]\n",
    "    for center in (c0, c1):\n",
    "        vectors = [b_point - center for b_point in board_coords]\n",
    "        for v1, v2, j_val1, j_val2 in zip(vectors[:-1], vectors[1:], j1_positions[:-1], j1_positions[1:]):\n",
    "            # clockwise rotation is changing j1 angle to lesser angle\n",
    "            if not is_clockwise(v1, v2) == (j_val2 - j_val1 < 0):\n",
    "                break\n",
    "        else:\n",
    "            return center\n",
    "    raise ValueError('bad points passed')\n",
    "\n",
    "def find_rot_angle(p_b, q_a, origin):\n",
    "    \"\"\"\n",
    "    returns rotation matrix R_ab\n",
    "    p_b - coordinates of point in board frame\n",
    "    q_a - coordinates shown by dobot\n",
    "    origin - coordinates of dobot's origin in board frame\n",
    "    \"\"\"\n",
    "    p_b = coords_from_chess_pos(p_b)\n",
    "    p_b, q_a, origin = numpify(p_b, q_a, origin)\n",
    "    # same vector in different frames\n",
    "    v_b = normalize(p_b-origin)\n",
    "    v_a = normalize(q_a)\n",
    "    \n",
    "    angle = find_angle(v_b, v_a)\n",
    "    return angle\n",
    "\n",
    "def find_l(board_coords, dobot_coords, origin):\n",
    "    \"\"\"\n",
    "    board_coords - coords of 3 points in board's frame\n",
    "    dobot_coords - coords shown by dobot\n",
    "    origin - origin of dobot in board's frame\n",
    "    \n",
    "    returns d - offset, l - size of tile (both in mm, if given dobot coords are in mm)\n",
    "    \"\"\"\n",
    "    board_coords = list(map(coords_from_chess_pos, board_coords))\n",
    "    dobot_coords, origin = numpify(dobot_coords, origin)\n",
    "    lengths_b = [length(point-origin) for point in board_coords]\n",
    "    lengths_a = [length(point) for point in dobot_coords]\n",
    "    def la_from_lb(l_b, l):\n",
    "        return l*l_b\n",
    "    popt, _ = optimize.curve_fit(la_from_lb, lengths_b, lengths_a, [28])\n",
    "    print('d, l optimization error:', sum([abs(la_from_lb(l_b, *popt) - l_a) for l_b, l_a in zip(lengths_b, lengths_a)]))\n",
    "    return popt\n",
    "\n",
    "def rot_matr(phi):\n",
    "    c, s = np.cos(phi), np.sin(phi)\n",
    "    return np.array([[c, -s],\n",
    "                     [s, c]])"
   ]
  },
  {
   "cell_type": "code",
   "execution_count": 129,
   "id": "341327ba",
   "metadata": {
    "tags": []
   },
   "outputs": [],
   "source": [
    "def calibrate_by_optimizing(board_xy, dobot_xy, defaults=None):\n",
    "    def get_coords(x):\n",
    "        phi, o_x, o_y, tile_size, offset = x\n",
    "        summ = 0\n",
    "        for p_b, p_a in zip(board_xy, dobot_xy):\n",
    "            c, s = np.cos(phi), np.sin(phi)\n",
    "            R_ab = np.array([[c, -s],\n",
    "                             [s, c]])\n",
    "            origin = np.array([o_x, o_y])\n",
    "            t = R_ab@(coords_from_chess_pos(p_b) - origin)\n",
    "            p_a_calc = t*tile_size - offset * normalize(t)\n",
    "            summ += dist(p_a, p_a_calc)\n",
    "        return summ\n",
    "    if defaults is None:\n",
    "        defaults = [3.14/2,4, 16, 28, -30]\n",
    "    optimizer = optimize.minimize(get_coords, defaults,  method='Nelder-Mead', options={'maxiter':10**10})\n",
    "    phi, o_x, o_y, tile_size, offset = optimizer.x\n",
    "    R_ab = rot_matr(phi)\n",
    "    print(f'error distance is: {get_coords(optimizer.x)}')\n",
    "    return R_ab, np.array([o_x, o_y]), tile_size, offset\n",
    "\n",
    "def calibrate_by_optimizing_2(board_xy, dobot_xy, tile_size):\n",
    "    def get_coords(x):\n",
    "        phi, o_x, o_y, offset = x\n",
    "        summ = 0\n",
    "        for p_b, p_a in zip(board_xy, dobot_xy):\n",
    "            c, s = np.cos(phi), np.sin(phi)\n",
    "            R_ab = np.array([[c, -s],\n",
    "                             [s, c]])\n",
    "            origin = np.array([o_x, o_y])\n",
    "            t = R_ab@(coords_from_chess_pos(p_b) - origin)\n",
    "            p_a_calc = t*tile_size - offset * normalize(t)\n",
    "            summ += dist(p_a, p_a_calc)\n",
    "        return summ\n",
    "    optimizer = optimize.minimize(get_coords, [3.14/2, 4, 16, 0],  method='Nelder-Mead', options={'maxiter':10**10})\n",
    "    phi, o_x, o_y, offset = optimizer.x\n",
    "    c, s = np.cos(phi), np.sin(phi)\n",
    "    R_ab = rot_matr(phi)\n",
    "    print(f'error distance is: {get_coords(optimizer.x)}, {offset=}')\n",
    "    return R_ab, np.array([o_x, o_y]), offset"
   ]
  },
  {
   "cell_type": "code",
   "execution_count": 231,
   "id": "62b8d09a-aea6-4a2a-b4b2-f213cc210a0c",
   "metadata": {
    "tags": []
   },
   "outputs": [],
   "source": [
    "class Optimizer:\n",
    "    def __init__(self):\n",
    "        self.twist = None\n",
    "    \n",
    "    @staticmethod\n",
    "    def kabsch_umeyama(board_coords, dobot_coords):\n",
    "        assert dobot_coords.shape == board_coords.shape\n",
    "        n, m = dobot_coords.shape\n",
    "\n",
    "        E_dobot_coords = np.mean(dobot_coords, axis=0)\n",
    "        E_board_coords = np.mean(board_coords, axis=0)\n",
    "        # var_dobot_coords = np.var(dobot_coords, axis=0)\n",
    "        var_dobot_coords = np.mean(np.linalg.norm(dobot_coords - E_dobot_coords, axis=1) ** 2)\n",
    "\n",
    "        H = ((dobot_coords - E_dobot_coords).T @ (board_coords - E_board_coords)) / n\n",
    "        U, D, VT = np.linalg.svd(H)\n",
    "        d = np.sign(np.linalg.det(U) * np.linalg.det(VT))\n",
    "        S = np.diag([1] * (m - 1) + [d])\n",
    "\n",
    "        R = U @ S @ VT\n",
    "        # scaling = np.diag(var_dobot_coords / np.trace(np.diag(D) @ S))\n",
    "        # scaling = var_dobot_coords / np.trace(np.diag(D) @ S)\n",
    "        scaling = 29.07\n",
    "        offset = (E_dobot_coords - scaling * R @ E_board_coords)\n",
    "        twist = np.vstack([\n",
    "            np.hstack([scaling * R, offset.reshape(-1, 1)]),\n",
    "            [0, 0, 1]\n",
    "        ])\n",
    "        return twist\n",
    "    \n",
    "    def fit(self, board_coords: np.ndarray, dobot_coords: np.ndarray):\n",
    "        self.twist = self.kabsch_umeyama(board_coords, dobot_coords)\n",
    "        return self\n",
    "    \n",
    "    def transform(self, board_coords: np.ndarray):\n",
    "        only_one = board_coords.ndim == 1\n",
    "        if only_one:\n",
    "            board_coords = board_coords.reshape(1, -1)\n",
    "        homog_board_coords = np.vstack([board_coords.T, np.ones(len(board_coords))])\n",
    "        dobot_coords = (self.twist @ homog_board_coords).T[:, :2]\n",
    "        if only_one:\n",
    "            return dobot_coords[0]\n",
    "        return dobot_coords\n",
    "    \n",
    "    @staticmethod\n",
    "    def coords_from_chess_poses(pos):\n",
    "        # from chess pos (e.g. 'e4') into local chess coords\n",
    "        # letters - xi axis, numbers - eta. Origin at center of a1\n",
    "        if isinstance(pos, str):\n",
    "            char, num = pos.lower()\n",
    "            xi = ord(char) - ord('a')\n",
    "            eta = int(num) - 1\n",
    "            return np.array([xi, eta], dtype=float)\n",
    "        else:\n",
    "            return np.array(list(map(coords_from_chess_pos, pos)))"
   ]
  },
  {
   "cell_type": "code",
   "execution_count": 272,
   "id": "bfa804bf-d43f-4dbc-9914-d6fffa992884",
   "metadata": {
    "tags": []
   },
   "outputs": [],
   "source": [
    "class Pieces:\n",
    "    def __init__(self, dobot):\n",
    "        self.dobot = dobot\n",
    "        \n",
    "        # additional offset when carrying pieces\n",
    "        self.default_offset = 20\n",
    "        self.zero_height = None\n",
    "        self.pieces_heights = {}\n",
    "    \n",
    "    def copy_from(self, other):\n",
    "        self.zero_height = other.zero_height\n",
    "        self.pieces_heights = other.pieces_heights\n",
    "        return self\n",
    "    \n",
    "    def get_height(self, piece: str):\n",
    "        # get piece's z coordinate by its name\n",
    "        if piece is None:\n",
    "            return self.zero_height + self.default_offset\n",
    "        else:\n",
    "            return self.pieces_heights[piece]\n",
    "    \n",
    "    def _dobot_height(self):\n",
    "        return dType.GetPose(api)[2]\n",
    "    \n",
    "    def calibrate(self):\n",
    "        # calibrate heights of pieces\n",
    "        input('Move to zero height, then press Enter')\n",
    "        self.zero_height = self.dobot.get_pos()[2]\n",
    "        pieces = ['pawn', 'rook', 'knight', 'bishop', 'queen', 'king']\n",
    "        for piece in pieces:\n",
    "            input(f\"Move to {piece}'s height, then press enter\")\n",
    "            self.pieces_heights[piece] = self.dobot.get_pos()[2]\n",
    "            print(f'Height is {self.pieces_heights[piece]}')\n",
    "        \n",
    "    def trans_height(self):\n",
    "        # height safe for transporting a piece\n",
    "        return (max(self.pieces_heights.values()) - self.zero_height)*2 + self.default_offset + self.zero_height"
   ]
  },
  {
   "cell_type": "code",
   "execution_count": 188,
   "id": "b1750f16-e43d-46bf-82b0-e9e82f74d330",
   "metadata": {
    "tags": []
   },
   "outputs": [],
   "source": [
    "class Board:\n",
    "    def __init__(self, dobot):\n",
    "        self.dobot = dobot\n",
    "        self.R_ab = None\n",
    "        self.origin = None\n",
    "        self.tile_size = None\n",
    "        self.offset = None\n",
    "        self.coords_data = {'bc':[], 'dc':[]}\n",
    "        self.optimizer = Optimizer()\n",
    "    \n",
    "    def read_coords(self, num_of_points=3, rewrite_coords=False):\n",
    "        board_coords, dobot_coords = [], []\n",
    "        if not rewrite_coords:\n",
    "            board_coords, dobot_coords = self.coords_data['bc'], self.coords_data['dc']\n",
    "        self.coords_data['bc'] = board_coords\n",
    "        self.coords_data['dc'] = dobot_coords\n",
    "        delta = widgets.RadioButtons(options=['0.1 mm', '1 mm', '10 mm'],)\n",
    "        change_coords = [widgets.Button(description=descr) for descr in ['-X', '+X', '-Y', '+Y', '-Z', '+Z']]\n",
    "        record = widgets.Button(description='record (leave field empty to stop recording)')\n",
    "        inp = widgets.Text(description='coords on board (e.g. \"a2\")')\n",
    "        def stop_recording():\n",
    "            for button in change_coords + [record]:\n",
    "                button.disabled = True\n",
    "            print('stopped recording!')\n",
    "            \n",
    "        def on_click_record(b, temp={'num_of_points':num_of_points}):\n",
    "            if inp.value == '':\n",
    "                stop_recording()\n",
    "            else:\n",
    "                self.coords_data['bc'].append(inp.value)\n",
    "                inp.value = ''\n",
    "                self.coords_data['dc'].append(dType.GetPose(api)[:4])\n",
    "                temp['num_of_points'] -= 1\n",
    "                if not temp['num_of_points']:\n",
    "                    stop_recording()\n",
    "                    \n",
    "        def change_coord_on_click(b):\n",
    "            mask = {\n",
    "                'X': [1, 0, 0],\n",
    "                'Y': [0, 1, 0],\n",
    "                'Z': [0, 0, 1]\n",
    "            }[b.description[1]]\n",
    "            mask = np.array(mask, dtype=float)\n",
    "            mask *= -1 if b.description[0] == '-' else 1\n",
    "            mask *= [.1, 1, 10][delta.get_state()['index']]\n",
    "            self.dobot.move_to(*(self.dobot.get_xyz() + mask))\n",
    "        \n",
    "        record.on_click(on_click_record)\n",
    "        for button in change_coords:\n",
    "            button.on_click(change_coord_on_click)\n",
    "        display(delta, *change_coords, record, inp)\n",
    "    \n",
    "    def optimize(self):\n",
    "        self.optimizer.fit(\n",
    "            np.array(Optimizer.coords_from_chess_poses(self.coords_data['bc'])),\n",
    "            np.array(self.coords_data['dc'])[:, :2]\n",
    "        )\n",
    "        \n",
    "    def coord_from_board(self, board_xy: np.ndarray):\n",
    "        board_xy = np.array(board_xy, dtype=float)\n",
    "        return self.optimizer.transform(board_xy)"
   ]
  },
  {
   "cell_type": "code",
   "execution_count": 248,
   "id": "47a3c30b",
   "metadata": {
    "tags": []
   },
   "outputs": [],
   "source": [
    "class Dobot:\n",
    "    def __init__(self, com, copy_from=None, from_data=None):\n",
    "        self.com = com\n",
    "        self.connect()\n",
    "        self.pieces = Pieces(self)\n",
    "        self.board = Board(self)\n",
    "        if copy_from is not None:\n",
    "            self.copy(copy_from)\n",
    "        elif from_data is not None:\n",
    "            self.copy_data(data)\n",
    "    \n",
    "    def connect(self):\n",
    "        self.disconnect()\n",
    "        print(dType.ConnectDobot(api, self.com, 115200))\n",
    "        dType.SetQueuedCmdClear(api)\n",
    "        dType.SetQueuedCmdStartExec(api)\n",
    "        dType.SetHOMEParams(api, 200, 0, 200, 200, isQueued = 1)\n",
    "        dType.SetPTPJointParams(api, 200, 200, 200, 200, 200, 200, 200, 200, isQueued = 1)\n",
    "        dType.SetPTPCommonParams(api, 100, 100, isQueued = 1)\n",
    "    \n",
    "    def disconnect(self):\n",
    "        dType.DisconnectDobot(api)\n",
    "    \n",
    "    def __del__(self):\n",
    "        dType.DisconnectDobot(api)\n",
    "    \n",
    "    def reconnect(self):\n",
    "        self.connect()\n",
    "            \n",
    "    def copy(self, other_dobot):\n",
    "        try:\n",
    "            self.calibrate_pos(0)\n",
    "        except Exception as e:\n",
    "            print('exception, while trying to calibrate')\n",
    "        self.pieces = other_dobot.pieces\n",
    "        \n",
    "    def copy_data(self, data):\n",
    "        self.pieces = data['pieces']\n",
    "    \n",
    "    def move_to(self, x=None, y=None, z=None, j4_rot=None, timeout=.5):\n",
    "        x, y, z, j4_rot = [coord_orig if coord_orig is not None else coord_new \n",
    "                              for coord_orig, coord_new in zip((x, y, z, j4_rot), self.get_pos()[:4])]\n",
    "        for _ in range(2):\n",
    "            try:\n",
    "                dType.SetPTPCmd(api,\n",
    "                    dType.PTPMode.PTPMOVLXYZMode,\n",
    "                    x, y, z, j4_rot,\n",
    "                    isQueued = 1,\n",
    "                    timeout = timeout\n",
    "                )\n",
    "            except RuntimeError as e:\n",
    "                print(e)\n",
    "                reconnect()\n",
    "                time.sleep(.1)\n",
    "            else:\n",
    "                return\n",
    "        raise e\n",
    "    \n",
    "    def move_to_tile(self, board_xy, chess_piece=None, height=None, j4_rot=None):\n",
    "        dobot_xy = self.board.coord_from_board(board_xy)\n",
    "        cur_pos = self.get_pos()\n",
    "        if height is None:\n",
    "            if chess_piece is None:\n",
    "                height = cur_pos[2]\n",
    "            else:\n",
    "                height = self.pieces.get_height(chess_piece)\n",
    "        if j4_rot is None:\n",
    "            j4_rot = cur_pos[3]\n",
    "        self.move_to(*dobot_xy, height, j4_rot)\n",
    "    \n",
    "    def get_xyz(self):\n",
    "        return self.get_pos()[:3]\n",
    "    \n",
    "    def get_pos(self):\n",
    "        return np.array(dType.GetPose(api))\n",
    "    \n",
    "    def move_piece(self, from_coords, to_coords, piece):\n",
    "        trans_height = self.pieces.trans_height()\n",
    "        self.move_to(z=trans_height)\n",
    "        self.move_to_tile(from_coords, height=trans_height)\n",
    "        self.move_to_tile(from_coords, height=self.pieces.get_height(piece))\n",
    "        dType.SetEndEffectorSuctionCup(api, 1, 1, True)\n",
    "        time.sleep(3)\n",
    "        \n",
    "        self.move_to_tile(from_coords, height=trans_height)\n",
    "        self.move_to_tile(to_coords, height=trans_height)\n",
    "        self.move_to_tile(to_coords, height=self.pieces.get_height(piece))\n",
    "        dType.SetEndEffectorSuctionCup(api, 1, 0, True)\n",
    "        time.sleep(1)"
   ]
  },
  {
   "cell_type": "code",
   "execution_count": 263,
   "id": "fd95a41d-6b62-4df2-b2ce-a8428360ae54",
   "metadata": {},
   "outputs": [],
   "source": [
    "db.move_to_tile([4, 4])"
   ]
  },
  {
   "cell_type": "code",
   "execution_count": 195,
   "id": "8ed726b7",
   "metadata": {
    "tags": []
   },
   "outputs": [
    {
     "name": "stdout",
     "output_type": "stream",
     "text": [
      "[0, 2, 0, 'DobotSerial', '0.0.0', 25, 0, 0.0]\n"
     ]
    }
   ],
   "source": [
    "db = Dobot('COM6')"
   ]
  },
  {
   "cell_type": "code",
   "execution_count": 201,
   "id": "27b900f5-2600-4829-8183-2de96d3fab10",
   "metadata": {},
   "outputs": [
    {
     "name": "stdout",
     "output_type": "stream",
     "text": [
      "{'bc': ['h1', 'a1', 'd5'], 'dc': [[168.06251525878906, -108.178955078125, -63.15735626220703, -33.96176528930664], [167.61117553710938, 89.9608154296875, -63.85260009765625, 26.3892765045166], [285.451416015625, 7.739808559417725, -63.33761215209961, 0.045200467109680176]]}\n"
     ]
    }
   ],
   "source": [
    "# with open('coords.txt', 'w') as f:\n",
    "#     print(db.board.coords_data, file=f)\n",
    "#     print(db.board.coords_data)"
   ]
  },
  {
   "cell_type": "code",
   "execution_count": null,
   "id": "42d648ec-c604-4aa3-bf9e-0a20af2f2efc",
   "metadata": {
    "tags": []
   },
   "outputs": [],
   "source": [
    "dType.ClearAllAlarmsState(api)"
   ]
  },
  {
   "cell_type": "code",
   "execution_count": 278,
   "id": "6775c579-6670-4056-b2ce-3d8fb6e06183",
   "metadata": {
    "tags": []
   },
   "outputs": [
    {
     "name": "stdout",
     "output_type": "stream",
     "text": [
      "[0, 2, 0, 'DobotSerial', '0.0.0', 31, 0, 0.0]\n"
     ]
    }
   ],
   "source": [
    "db.reconnect()"
   ]
  },
  {
   "cell_type": "code",
   "execution_count": 196,
   "id": "f4fea642",
   "metadata": {
    "collapsed": true,
    "jupyter": {
     "outputs_hidden": true
    },
    "tags": []
   },
   "outputs": [
    {
     "data": {
      "application/vnd.jupyter.widget-view+json": {
       "model_id": "d5515ae4dbbf455888a7df226e611426",
       "version_major": 2,
       "version_minor": 0
      },
      "text/plain": [
       "RadioButtons(options=('0.1 mm', '1 mm', '10 mm'), value='0.1 mm')"
      ]
     },
     "metadata": {},
     "output_type": "display_data"
    },
    {
     "data": {
      "application/vnd.jupyter.widget-view+json": {
       "model_id": "0681d670914244bf8be9901c80ee5022",
       "version_major": 2,
       "version_minor": 0
      },
      "text/plain": [
       "Button(description='-X', style=ButtonStyle())"
      ]
     },
     "metadata": {},
     "output_type": "display_data"
    },
    {
     "data": {
      "application/vnd.jupyter.widget-view+json": {
       "model_id": "d07c4d41d6a64c65bc065ed23445e597",
       "version_major": 2,
       "version_minor": 0
      },
      "text/plain": [
       "Button(description='+X', style=ButtonStyle())"
      ]
     },
     "metadata": {},
     "output_type": "display_data"
    },
    {
     "data": {
      "application/vnd.jupyter.widget-view+json": {
       "model_id": "525432198e7a434393bba39e2026fe01",
       "version_major": 2,
       "version_minor": 0
      },
      "text/plain": [
       "Button(description='-Y', style=ButtonStyle())"
      ]
     },
     "metadata": {},
     "output_type": "display_data"
    },
    {
     "data": {
      "application/vnd.jupyter.widget-view+json": {
       "model_id": "335ceeff034544c1b0102ac86eabd08a",
       "version_major": 2,
       "version_minor": 0
      },
      "text/plain": [
       "Button(description='+Y', style=ButtonStyle())"
      ]
     },
     "metadata": {},
     "output_type": "display_data"
    },
    {
     "data": {
      "application/vnd.jupyter.widget-view+json": {
       "model_id": "fa7000b7e8d941a6a95602e045824c69",
       "version_major": 2,
       "version_minor": 0
      },
      "text/plain": [
       "Button(description='-Z', style=ButtonStyle())"
      ]
     },
     "metadata": {},
     "output_type": "display_data"
    },
    {
     "data": {
      "application/vnd.jupyter.widget-view+json": {
       "model_id": "e8c77456f3a742c38c38b6e5e7eca6a3",
       "version_major": 2,
       "version_minor": 0
      },
      "text/plain": [
       "Button(description='+Z', style=ButtonStyle())"
      ]
     },
     "metadata": {},
     "output_type": "display_data"
    },
    {
     "data": {
      "application/vnd.jupyter.widget-view+json": {
       "model_id": "f2082a70b5064270a39383da003c7ac9",
       "version_major": 2,
       "version_minor": 0
      },
      "text/plain": [
       "Button(description='record (leave field empty to stop recording)', style=ButtonStyle())"
      ]
     },
     "metadata": {},
     "output_type": "display_data"
    },
    {
     "data": {
      "application/vnd.jupyter.widget-view+json": {
       "model_id": "95cf700255c2476dac6f9dccb6838ce6",
       "version_major": 2,
       "version_minor": 0
      },
      "text/plain": [
       "Text(value='', description='coords on board (e.g. \"a2\")')"
      ]
     },
     "metadata": {},
     "output_type": "display_data"
    }
   ],
   "source": [
    "db.board.read_coords(5)"
   ]
  },
  {
   "cell_type": "code",
   "execution_count": 266,
   "id": "0bb1fdf7-af68-4e21-af09-88881ddf4f13",
   "metadata": {},
   "outputs": [],
   "source": [
    "t = db.pieces"
   ]
  },
  {
   "cell_type": "code",
   "execution_count": 276,
   "id": "a4985b38-9d7a-4fbe-8ec6-455ecf1db8ed",
   "metadata": {},
   "outputs": [],
   "source": [
    "db.pieces = Pieces(db).copy_from(t)"
   ]
  },
  {
   "cell_type": "code",
   "execution_count": 282,
   "id": "6701fd91-bbba-4e71-9e27-667046795871",
   "metadata": {},
   "outputs": [],
   "source": [
    "db.move_piece([4, 4], [7, 0], 'rook')"
   ]
  },
  {
   "cell_type": "code",
   "execution_count": 202,
   "id": "e7a40c3a-45c7-4d6b-aa1d-0c296be20c76",
   "metadata": {},
   "outputs": [
    {
     "name": "stdout",
     "output_type": "stream",
     "text": [
      "[[7. 0.]\n",
      " [0. 0.]\n",
      " [3. 4.]] [[ 168.06251526 -108.17895508]\n",
      " [ 167.61117554   89.96081543]\n",
      " [ 285.45141602    7.73980856]]\n"
     ]
    }
   ],
   "source": [
    "db.board.optimize()"
   ]
  },
  {
   "cell_type": "code",
   "execution_count": 14,
   "id": "b57598a1",
   "metadata": {},
   "outputs": [
    {
     "data": {
      "text/plain": [
       "28.015946013219935"
      ]
     },
     "execution_count": 14,
     "metadata": {},
     "output_type": "execute_result"
    }
   ],
   "source": [
    "dist(db.temp['dc'][0], db.temp['dc'][-1])/6"
   ]
  },
  {
   "cell_type": "code",
   "execution_count": 91,
   "id": "409ca98f",
   "metadata": {
    "collapsed": true,
    "jupyter": {
     "outputs_hidden": true
    }
   },
   "outputs": [
    {
     "data": {
      "text/plain": [
       "{'bc': ['e8', 'g7', 'd4', 'e2'],\n",
       " 'dc': [[267.1821594238281, -24.27154541015625],\n",
       "  [210.69607543945312, 5.0494513511657715],\n",
       "  [296.0400695800781, 87.86585235595703],\n",
       "  [269.6284484863281, 145.03778076171875]],\n",
       " 'j1': [-5.190655708312988,\n",
       "  1.3728630542755127,\n",
       "  16.53109359741211,\n",
       "  28.276569366455078]}"
      ]
     },
     "execution_count": 91,
     "metadata": {},
     "output_type": "execute_result"
    }
   ],
   "source": [
    "db.temp"
   ]
  },
  {
   "cell_type": "code",
   "execution_count": 23,
   "id": "c47db1b9",
   "metadata": {},
   "outputs": [
    {
     "data": {
      "text/plain": [
       "[59.70000076293945, 0.0, 0.0]"
      ]
     },
     "execution_count": 23,
     "metadata": {},
     "output_type": "execute_result"
    }
   ],
   "source": [
    "dType.GetEndEffectorParams(api)"
   ]
  },
  {
   "cell_type": "code",
   "execution_count": 43,
   "id": "3e882b73",
   "metadata": {},
   "outputs": [
    {
     "name": "stdout",
     "output_type": "stream",
     "text": [
      "[293.00394265 -41.00261997]\n",
      "[292.9919131  -41.00093657]\n",
      "-0.012146768922946194\n",
      "\n",
      "[191.0431116  77.1240676]\n",
      "[189.79341002  76.61956331]\n",
      "-1.3476938230176643\n",
      "\n",
      "[277.61739522 126.08375106]\n",
      "[278.45726985 126.46519165]\n",
      "0.9224349886359846\n",
      "\n"
     ]
    }
   ],
   "source": [
    "for i in range(3):\n",
    "    vec = db.dobot_xy_from_board_xy(db.temp['bc'][i])\n",
    "    print(vec)\n",
    "    print(vec*(length(db.temp['dc'][i])/length(vec)))\n",
    "    print(length(db.temp['dc'][i]) - length(vec))\n",
    "    print()"
   ]
  },
  {
   "cell_type": "code",
   "execution_count": 15,
   "id": "d0c7a020",
   "metadata": {},
   "outputs": [
    {
     "name": "stdout",
     "output_type": "stream",
     "text": [
      "[[-0.99731327 -0.0732546 ]\n",
      " [ 0.0732546  -0.99731327]]\n",
      "[13.70218526  6.29568487]\n",
      "28.22\n",
      "0\n"
     ]
    }
   ],
   "source": [
    "db.calibrate_pos(method=0)"
   ]
  },
  {
   "cell_type": "code",
   "execution_count": 20,
   "id": "e84028fb",
   "metadata": {},
   "outputs": [],
   "source": [
    "data['temp'] = {'bc': ['c4', 'h3', 'h7', 'a6', 'b5'],\n",
    " 'dc': [[259.0032653808594, -46.066925048828125],\n",
    "  [284.808349609375, 94.43470001220703],\n",
    "  [177.1175994873047, 97.26470184326172],\n",
    "  [204.3495330810547, -105.91143798828125],\n",
    "  [231.33233642578125, -75.40081787109375]],\n",
    " 'j1': [-10.085293769836426,\n",
    "  18.344118118286133,\n",
    "  28.773529052734375,\n",
    "  -27.397058486938477,\n",
    "  -18.052940368652344]}"
   ]
  },
  {
   "cell_type": "code",
   "execution_count": 42,
   "id": "22534c9b",
   "metadata": {},
   "outputs": [
    {
     "name": "stdout",
     "output_type": "stream",
     "text": [
      "pawn\n",
      "pawn\n",
      "\n",
      "pawn\n",
      "pawn\n",
      "\n",
      "king\n",
      "king\n",
      "\n",
      "king\n",
      "king\n"
     ]
    }
   ],
   "source": [
    "db.move_piece('e2', 'e4', 'pawn')\n",
    "input()\n",
    "db.move_piece('e7', 'e5', 'pawn')\n",
    "input()\n",
    "db.move_piece('e1', 'e2', 'king')\n",
    "input()\n",
    "db.move_piece('e8', 'e7', 'king')"
   ]
  },
  {
   "cell_type": "code",
   "execution_count": 38,
   "id": "2b238958",
   "metadata": {},
   "outputs": [
    {
     "name": "stdout",
     "output_type": "stream",
     "text": [
      "king\n",
      "king\n"
     ]
    }
   ],
   "source": [
    "db.move_piece('e8', 'e7', 'king')"
   ]
  },
  {
   "cell_type": "code",
   "execution_count": 47,
   "id": "25cdd3b8",
   "metadata": {},
   "outputs": [
    {
     "data": {
      "text/plain": [
       "{'bc': ['e8', 'g7', 'd4', 'h1'],\n",
       " 'dc': [[266.4316101074219, -17.031978607177734],\n",
       "  [212.35418701171875, 9.959300994873047],\n",
       "  [295.51904296875, 88.67515563964844],\n",
       "  [187.85848999023438, 170.5806427001953]],\n",
       " 'j1': [-3.6577281951904297,\n",
       "  2.6851744651794434,\n",
       "  16.702701568603516,\n",
       "  42.24030685424805]}"
      ]
     },
     "execution_count": 47,
     "metadata": {},
     "output_type": "execute_result"
    }
   ],
   "source": [
    "db.temp"
   ]
  },
  {
   "cell_type": "code",
   "execution_count": 48,
   "id": "c44330ac",
   "metadata": {},
   "outputs": [],
   "source": [
    "with open('coords.pickle', 'wb') as f:\n",
    "    pickle.dump({'temp':db.temp, 'zero_height':db.zero_height, 'heights':db.pieces_heights}, f)"
   ]
  },
  {
   "cell_type": "code",
   "execution_count": 46,
   "id": "861b1177",
   "metadata": {
    "collapsed": true,
    "jupyter": {
     "outputs_hidden": true
    }
   },
   "outputs": [
    {
     "name": "stdout",
     "output_type": "stream",
     "text": [
      "\n",
      "\n",
      "\n",
      "\n",
      "\n",
      "\n",
      "\n",
      "\n",
      "\n",
      "q\n"
     ]
    }
   ],
   "source": [
    "positions = []\n",
    "while input() != 'q':\n",
    "    positions.append(dType.GetPose(api))\n",
    "with open('positions_to_check', 'wb') as f:\n",
    "    pickle.dump({'coords':positions, 'offset': dType.GetEndEffectorParams(api)}, f)"
   ]
  }
 ],
 "metadata": {
  "kernelspec": {
   "display_name": "Python 3.9 (XPython)",
   "language": "python",
   "name": "xpython"
  },
  "language_info": {
   "file_extension": ".py",
   "mimetype": "text/x-python",
   "name": "python",
   "version": "3.9.10"
  }
 },
 "nbformat": 4,
 "nbformat_minor": 5
}
