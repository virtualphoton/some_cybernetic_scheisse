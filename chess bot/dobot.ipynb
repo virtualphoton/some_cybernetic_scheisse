{
 "cells": [
  {
   "cell_type": "code",
   "execution_count": 2,
   "id": "ce28e535",
   "metadata": {},
   "outputs": [],
   "source": [
    "import sys\n",
    "dll_path = r'C:\\Users\\st087829\\PycharmProjects\\some_cybernetic_scheisse\\dobot_lib'\n",
    "sys.path.insert(1,dll_path)\n",
    "import DobotDllType as dType\n",
    "from math import pi\n",
    "import numpy as np\n",
    "import time"
   ]
  },
  {
   "cell_type": "code",
   "execution_count": 4,
   "id": "7651f992",
   "metadata": {},
   "outputs": [
    {
     "name": "stdout",
     "output_type": "stream",
     "text": [
      "The dll you are using is 64-bit. In order to run smoothly, please ensure that your python environment is also 64-bit.\n",
      "The python environment is： ('64bit', 'WindowsPE')\n"
     ]
    }
   ],
   "source": [
    "com = 'COM4'\n",
    "api = dType.load(dll_path)"
   ]
  },
  {
   "cell_type": "code",
   "execution_count": 7,
   "id": "4a0f128a",
   "metadata": {},
   "outputs": [
    {
     "name": "stdout",
     "output_type": "stream",
     "text": [
      "Connect status: 0\n"
     ]
    }
   ],
   "source": [
    "state = dType.ConnectDobot(api, \"\", 115200)[0]\n",
    "print(\"Connect status:\", state)\n",
    "#if (state == dType.DobotConnect.DobotConnect_NoError):\n",
    "    #Dobot interactive codes\n",
    "#dType.DisconnectDobot(api)"
   ]
  },
  {
   "cell_type": "code",
   "execution_count": 6,
   "id": "611b1cdb",
   "metadata": {},
   "outputs": [],
   "source": [
    "dType.DisconnectDobot(api)"
   ]
  },
  {
   "cell_type": "code",
   "execution_count": 8,
   "id": "d7995013",
   "metadata": {},
   "outputs": [],
   "source": [
    "dType.SetQueuedCmdClear(api)\n",
    "dType.SetQueuedCmdStartExec(api)"
   ]
  },
  {
   "cell_type": "code",
   "execution_count": 9,
   "id": "09eca594",
   "metadata": {},
   "outputs": [
    {
     "data": {
      "text/plain": [
       "[4]"
      ]
     },
     "execution_count": 9,
     "metadata": {},
     "output_type": "execute_result"
    }
   ],
   "source": [
    "dType.SetHOMEParams(api, 200, 200, 200, 200, isQueued = 1)\n",
    "dType.SetPTPJointParams(api, 200, 200, 200, 200, 200, 200, 200, 200, isQueued = 1)\n",
    "dType.SetPTPCommonParams(api, 100, 100, isQueued = 1)"
   ]
  },
  {
   "cell_type": "code",
   "execution_count": 30,
   "id": "8c3ff194",
   "metadata": {},
   "outputs": [],
   "source": [
    "def move_xy_pixel(xy, r_ab, o_o1, l, j4_rot=-25+45, z=10):\n",
    "    pixel_tile_size = 45\n",
    "    pixel_center = np.array([1280//2, 360-pixel_tile_size//2])\n",
    "    xy_on_board = (np.array(xy) - pixel_center)*np.array([-1, \n",
    "                                                          1])/pixel_tile_size + np.array([3.5, 3.5])\n",
    "    print(xy_on_board)\n",
    "    move_to_tile(xy_on_board, r_ab, o_o1, l, j4_rot, z)\n",
    "    "
   ]
  },
  {
   "cell_type": "code",
   "execution_count": 11,
   "id": "57c760a5",
   "metadata": {},
   "outputs": [],
   "source": [
    "def move_to_tile(xy_tile, r_ab, o_o1, l, j4_rot=-25+45, z=10):\n",
    "    xy_tile = np.array(xy_tile)\n",
    "    robot_coords = r_ab@xy_tile*l + o_o1\n",
    "    \n",
    "    dType.SetPTPCmd(api,\n",
    "        dType.PTPMode.PTPMOVLXYZMode,\n",
    "        robot_coords[0],\n",
    "        robot_coords[1],\n",
    "        z,\n",
    "        j4_rot,\n",
    "        isQueued=1\n",
    "    )"
   ]
  },
  {
   "cell_type": "code",
   "execution_count": 48,
   "id": "0d071e9c",
   "metadata": {},
   "outputs": [
    {
     "name": "stdout",
     "output_type": "stream",
     "text": [
      "[3.01111111 3.96666667]\n"
     ]
    }
   ],
   "source": [
    "move_xy_pixel([662, 359], r_ab, o_o1, r)"
   ]
  },
  {
   "cell_type": "code",
   "execution_count": 42,
   "id": "96147eea",
   "metadata": {},
   "outputs": [],
   "source": [
    "move_to_tile([0, 0], r_ab, o_o1, r, z=-70)"
   ]
  },
  {
   "cell_type": "code",
   "execution_count": 219,
   "id": "f6060891",
   "metadata": {},
   "outputs": [
    {
     "data": {
      "text/plain": [
       "-7.301727294921875"
      ]
     },
     "execution_count": 219,
     "metadata": {},
     "output_type": "execute_result"
    }
   ],
   "source": [
    "dType.GetPose(api)[2]"
   ]
  },
  {
   "cell_type": "code",
   "execution_count": 217,
   "id": "52341a64",
   "metadata": {},
   "outputs": [
    {
     "data": {
      "text/plain": [
       "[175]"
      ]
     },
     "execution_count": 217,
     "metadata": {},
     "output_type": "execute_result"
    }
   ],
   "source": [
    "dType.SetEndEffectorGripper(api, 1, 1, isQueued=1)"
   ]
  },
  {
   "cell_type": "code",
   "execution_count": 57,
   "id": "d1648495",
   "metadata": {},
   "outputs": [],
   "source": [
    "from math import dist\n",
    "from itertools import combinations, islice\n",
    "\n",
    "def coords_from_chess_pos(pos):\n",
    "    # from chess pos (e.g. 'e4') into local chess coords\n",
    "    # letters - xi axis, numbers - eta. Origin at center of a1\n",
    "    assert len(pos) == 2\n",
    "    char, num = pos.lower()\n",
    "    xi = ord(char) - ord('a')\n",
    "    eta = int(num) - 1\n",
    "    return xi, eta\n",
    "\n",
    "def find_intersections(o1, r1, o2, r2, eps=.1):\n",
    "    # finds intersection points of 2 circles\n",
    "    # if no intersection, raises exception\n",
    "    o1, o2 = numpify(o1, o2)\n",
    "    d = dist(o1, o2)\n",
    "    assert d <= r1+r2\n",
    "    assert d > eps\n",
    "    a = (r1**2-r2**2+d**2)/(2*d)\n",
    "    h = (r1**2 - a**2)**.5\n",
    "    P = (o2-o1)*a/d+o1\n",
    "    perp_ = perp(o2-o1)\n",
    "    I1, I2 = P+h*perp_, P-h*perp_\n",
    "    return I1, I2\n",
    "\n",
    "def norm(vec):\n",
    "    return np.array(vec)/length(vec)\n",
    "\n",
    "def perp(vec):\n",
    "    return norm(vec)[::-1]*np.array([-1,1])\n",
    "\n",
    "def length(vec):\n",
    "    return dist(vec, [0]*len(vec))\n",
    "\n",
    "def numpify(*args):\n",
    "    arrays = [0]*len(args)\n",
    "    for i, arg in enumerate(args):\n",
    "        arrays[i] = arg if isinstance(arg, np.ndarray) else np.array(arg)\n",
    "    return arrays\n",
    "\n",
    "def find_circles(A_b, B_b, A_d, B_d):\n",
    "    # find center and radius of circle, given coords in board frame and dobot frame\n",
    "    # returns o1, o2, r\n",
    "    A_b, B_b, A_d, B_d = numpify(A_b, B_b, A_d, B_d)\n",
    "    a = length(A_d)\n",
    "    b = length(B_d)\n",
    "    c = length(A_d - B_d)\n",
    "    cos_alpha = (a**2+b**2-c**2)/2/a/b\n",
    "    sin_alpha = (1-cos_alpha**2)**.5\n",
    "    AB_b = B_b-A_b\n",
    "    l = length(AB_b)\n",
    "    r = l/2/sin_alpha\n",
    "    normal = r*cos_alpha*perp(AB_b)\n",
    "    M = (A_b+B_b)/2\n",
    "    o1, o2 = M+normal, M-normal\n",
    "    return o1, o2, r\n",
    "\n",
    "def count_coincides(A, points, eps = .1):\n",
    "    return len([0 for point in points if dist(A, point) < eps])\n",
    "\n",
    "def is_clockwise(vec1, vec2):\n",
    "    # finds if vec2 is rotated clockwise from vec1\n",
    "    cross = vec1[0]*vec2[1] - vec1[1]*vec2[0]\n",
    "    assert cross != 0\n",
    "    return cross < 0\n",
    "\n",
    "def find_center(board_coords, dobot_coords):\n",
    "    # find center, given coords of 3 points\n",
    "    # points go clockwise, relative to dobot and all have different angle for 1st joint\n",
    "    assert len(board_coords) == len(dobot_coords) == 3\n",
    "    circles = []\n",
    "    board_coords = list(map(coords_from_chess_pos, board_coords))\n",
    "    for i, j in combinations([0,1,2], 2):\n",
    "        o1, o2, r = find_circles(board_coords[i], board_coords[j], dobot_coords[i], dobot_coords[j])\n",
    "        circles.extend(([o1, r], [o2, r]))\n",
    "    inters = []\n",
    "    for circ1, circ2 in combinations(circles, 2):\n",
    "        inters.extend(find_intersections(*circ1, *circ2))\n",
    "    centers = [p for p in inters if count_coincides(p, inters) == 3]\n",
    "    c0 = centers[0]\n",
    "    eps = .1\n",
    "    for c in centers:\n",
    "        if dist(c0, c) > eps:\n",
    "            c1 = c\n",
    "            break\n",
    "    if is_clockwise(board_coords[0] - c0, board_coords[1] - c0):\n",
    "        return c0\n",
    "    else:\n",
    "        return c1"
   ]
  },
  {
   "cell_type": "code",
   "execution_count": 58,
   "id": "d2feb580",
   "metadata": {},
   "outputs": [
    {
     "data": {
      "text/plain": [
       "array([6., 2.])"
      ]
     },
     "execution_count": 58,
     "metadata": {},
     "output_type": "execute_result"
    }
   ],
   "source": [
    "find_center(['b2', 'd3', 'b5'],[[5, 1], [3, 0], [5, -2]])"
   ]
  },
  {
   "cell_type": "code",
   "execution_count": 4,
   "id": "3d507198",
   "metadata": {},
   "outputs": [],
   "source": [
    "a = np.array([1,2])"
   ]
  },
  {
   "cell_type": "code",
   "execution_count": 30,
   "id": "c51aa05c",
   "metadata": {},
   "outputs": [
    {
     "data": {
      "text/plain": [
       "[2, 3]"
      ]
     },
     "execution_count": 30,
     "metadata": {},
     "output_type": "execute_result"
    }
   ],
   "source": [
    "list(itertools.islice([1,2,3], 1, None))"
   ]
  },
  {
   "cell_type": "code",
   "execution_count": 6,
   "id": "39028071",
   "metadata": {},
   "outputs": [
    {
     "data": {
      "text/plain": [
       "True"
      ]
     },
     "execution_count": 6,
     "metadata": {},
     "output_type": "execute_result"
    }
   ],
   "source": [
    "isinstance(a, np.ndarray)"
   ]
  },
  {
   "cell_type": "code",
   "execution_count": 5,
   "id": "281c25ff",
   "metadata": {},
   "outputs": [
    {
     "data": {
      "text/plain": [
       "numpy.ndarray"
      ]
     },
     "execution_count": 5,
     "metadata": {},
     "output_type": "execute_result"
    }
   ],
   "source": [
    "type(a)"
   ]
  },
  {
   "cell_type": "code",
   "execution_count": 12,
   "id": "14085577",
   "metadata": {},
   "outputs": [],
   "source": [
    "delta_h = 50\n",
    "def pick_up():\n",
    "    dType.SetPTPCmd(api,\n",
    "        dType.PTPMode.PTPMOVLXYZMode,\n",
    "        *dType.GetPose(api)[:2],\n",
    "        dType.GetPose(api)[2]-delta_h,\n",
    "        dType.GetPose(api)[3],\n",
    "        isQueued=1\n",
    "    )\n",
    "    dType.SetEndEffectorGripper(api, 1, 1, isQueued=1)\n",
    "    time.sleep(2)\n",
    "    dType.SetPTPCmd(api,\n",
    "        dType.PTPMode.PTPMOVLXYZMode,\n",
    "        *dType.GetPose(api)[:2],\n",
    "        dType.GetPose(api)[2]+delta_h,\n",
    "        dType.GetPose(api)[3],\n",
    "        isQueued=1\n",
    "    )\n",
    "\n",
    "def put_down():\n",
    "    dType.SetPTPCmd(api,\n",
    "        dType.PTPMode.PTPMOVLXYZMode,\n",
    "        *dType.GetPose(api)[:2],\n",
    "        dType.GetPose(api)[2]-delta_h,\n",
    "        dType.GetPose(api)[3],\n",
    "        isQueued=1\n",
    "    )\n",
    "    dType.SetEndEffectorGripper(api, 1, 0, isQueued=1)\n",
    "    time.sleep(2)\n",
    "    dType.SetPTPCmd(api,\n",
    "        dType.PTPMode.PTPMOVLXYZMode,\n",
    "        *dType.GetPose(api)[:2],\n",
    "        dType.GetPose(api)[2]+delta_h,\n",
    "        dType.GetPose(api)[3],\n",
    "        isQueued=1\n",
    "    )"
   ]
  },
  {
   "cell_type": "code",
   "execution_count": 223,
   "id": "c9e30962",
   "metadata": {},
   "outputs": [
    {
     "data": {
      "text/plain": [
       "[180]"
      ]
     },
     "execution_count": 223,
     "metadata": {},
     "output_type": "execute_result"
    }
   ],
   "source": [
    "dType.SetPTPCmd(api,\n",
    "    dType.PTPMode.PTPMOVLXYZMode,\n",
    "    dType.GetPose(api)[0],\n",
    "    dType.GetPose(api)[1],\n",
    "    dType.GetPose(api)[2]-1,\n",
    "    dType.GetPose(api)[3],\n",
    "    isQueued=1\n",
    ")"
   ]
  },
  {
   "cell_type": "code",
   "execution_count": 240,
   "id": "77ce5a9f",
   "metadata": {},
   "outputs": [
    {
     "data": {
      "text/plain": [
       "[197]"
      ]
     },
     "execution_count": 240,
     "metadata": {},
     "output_type": "execute_result"
    }
   ],
   "source": [
    "dType.SetPTPCmd(api,\n",
    "    dType.PTPMode.PTPMOVLANGLEMode,\n",
    "    *dType.GetPose(api)[4:7],\n",
    "    dType.GetPose(api)[7]-20,\n",
    "    isQueued=1\n",
    ")"
   ]
  },
  {
   "cell_type": "code",
   "execution_count": 45,
   "id": "185a8632",
   "metadata": {},
   "outputs": [],
   "source": [
    "def calibrate():\n",
    "    delta = 4\n",
    "    y1 = 5\n",
    "    input('Move to a6 then press Enter')\n",
    "    p1 = np.array(dType.GetPose(api)[:2])  # A\n",
    "    input('Move to a2 then press Enter')\n",
    "    p2 = np.array(dType.GetPose(api)[:2])  # B\n",
    "    l = sum((p1-p2)**2)**.5/delta\n",
    "    \n",
    "    mb, a = (p1-p2)/(delta*l)\n",
    "    R_ab = np.array([[a,   mb],\n",
    "                     [-mb, a]])\n",
    "    o_o1 = p1-R_ab@np.array([0, y1*l])\n",
    "    return R_ab, o_o1, l"
   ]
  },
  {
   "cell_type": "code",
   "execution_count": 46,
   "id": "9011a489",
   "metadata": {},
   "outputs": [
    {
     "name": "stdout",
     "output_type": "stream",
     "text": [
      "Move to a6 then press Enter\n",
      "Move to a2 then press Enter\n"
     ]
    }
   ],
   "source": [
    "r_ab, o_o1, r = calibrate()"
   ]
  },
  {
   "cell_type": "code",
   "execution_count": 47,
   "id": "e57160c9",
   "metadata": {},
   "outputs": [
    {
     "data": {
      "text/plain": [
       "26.609117460944162"
      ]
     },
     "execution_count": 47,
     "metadata": {},
     "output_type": "execute_result"
    }
   ],
   "source": [
    "r"
   ]
  }
 ],
 "metadata": {
  "kernelspec": {
   "display_name": "Python 3 (ipykernel)",
   "language": "python",
   "name": "python3"
  },
  "language_info": {
   "codemirror_mode": {
    "name": "ipython",
    "version": 3
   },
   "file_extension": ".py",
   "mimetype": "text/x-python",
   "name": "python",
   "nbconvert_exporter": "python",
   "pygments_lexer": "ipython3",
   "version": "3.9.7"
  }
 },
 "nbformat": 4,
 "nbformat_minor": 5
}
